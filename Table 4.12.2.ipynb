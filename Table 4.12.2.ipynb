{
 "cells": [
  {
   "cell_type": "markdown",
   "metadata": {},
   "source": [
    "Table 4.12.2: Number of children living with individuals starting treatment 2017-18"
   ]
  },
  {
   "cell_type": "code",
   "execution_count": 1,
   "metadata": {
    "collapsed": true
   },
   "outputs": [],
   "source": [
    "from gssutils import *\n",
    "\n",
    "if is_interactive():\n",
    "    scraper = Scraper('https://www.gov.uk/government/collections/alcohol-and-drug-misuse-and-treatment-statistics')\n",
    "    scraper.select_dataset(title=lambda x: x.startswith('Substance misuse treatment for adults'), latest=True)\n",
    "    tabs = {tab.name: tab for tab in scraper.distribution(title=lambda x: x.startswith('Data tables')).as_databaker()}"
   ]
  },
  {
   "cell_type": "code",
   "execution_count": 2,
   "metadata": {
    "collapsed": true
   },
   "outputs": [],
   "source": [
    "tab = tabs['Table 4.12.2']"
   ]
  },
  {
   "cell_type": "markdown",
   "metadata": {},
   "source": [
    "https://assets.publishing.service.gov.uk/government/uploads/system/uploads/attachment_data/file/752515/AdultSubstanceMisuseNDTMSDataTables2017-18.xlsx"
   ]
  },
  {
   "cell_type": "code",
   "execution_count": 3,
   "metadata": {
    "collapsed": true
   },
   "outputs": [],
   "source": [
    "cell = tab.filter('Number of children')\n",
    "observations = tab.filter('Total').fill(DOWN).is_not_blank().is_not_whitespace().is_number()\n",
    "children = cell.expand(DOWN).is_not_blank().is_not_whitespace()\n",
    "Clients = cell.expand(RIGHT).is_not_blank().is_not_whitespace().is_not_number()\n",
    "Dimensions = [\n",
    "            HDim(children,'Treatment group',DIRECTLY,LEFT),\n",
    "            HDim(Clients,'Clients in treatment',CLOSEST,LEFT),\n",
    "            HDimConst('Measure Type','Count'),\n",
    "            HDimConst('Unit','Clients in treatment'),\n",
    "            HDimConst('Period', '2018-03-31T00:00:00/P1Y'),\n",
    "            HDimConst('Basis of treatment','number of children')\n",
    "            ]"
   ]
  },
  {
   "cell_type": "code",
   "execution_count": 4,
   "metadata": {},
   "outputs": [
    {
     "data": {
      "text/html": [
       "<div id=\"injblock1001\">\n",
       "<style>\n",
       "table.ex, table.exkey { border: thin black solid }\n",
       "table.ex td, table.ex tr { border: none }\n",
       "table.ex td:hover { border: thin blue solid }\n",
       "table.ex td.excOBS:hover { border: thin red solid }\n",
       "table.ex td.selected { border: thick red solid }\n",
       "</style>\n",
       "\n",
       "\n",
       "<table class=\"exkey\">\n",
       "<tr><td class=\"xc0\" style=\"background-color:Aqua\">OBS</td><td class=\"xc1\" style=\"background-color:LightGreen\">Treatment group</td><td class=\"xc2\" style=\"background-color:MistyRose\">Clients in treatment</td></tr></table>\n",
       "\n",
       "<table class=\"ex\">\n",
       "<caption style=\"text-align:center; padding:0px; caption-side:bottom\">Table 4.12.2</caption>\n",
       "<tr><td title=\"0 0\">Table 4.12.2: Number of children living with individuals starting treatment 2017-18</td><td title=\"1 0\"></td><td title=\"2 0\"></td><td title=\"3 0\"></td><td title=\"4 0\"></td><td title=\"5 0\"></td><td title=\"6 0\"></td><td title=\"7 0\"></td><td title=\"8 0\"></td><td title=\"9 0\"></td><td title=\"10 0\"></td></tr>\n",
       "<tr><td title=\"0 1\"></td><td title=\"1 1\"></td><td title=\"2 1\"></td><td title=\"3 1\"></td><td title=\"4 1\"></td><td title=\"5 1\"></td><td title=\"6 1\"></td><td title=\"7 1\"></td><td title=\"8 1\"></td><td title=\"9 1\"></td><td title=\"10 1\"></td></tr>\n",
       "<tr><td title=\"0 2\">Link back to the index</td><td title=\"1 2\"></td><td title=\"2 2\"></td><td title=\"3 2\"></td><td title=\"4 2\"></td><td title=\"5 2\"></td><td title=\"6 2\"></td><td title=\"7 2\"></td><td title=\"8 2\"></td><td title=\"9 2\"></td><td title=\"10 2\"></td></tr>\n",
       "<tr><td style=\"background-color:MistyRose\" title=\"0 3\">Number of children</td><td style=\"background-color:MistyRose\" title=\"1 3\">Opiate</td><td style=\"background-color:MistyRose\" title=\"2 3\">Non-opiate only</td><td style=\"background-color:MistyRose\" title=\"3 3\">Non-opiate and Alcohol</td><td style=\"background-color:MistyRose\" title=\"4 3\">Alcohol only</td><td style=\"background-color:MistyRose\" title=\"5 3\">Total</td><td title=\"6 3\"></td><td title=\"7 3\"></td><td title=\"8 3\"></td><td title=\"9 3\"></td><td title=\"10 3\"></td></tr>\n",
       "<tr><td title=\"0 4\"></td><td title=\"1 4\">Total</td><td title=\"2 4\">Total</td><td title=\"3 4\">Total</td><td title=\"4 4\">Total</td><td title=\"5 4\">Total</td><td title=\"6 4\"></td><td title=\"7 4\"></td><td title=\"8 4\"></td><td title=\"9 4\"></td><td title=\"10 4\"></td></tr>\n",
       "<tr><td style=\"background-color:MistyRose\" title=\"0 5\">Number of children</td><td style=\"background-color:Aqua\" title=\"1 5\">10328.0</td><td style=\"background-color:Aqua\" title=\"2 5\">7424.0</td><td style=\"background-color:Aqua\" title=\"3 5\">7453.0</td><td style=\"background-color:Aqua\" title=\"4 5\">20904.0</td><td style=\"background-color:Aqua\" title=\"5 5\">46109.0</td><td title=\"6 5\"></td><td title=\"7 5\"></td><td title=\"8 5\"></td><td title=\"9 5\"></td><td title=\"10 5\"></td></tr>\n",
       "<tr><td style=\"background-color:LightGreen\" title=\"0 6\">Number of individuals living with children</td><td style=\"background-color:Aqua\" title=\"1 6\">5597.0</td><td style=\"background-color:Aqua\" title=\"2 6\">4020.0</td><td style=\"background-color:Aqua\" title=\"3 6\">4009.0</td><td style=\"background-color:Aqua\" title=\"4 6\">11967.0</td><td style=\"background-color:Aqua\" title=\"5 6\">25593.0</td><td title=\"6 6\"></td><td title=\"7 6\"></td><td title=\"8 6\"></td><td title=\"9 6\"></td><td title=\"10 6\"></td></tr>\n",
       "<tr><td style=\"background-color:LightGreen\" title=\"0 7\">Average number of children living with people in treatment</td><td style=\"background-color:Aqua\" title=\"1 7\">1.84527425406468</td><td style=\"background-color:Aqua\" title=\"2 7\">1.84676616915423</td><td style=\"background-color:Aqua\" title=\"3 7\">1.85906709902719</td><td style=\"background-color:Aqua\" title=\"4 7\">1.74680371020306</td><td style=\"background-color:Aqua\" title=\"5 7\">1.80162544445747</td><td title=\"6 7\"></td><td title=\"7 7\"></td><td title=\"8 7\"></td><td title=\"9 7\"></td><td title=\"10 7\"></td></tr>\n",
       "<tr><td title=\"0 8\"></td><td title=\"1 8\"></td><td title=\"2 8\"></td><td title=\"3 8\"></td><td title=\"4 8\"></td><td title=\"5 8\"></td><td title=\"6 8\"></td><td title=\"7 8\"></td><td title=\"8 8\"></td><td title=\"9 8\"></td><td title=\"10 8\"></td></tr>\n",
       "<tr><td style=\"background-color:LightGreen\" title=\"0 9\">*Percentages may equal 0% or not sum to 100% due to rounding</td><td title=\"1 9\"></td><td title=\"2 9\"></td><td title=\"3 9\"></td><td title=\"4 9\"></td><td title=\"5 9\"></td><td title=\"6 9\"></td><td title=\"7 9\"></td><td title=\"8 9\"></td><td title=\"9 9\"></td><td title=\"10 9\"></td></tr>\n",
       "</table>\n",
       "\n",
       "</div>\n",
       "\n",
       "<script>\n",
       "var jslookup = {\"4 5\":[0,5,4,3],\"1 5\":[0,5,1,3],\"4 6\":[0,6,4,3],\"2 6\":[0,6,2,3],\"3 6\":[0,6,3,3],\"5 7\":[0,7,5,3],\"3 5\":[0,5,3,3],\"5 5\":[0,5,5,3],\"3 7\":[0,7,3,3],\"2 5\":[0,5,2,3],\"1 6\":[0,6,1,3],\"4 7\":[0,7,4,3],\"2 7\":[0,7,2,3],\"1 7\":[0,7,1,3],\"5 6\":[0,6,5,3]}; \n",
       "var jdividNUM = \"injblock1001\"; \n",
       "var Dclickedcell = null; \n",
       "function clickedcell() \n",
       "{ \n",
       "    Dclickedcell = this; \n",
       "    console.log(\"jjjj\", this); \n",
       "    var rgc = new RegExp('(^|\\b)' + \"selected\".split(' ').join('|') + '(\\b|$)', 'gi'); \n",
       "    Array.prototype.forEach.call(document.querySelectorAll(\"div#\"+jdividNUM+\" table.ex td.selected\"), function(el, i) { \n",
       "        if (el.classList)  el.classList.remove(\"selected\");\n",
       "        else  el.className = el.className.replace(rgc, ' ');\n",
       "    }); \n",
       "    if (this.classList)  this.classList.add(\"selected\");\n",
       "    else this.className += ' ' + \"selected\";\n",
       "\n",
       "    var dimpairs = jslookup[this.title]; \n",
       "    if (dimpairs !== undefined) {\n",
       "        for (var i = 1; i < dimpairs.length; i += 2) {\n",
       "            var row = document.querySelectorAll(\"div#\"+jdividNUM+\" table.ex tr\")[dimpairs[i]]; \n",
       "            var el = row.querySelectorAll(\"td\")[dimpairs[i-1]]; \n",
       "            if (el.classList)  el.classList.add(\"selected\");\n",
       "            else el.className += ' ' + \"selected\";\n",
       "        }\n",
       "    }\n",
       "}\n",
       "Array.prototype.forEach.call(document.querySelectorAll(\"div#\"+jdividNUM+\" table.ex td\"), function(item, i) { item.onclick=clickedcell; }); \n",
       "</script>\n"
      ],
      "text/plain": [
       "<IPython.core.display.HTML object>"
      ]
     },
     "metadata": {},
     "output_type": "display_data"
    }
   ],
   "source": [
    "c1 = ConversionSegment(observations, Dimensions, processTIMEUNIT=True)\n",
    "if is_interactive():\n",
    "    savepreviewhtml(c1)"
   ]
  },
  {
   "cell_type": "code",
   "execution_count": 5,
   "metadata": {},
   "outputs": [
    {
     "name": "stdout",
     "output_type": "stream",
     "text": [
      "\n"
     ]
    }
   ],
   "source": [
    "new_table = c1.topandas()"
   ]
  },
  {
   "cell_type": "code",
   "execution_count": 6,
   "metadata": {
    "collapsed": true
   },
   "outputs": [],
   "source": [
    "import numpy as np\n",
    "new_table['OBS'].replace('', np.nan, inplace=True)\n",
    "new_table.dropna(subset=['OBS'], inplace=True)\n",
    "new_table.rename(columns={'OBS': 'Value'}, inplace=True)\n",
    "new_table['Value'] = new_table['Value'].astype(int)\n",
    "new_table['Value'] = new_table['Value'].map(lambda x:''\n",
    "                                  if (x == '-')\n",
    "                                  else int(x))"
   ]
  },
  {
   "cell_type": "code",
   "execution_count": 7,
   "metadata": {
    "collapsed": true
   },
   "outputs": [],
   "source": [
    "new_table['Treatment group'] = new_table['Treatment group'].map(\n",
    "    lambda x: {\n",
    "        'Number of children' : 'Number of children living with people in treatment',\n",
    "        'Number of individuals living with children' : 'Number of clients living with children'\n",
    "        }.get(x, x))"
   ]
  },
  {
   "cell_type": "code",
   "execution_count": 8,
   "metadata": {
    "collapsed": true
   },
   "outputs": [],
   "source": [
    "new_table = new_table[['Period','Basis of treatment','Treatment group','Clients in treatment','Measure Type','Value','Unit']]"
   ]
  },
  {
   "cell_type": "code",
   "execution_count": 9,
   "metadata": {},
   "outputs": [
    {
     "data": {
      "text/html": [
       "<div>\n",
       "<style scoped>\n",
       "    .dataframe tbody tr th:only-of-type {\n",
       "        vertical-align: middle;\n",
       "    }\n",
       "\n",
       "    .dataframe tbody tr th {\n",
       "        vertical-align: top;\n",
       "    }\n",
       "\n",
       "    .dataframe thead th {\n",
       "        text-align: right;\n",
       "    }\n",
       "</style>\n",
       "<table border=\"1\" class=\"dataframe\">\n",
       "  <thead>\n",
       "    <tr style=\"text-align: right;\">\n",
       "      <th></th>\n",
       "      <th>Period</th>\n",
       "      <th>Basis of treatment</th>\n",
       "      <th>Treatment group</th>\n",
       "      <th>Clients in treatment</th>\n",
       "      <th>Measure Type</th>\n",
       "      <th>Value</th>\n",
       "      <th>Unit</th>\n",
       "    </tr>\n",
       "  </thead>\n",
       "  <tbody>\n",
       "    <tr>\n",
       "      <th>0</th>\n",
       "      <td>2018-03-31T00:00:00/P1Y</td>\n",
       "      <td>number of children</td>\n",
       "      <td>Number of children living with people in treat...</td>\n",
       "      <td>Opiate</td>\n",
       "      <td>Count</td>\n",
       "      <td>10328</td>\n",
       "      <td>Clients in treatment</td>\n",
       "    </tr>\n",
       "    <tr>\n",
       "      <th>1</th>\n",
       "      <td>2018-03-31T00:00:00/P1Y</td>\n",
       "      <td>number of children</td>\n",
       "      <td>Number of children living with people in treat...</td>\n",
       "      <td>Non-opiate only</td>\n",
       "      <td>Count</td>\n",
       "      <td>7424</td>\n",
       "      <td>Clients in treatment</td>\n",
       "    </tr>\n",
       "    <tr>\n",
       "      <th>2</th>\n",
       "      <td>2018-03-31T00:00:00/P1Y</td>\n",
       "      <td>number of children</td>\n",
       "      <td>Number of children living with people in treat...</td>\n",
       "      <td>Non-opiate and Alcohol</td>\n",
       "      <td>Count</td>\n",
       "      <td>7453</td>\n",
       "      <td>Clients in treatment</td>\n",
       "    </tr>\n",
       "    <tr>\n",
       "      <th>3</th>\n",
       "      <td>2018-03-31T00:00:00/P1Y</td>\n",
       "      <td>number of children</td>\n",
       "      <td>Number of children living with people in treat...</td>\n",
       "      <td>Alcohol only</td>\n",
       "      <td>Count</td>\n",
       "      <td>20904</td>\n",
       "      <td>Clients in treatment</td>\n",
       "    </tr>\n",
       "    <tr>\n",
       "      <th>4</th>\n",
       "      <td>2018-03-31T00:00:00/P1Y</td>\n",
       "      <td>number of children</td>\n",
       "      <td>Number of children living with people in treat...</td>\n",
       "      <td>Total</td>\n",
       "      <td>Count</td>\n",
       "      <td>46109</td>\n",
       "      <td>Clients in treatment</td>\n",
       "    </tr>\n",
       "  </tbody>\n",
       "</table>\n",
       "</div>"
      ],
      "text/plain": [
       "                    Period  Basis of treatment  \\\n",
       "0  2018-03-31T00:00:00/P1Y  number of children   \n",
       "1  2018-03-31T00:00:00/P1Y  number of children   \n",
       "2  2018-03-31T00:00:00/P1Y  number of children   \n",
       "3  2018-03-31T00:00:00/P1Y  number of children   \n",
       "4  2018-03-31T00:00:00/P1Y  number of children   \n",
       "\n",
       "                                     Treatment group    Clients in treatment  \\\n",
       "0  Number of children living with people in treat...                  Opiate   \n",
       "1  Number of children living with people in treat...         Non-opiate only   \n",
       "2  Number of children living with people in treat...  Non-opiate and Alcohol   \n",
       "3  Number of children living with people in treat...            Alcohol only   \n",
       "4  Number of children living with people in treat...                   Total   \n",
       "\n",
       "  Measure Type  Value                  Unit  \n",
       "0        Count  10328  Clients in treatment  \n",
       "1        Count   7424  Clients in treatment  \n",
       "2        Count   7453  Clients in treatment  \n",
       "3        Count  20904  Clients in treatment  \n",
       "4        Count  46109  Clients in treatment  "
      ]
     },
     "execution_count": 9,
     "metadata": {},
     "output_type": "execute_result"
    }
   ],
   "source": [
    "new_table.head()"
   ]
  },
  {
   "cell_type": "code",
   "execution_count": null,
   "metadata": {
    "collapsed": true
   },
   "outputs": [],
   "source": []
  }
 ],
 "metadata": {
  "kernelspec": {
   "display_name": "Python 3",
   "language": "python",
   "name": "python3"
  },
  "language_info": {
   "codemirror_mode": {
    "name": "ipython",
    "version": 3
   },
   "file_extension": ".py",
   "mimetype": "text/x-python",
   "name": "python",
   "nbconvert_exporter": "python",
   "pygments_lexer": "ipython3",
   "version": "3.6.3"
  }
 },
 "nbformat": 4,
 "nbformat_minor": 2
}
