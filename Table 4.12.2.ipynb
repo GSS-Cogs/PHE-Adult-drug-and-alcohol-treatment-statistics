{
 "cells": [
  {
   "cell_type": "markdown",
   "metadata": {},
   "source": [
    "Table 4.12.2: Number of children living with individuals starting treatment 2017-18"
   ]
  },
  {
   "cell_type": "code",
   "execution_count": 1,
   "metadata": {},
   "outputs": [],
   "source": [
    "from gssutils import *\n",
    "\n",
    "if is_interactive():\n",
    "    scraper = Scraper('https://www.gov.uk/government/collections/alcohol-and-drug-misuse-and-treatment-statistics')\n",
    "    scraper.select_dataset(title=lambda x: x.startswith('Substance misuse treatment for adults'), latest=True)\n",
    "    tabs = {tab.name: tab for tab in scraper.distribution(title=lambda x: x.startswith('Data tables')).as_databaker()}"
   ]
  },
  {
   "cell_type": "code",
   "execution_count": 2,
   "metadata": {},
   "outputs": [],
   "source": [
    "tab = tabs['Table 4.12.2']"
   ]
  },
  {
   "cell_type": "markdown",
   "metadata": {},
   "source": [
    "https://assets.publishing.service.gov.uk/government/uploads/system/uploads/attachment_data/file/752515/AdultSubstanceMisuseNDTMSDataTables2017-18.xlsx"
   ]
  },
  {
   "cell_type": "code",
   "execution_count": 3,
   "metadata": {},
   "outputs": [
    {
     "data": {
      "text/plain": [
       "{<C7 4020.0>, <E6 20904.0>, <B6 10328.0>, <E7 11967.0>, <D7 4009.0>, <D6 7453.0>, <F8 1.80162544445747>, <C6 7424.0>, <D8 1.85906709902719>, <F6 46109.0>, <B7 5597.0>, <E8 1.74680371020306>, <C8 1.84676616915423>, <B8 1.84527425406468>, <F7 25593.0>}"
      ]
     },
     "execution_count": 3,
     "metadata": {},
     "output_type": "execute_result"
    }
   ],
   "source": [
    "observations = tab.excel_ref('B6').expand(DOWN).expand(RIGHT).is_not_blank()\n",
    "observations"
   ]
  },
  {
   "cell_type": "code",
   "execution_count": 4,
   "metadata": {},
   "outputs": [
    {
     "data": {
      "text/plain": [
       "{<A7 'Number of individuals living with children'>, <A10 '*Percentages may equal 0% or not sum to 100% due to rounding'>, <A6 'Number of children'>, <A8 'Average number of children living with people in treatment'>}"
      ]
     },
     "execution_count": 4,
     "metadata": {},
     "output_type": "execute_result"
    }
   ],
   "source": [
    "child = tab.excel_ref('A6').expand(DOWN).is_not_blank() - tab.excel_ref('A19').expand(DOWN)\n",
    "child"
   ]
  },
  {
   "cell_type": "code",
   "execution_count": 5,
   "metadata": {},
   "outputs": [
    {
     "data": {
      "text/plain": [
       "{<E4 'Alcohol only'>, <B4 'Opiate'>, <C4 'Non-opiate only'>, <D4 'Non-opiate and Alcohol'>, <F4 'Total'>}"
      ]
     },
     "execution_count": 5,
     "metadata": {},
     "output_type": "execute_result"
    }
   ],
   "source": [
    "Clients = tab.excel_ref('B4').expand(RIGHT).is_not_blank()\n",
    "Clients"
   ]
  },
  {
   "cell_type": "code",
   "execution_count": 6,
   "metadata": {},
   "outputs": [],
   "source": [
    "Dimensions = [\n",
    "            HDim(child,'Category',DIRECTLY,LEFT),\n",
    "            HDim(Clients,'Clients in treatment',CLOSEST,LEFT),\n",
    "            HDimConst('Measure Type', 'Count'),\n",
    "            HDimConst('Unit','People')            \n",
    "            ]"
   ]
  },
  {
   "cell_type": "code",
   "execution_count": 7,
   "metadata": {},
   "outputs": [],
   "source": [
    "c1 = ConversionSegment(observations, Dimensions, processTIMEUNIT=True)\n",
    "# if is_interactive():\n",
    "#     savepreviewhtml(c1)"
   ]
  },
  {
   "cell_type": "code",
   "execution_count": 8,
   "metadata": {},
   "outputs": [
    {
     "name": "stdout",
     "output_type": "stream",
     "text": [
      "\n"
     ]
    },
    {
     "data": {
      "text/html": [
       "<div>\n",
       "<style scoped>\n",
       "    .dataframe tbody tr th:only-of-type {\n",
       "        vertical-align: middle;\n",
       "    }\n",
       "\n",
       "    .dataframe tbody tr th {\n",
       "        vertical-align: top;\n",
       "    }\n",
       "\n",
       "    .dataframe thead th {\n",
       "        text-align: right;\n",
       "    }\n",
       "</style>\n",
       "<table border=\"1\" class=\"dataframe\">\n",
       "  <thead>\n",
       "    <tr style=\"text-align: right;\">\n",
       "      <th></th>\n",
       "      <th>OBS</th>\n",
       "      <th>Category</th>\n",
       "      <th>Clients in treatment</th>\n",
       "      <th>Measure Type</th>\n",
       "      <th>Unit</th>\n",
       "    </tr>\n",
       "  </thead>\n",
       "  <tbody>\n",
       "    <tr>\n",
       "      <th>0</th>\n",
       "      <td>10328.000000</td>\n",
       "      <td>Number of children</td>\n",
       "      <td>Opiate</td>\n",
       "      <td>Count</td>\n",
       "      <td>People</td>\n",
       "    </tr>\n",
       "    <tr>\n",
       "      <th>1</th>\n",
       "      <td>7424.000000</td>\n",
       "      <td>Number of children</td>\n",
       "      <td>Non-opiate only</td>\n",
       "      <td>Count</td>\n",
       "      <td>People</td>\n",
       "    </tr>\n",
       "    <tr>\n",
       "      <th>2</th>\n",
       "      <td>7453.000000</td>\n",
       "      <td>Number of children</td>\n",
       "      <td>Non-opiate and Alcohol</td>\n",
       "      <td>Count</td>\n",
       "      <td>People</td>\n",
       "    </tr>\n",
       "    <tr>\n",
       "      <th>3</th>\n",
       "      <td>20904.000000</td>\n",
       "      <td>Number of children</td>\n",
       "      <td>Alcohol only</td>\n",
       "      <td>Count</td>\n",
       "      <td>People</td>\n",
       "    </tr>\n",
       "    <tr>\n",
       "      <th>4</th>\n",
       "      <td>46109.000000</td>\n",
       "      <td>Number of children</td>\n",
       "      <td>Total</td>\n",
       "      <td>Count</td>\n",
       "      <td>People</td>\n",
       "    </tr>\n",
       "    <tr>\n",
       "      <th>5</th>\n",
       "      <td>5597.000000</td>\n",
       "      <td>Number of individuals living with children</td>\n",
       "      <td>Opiate</td>\n",
       "      <td>Count</td>\n",
       "      <td>People</td>\n",
       "    </tr>\n",
       "    <tr>\n",
       "      <th>6</th>\n",
       "      <td>4020.000000</td>\n",
       "      <td>Number of individuals living with children</td>\n",
       "      <td>Non-opiate only</td>\n",
       "      <td>Count</td>\n",
       "      <td>People</td>\n",
       "    </tr>\n",
       "    <tr>\n",
       "      <th>7</th>\n",
       "      <td>4009.000000</td>\n",
       "      <td>Number of individuals living with children</td>\n",
       "      <td>Non-opiate and Alcohol</td>\n",
       "      <td>Count</td>\n",
       "      <td>People</td>\n",
       "    </tr>\n",
       "    <tr>\n",
       "      <th>8</th>\n",
       "      <td>11967.000000</td>\n",
       "      <td>Number of individuals living with children</td>\n",
       "      <td>Alcohol only</td>\n",
       "      <td>Count</td>\n",
       "      <td>People</td>\n",
       "    </tr>\n",
       "    <tr>\n",
       "      <th>9</th>\n",
       "      <td>25593.000000</td>\n",
       "      <td>Number of individuals living with children</td>\n",
       "      <td>Total</td>\n",
       "      <td>Count</td>\n",
       "      <td>People</td>\n",
       "    </tr>\n",
       "    <tr>\n",
       "      <th>10</th>\n",
       "      <td>1.845274</td>\n",
       "      <td>Average number of children living with people ...</td>\n",
       "      <td>Opiate</td>\n",
       "      <td>Count</td>\n",
       "      <td>People</td>\n",
       "    </tr>\n",
       "    <tr>\n",
       "      <th>11</th>\n",
       "      <td>1.846766</td>\n",
       "      <td>Average number of children living with people ...</td>\n",
       "      <td>Non-opiate only</td>\n",
       "      <td>Count</td>\n",
       "      <td>People</td>\n",
       "    </tr>\n",
       "    <tr>\n",
       "      <th>12</th>\n",
       "      <td>1.859067</td>\n",
       "      <td>Average number of children living with people ...</td>\n",
       "      <td>Non-opiate and Alcohol</td>\n",
       "      <td>Count</td>\n",
       "      <td>People</td>\n",
       "    </tr>\n",
       "    <tr>\n",
       "      <th>13</th>\n",
       "      <td>1.746804</td>\n",
       "      <td>Average number of children living with people ...</td>\n",
       "      <td>Alcohol only</td>\n",
       "      <td>Count</td>\n",
       "      <td>People</td>\n",
       "    </tr>\n",
       "    <tr>\n",
       "      <th>14</th>\n",
       "      <td>1.801625</td>\n",
       "      <td>Average number of children living with people ...</td>\n",
       "      <td>Total</td>\n",
       "      <td>Count</td>\n",
       "      <td>People</td>\n",
       "    </tr>\n",
       "  </tbody>\n",
       "</table>\n",
       "</div>"
      ],
      "text/plain": [
       "             OBS                                           Category  \\\n",
       "0   10328.000000                                 Number of children   \n",
       "1    7424.000000                                 Number of children   \n",
       "2    7453.000000                                 Number of children   \n",
       "3   20904.000000                                 Number of children   \n",
       "4   46109.000000                                 Number of children   \n",
       "5    5597.000000         Number of individuals living with children   \n",
       "6    4020.000000         Number of individuals living with children   \n",
       "7    4009.000000         Number of individuals living with children   \n",
       "8   11967.000000         Number of individuals living with children   \n",
       "9   25593.000000         Number of individuals living with children   \n",
       "10      1.845274  Average number of children living with people ...   \n",
       "11      1.846766  Average number of children living with people ...   \n",
       "12      1.859067  Average number of children living with people ...   \n",
       "13      1.746804  Average number of children living with people ...   \n",
       "14      1.801625  Average number of children living with people ...   \n",
       "\n",
       "      Clients in treatment Measure Type    Unit  \n",
       "0                   Opiate        Count  People  \n",
       "1          Non-opiate only        Count  People  \n",
       "2   Non-opiate and Alcohol        Count  People  \n",
       "3             Alcohol only        Count  People  \n",
       "4                    Total        Count  People  \n",
       "5                   Opiate        Count  People  \n",
       "6          Non-opiate only        Count  People  \n",
       "7   Non-opiate and Alcohol        Count  People  \n",
       "8             Alcohol only        Count  People  \n",
       "9                    Total        Count  People  \n",
       "10                  Opiate        Count  People  \n",
       "11         Non-opiate only        Count  People  \n",
       "12  Non-opiate and Alcohol        Count  People  \n",
       "13            Alcohol only        Count  People  \n",
       "14                   Total        Count  People  "
      ]
     },
     "execution_count": 8,
     "metadata": {},
     "output_type": "execute_result"
    }
   ],
   "source": [
    "new_table = c1.topandas()\n",
    "new_table"
   ]
  },
  {
   "cell_type": "code",
   "execution_count": 9,
   "metadata": {},
   "outputs": [],
   "source": [
    "new_table = new_table[new_table['OBS'] != 0 ]"
   ]
  },
  {
   "cell_type": "code",
   "execution_count": 10,
   "metadata": {},
   "outputs": [],
   "source": [
    "new_table.columns = ['Value' if x=='OBS' else x for x in new_table.columns]"
   ]
  },
  {
   "cell_type": "code",
   "execution_count": 11,
   "metadata": {},
   "outputs": [
    {
     "data": {
      "text/html": [
       "<div>\n",
       "<style scoped>\n",
       "    .dataframe tbody tr th:only-of-type {\n",
       "        vertical-align: middle;\n",
       "    }\n",
       "\n",
       "    .dataframe tbody tr th {\n",
       "        vertical-align: top;\n",
       "    }\n",
       "\n",
       "    .dataframe thead th {\n",
       "        text-align: right;\n",
       "    }\n",
       "</style>\n",
       "<table border=\"1\" class=\"dataframe\">\n",
       "  <thead>\n",
       "    <tr style=\"text-align: right;\">\n",
       "      <th></th>\n",
       "      <th>Value</th>\n",
       "      <th>Category</th>\n",
       "      <th>Clients in treatment</th>\n",
       "      <th>Measure Type</th>\n",
       "      <th>Unit</th>\n",
       "    </tr>\n",
       "  </thead>\n",
       "  <tbody>\n",
       "    <tr>\n",
       "      <th>0</th>\n",
       "      <td>10328.0</td>\n",
       "      <td>Number of children</td>\n",
       "      <td>Opiate</td>\n",
       "      <td>Count</td>\n",
       "      <td>People</td>\n",
       "    </tr>\n",
       "    <tr>\n",
       "      <th>1</th>\n",
       "      <td>7424.0</td>\n",
       "      <td>Number of children</td>\n",
       "      <td>Non-opiate only</td>\n",
       "      <td>Count</td>\n",
       "      <td>People</td>\n",
       "    </tr>\n",
       "    <tr>\n",
       "      <th>2</th>\n",
       "      <td>7453.0</td>\n",
       "      <td>Number of children</td>\n",
       "      <td>Non-opiate and Alcohol</td>\n",
       "      <td>Count</td>\n",
       "      <td>People</td>\n",
       "    </tr>\n",
       "    <tr>\n",
       "      <th>3</th>\n",
       "      <td>20904.0</td>\n",
       "      <td>Number of children</td>\n",
       "      <td>Alcohol only</td>\n",
       "      <td>Count</td>\n",
       "      <td>People</td>\n",
       "    </tr>\n",
       "    <tr>\n",
       "      <th>4</th>\n",
       "      <td>46109.0</td>\n",
       "      <td>Number of children</td>\n",
       "      <td>Total</td>\n",
       "      <td>Count</td>\n",
       "      <td>People</td>\n",
       "    </tr>\n",
       "  </tbody>\n",
       "</table>\n",
       "</div>"
      ],
      "text/plain": [
       "     Value            Category    Clients in treatment Measure Type    Unit\n",
       "0  10328.0  Number of children                  Opiate        Count  People\n",
       "1   7424.0  Number of children         Non-opiate only        Count  People\n",
       "2   7453.0  Number of children  Non-opiate and Alcohol        Count  People\n",
       "3  20904.0  Number of children            Alcohol only        Count  People\n",
       "4  46109.0  Number of children                   Total        Count  People"
      ]
     },
     "execution_count": 11,
     "metadata": {},
     "output_type": "execute_result"
    }
   ],
   "source": [
    "new_table.head()"
   ]
  },
  {
   "cell_type": "code",
   "execution_count": 12,
   "metadata": {},
   "outputs": [
    {
     "data": {
      "text/html": [
       "<div>\n",
       "<style scoped>\n",
       "    .dataframe tbody tr th:only-of-type {\n",
       "        vertical-align: middle;\n",
       "    }\n",
       "\n",
       "    .dataframe tbody tr th {\n",
       "        vertical-align: top;\n",
       "    }\n",
       "\n",
       "    .dataframe thead th {\n",
       "        text-align: right;\n",
       "    }\n",
       "</style>\n",
       "<table border=\"1\" class=\"dataframe\">\n",
       "  <thead>\n",
       "    <tr style=\"text-align: right;\">\n",
       "      <th></th>\n",
       "      <th>Value</th>\n",
       "      <th>Category</th>\n",
       "      <th>Clients in treatment</th>\n",
       "      <th>Measure Type</th>\n",
       "      <th>Unit</th>\n",
       "    </tr>\n",
       "  </thead>\n",
       "  <tbody>\n",
       "    <tr>\n",
       "      <th>10</th>\n",
       "      <td>1.845274</td>\n",
       "      <td>Average number of children living with people ...</td>\n",
       "      <td>Opiate</td>\n",
       "      <td>Count</td>\n",
       "      <td>People</td>\n",
       "    </tr>\n",
       "    <tr>\n",
       "      <th>11</th>\n",
       "      <td>1.846766</td>\n",
       "      <td>Average number of children living with people ...</td>\n",
       "      <td>Non-opiate only</td>\n",
       "      <td>Count</td>\n",
       "      <td>People</td>\n",
       "    </tr>\n",
       "    <tr>\n",
       "      <th>12</th>\n",
       "      <td>1.859067</td>\n",
       "      <td>Average number of children living with people ...</td>\n",
       "      <td>Non-opiate and Alcohol</td>\n",
       "      <td>Count</td>\n",
       "      <td>People</td>\n",
       "    </tr>\n",
       "    <tr>\n",
       "      <th>13</th>\n",
       "      <td>1.746804</td>\n",
       "      <td>Average number of children living with people ...</td>\n",
       "      <td>Alcohol only</td>\n",
       "      <td>Count</td>\n",
       "      <td>People</td>\n",
       "    </tr>\n",
       "    <tr>\n",
       "      <th>14</th>\n",
       "      <td>1.801625</td>\n",
       "      <td>Average number of children living with people ...</td>\n",
       "      <td>Total</td>\n",
       "      <td>Count</td>\n",
       "      <td>People</td>\n",
       "    </tr>\n",
       "  </tbody>\n",
       "</table>\n",
       "</div>"
      ],
      "text/plain": [
       "       Value                                           Category  \\\n",
       "10  1.845274  Average number of children living with people ...   \n",
       "11  1.846766  Average number of children living with people ...   \n",
       "12  1.859067  Average number of children living with people ...   \n",
       "13  1.746804  Average number of children living with people ...   \n",
       "14  1.801625  Average number of children living with people ...   \n",
       "\n",
       "      Clients in treatment Measure Type    Unit  \n",
       "10                  Opiate        Count  People  \n",
       "11         Non-opiate only        Count  People  \n",
       "12  Non-opiate and Alcohol        Count  People  \n",
       "13            Alcohol only        Count  People  \n",
       "14                   Total        Count  People  "
      ]
     },
     "execution_count": 12,
     "metadata": {},
     "output_type": "execute_result"
    }
   ],
   "source": [
    "new_table.tail()"
   ]
  },
  {
   "cell_type": "code",
   "execution_count": 13,
   "metadata": {},
   "outputs": [
    {
     "data": {
      "text/plain": [
       "Value                   float64\n",
       "Category                 object\n",
       "Clients in treatment     object\n",
       "Measure Type             object\n",
       "Unit                     object\n",
       "dtype: object"
      ]
     },
     "execution_count": 13,
     "metadata": {},
     "output_type": "execute_result"
    }
   ],
   "source": [
    "new_table.dtypes"
   ]
  },
  {
   "cell_type": "code",
   "execution_count": 14,
   "metadata": {},
   "outputs": [],
   "source": [
    "new_table['Value'] = new_table['Value'].astype(str)"
   ]
  },
  {
   "cell_type": "code",
   "execution_count": 15,
   "metadata": {},
   "outputs": [
    {
     "data": {
      "text/html": [
       "<div>\n",
       "<style scoped>\n",
       "    .dataframe tbody tr th:only-of-type {\n",
       "        vertical-align: middle;\n",
       "    }\n",
       "\n",
       "    .dataframe tbody tr th {\n",
       "        vertical-align: top;\n",
       "    }\n",
       "\n",
       "    .dataframe thead th {\n",
       "        text-align: right;\n",
       "    }\n",
       "</style>\n",
       "<table border=\"1\" class=\"dataframe\">\n",
       "  <thead>\n",
       "    <tr style=\"text-align: right;\">\n",
       "      <th></th>\n",
       "      <th>Value</th>\n",
       "      <th>Category</th>\n",
       "      <th>Clients in treatment</th>\n",
       "      <th>Measure Type</th>\n",
       "      <th>Unit</th>\n",
       "    </tr>\n",
       "  </thead>\n",
       "  <tbody>\n",
       "    <tr>\n",
       "      <th>0</th>\n",
       "      <td>10328.0</td>\n",
       "      <td>Number of children</td>\n",
       "      <td>Opiate</td>\n",
       "      <td>Count</td>\n",
       "      <td>People</td>\n",
       "    </tr>\n",
       "    <tr>\n",
       "      <th>1</th>\n",
       "      <td>7424.0</td>\n",
       "      <td>Number of children</td>\n",
       "      <td>Non-opiate only</td>\n",
       "      <td>Count</td>\n",
       "      <td>People</td>\n",
       "    </tr>\n",
       "    <tr>\n",
       "      <th>2</th>\n",
       "      <td>7453.0</td>\n",
       "      <td>Number of children</td>\n",
       "      <td>Non-opiate and Alcohol</td>\n",
       "      <td>Count</td>\n",
       "      <td>People</td>\n",
       "    </tr>\n",
       "  </tbody>\n",
       "</table>\n",
       "</div>"
      ],
      "text/plain": [
       "     Value            Category    Clients in treatment Measure Type    Unit\n",
       "0  10328.0  Number of children                  Opiate        Count  People\n",
       "1   7424.0  Number of children         Non-opiate only        Count  People\n",
       "2   7453.0  Number of children  Non-opiate and Alcohol        Count  People"
      ]
     },
     "execution_count": 15,
     "metadata": {},
     "output_type": "execute_result"
    }
   ],
   "source": [
    "new_table.head(3)"
   ]
  },
  {
   "cell_type": "code",
   "execution_count": 16,
   "metadata": {},
   "outputs": [],
   "source": [
    "new_table['Category'] = new_table['Category'].map(\n",
    "    lambda x: {\n",
    "        'Number of children' : 'Number of children living with people in treatment',\n",
    "        'Number of individuals living with children' : 'Number of clients living with children'\n",
    "        }.get(x, x))"
   ]
  },
  {
   "cell_type": "code",
   "execution_count": 17,
   "metadata": {},
   "outputs": [
    {
     "data": {
      "text/html": [
       "<div>\n",
       "<style scoped>\n",
       "    .dataframe tbody tr th:only-of-type {\n",
       "        vertical-align: middle;\n",
       "    }\n",
       "\n",
       "    .dataframe tbody tr th {\n",
       "        vertical-align: top;\n",
       "    }\n",
       "\n",
       "    .dataframe thead th {\n",
       "        text-align: right;\n",
       "    }\n",
       "</style>\n",
       "<table border=\"1\" class=\"dataframe\">\n",
       "  <thead>\n",
       "    <tr style=\"text-align: right;\">\n",
       "      <th></th>\n",
       "      <th>Value</th>\n",
       "      <th>Category</th>\n",
       "      <th>Clients in treatment</th>\n",
       "      <th>Measure Type</th>\n",
       "      <th>Unit</th>\n",
       "    </tr>\n",
       "  </thead>\n",
       "  <tbody>\n",
       "    <tr>\n",
       "      <th>0</th>\n",
       "      <td>10328.0</td>\n",
       "      <td>Number of children living with people in treat...</td>\n",
       "      <td>Opiate</td>\n",
       "      <td>Count</td>\n",
       "      <td>People</td>\n",
       "    </tr>\n",
       "    <tr>\n",
       "      <th>1</th>\n",
       "      <td>7424.0</td>\n",
       "      <td>Number of children living with people in treat...</td>\n",
       "      <td>Non-opiate only</td>\n",
       "      <td>Count</td>\n",
       "      <td>People</td>\n",
       "    </tr>\n",
       "    <tr>\n",
       "      <th>2</th>\n",
       "      <td>7453.0</td>\n",
       "      <td>Number of children living with people in treat...</td>\n",
       "      <td>Non-opiate and Alcohol</td>\n",
       "      <td>Count</td>\n",
       "      <td>People</td>\n",
       "    </tr>\n",
       "  </tbody>\n",
       "</table>\n",
       "</div>"
      ],
      "text/plain": [
       "     Value                                           Category  \\\n",
       "0  10328.0  Number of children living with people in treat...   \n",
       "1   7424.0  Number of children living with people in treat...   \n",
       "2   7453.0  Number of children living with people in treat...   \n",
       "\n",
       "     Clients in treatment Measure Type    Unit  \n",
       "0                  Opiate        Count  People  \n",
       "1         Non-opiate only        Count  People  \n",
       "2  Non-opiate and Alcohol        Count  People  "
      ]
     },
     "execution_count": 17,
     "metadata": {},
     "output_type": "execute_result"
    }
   ],
   "source": [
    "new_table.head(3)"
   ]
  },
  {
   "cell_type": "code",
   "execution_count": 18,
   "metadata": {},
   "outputs": [],
   "source": [
    "new_table['Clients in treatment'] = 'New clients/' + new_table['Clients in treatment']"
   ]
  },
  {
   "cell_type": "code",
   "execution_count": 19,
   "metadata": {},
   "outputs": [],
   "source": [
    "new_table['Period'] = '2017-18'\n",
    "new_table.columns = ['Basis of treatment' if x=='Category' else x for x in new_table.columns]\n",
    "new_table['Substance'] = 'All'\n",
    "new_table = new_table[['Period','Basis of treatment','Substance','Clients in treatment','Measure Type','Value','Unit']]"
   ]
  },
  {
   "cell_type": "code",
   "execution_count": 20,
   "metadata": {},
   "outputs": [
    {
     "data": {
      "text/html": [
       "<div>\n",
       "<style scoped>\n",
       "    .dataframe tbody tr th:only-of-type {\n",
       "        vertical-align: middle;\n",
       "    }\n",
       "\n",
       "    .dataframe tbody tr th {\n",
       "        vertical-align: top;\n",
       "    }\n",
       "\n",
       "    .dataframe thead th {\n",
       "        text-align: right;\n",
       "    }\n",
       "</style>\n",
       "<table border=\"1\" class=\"dataframe\">\n",
       "  <thead>\n",
       "    <tr style=\"text-align: right;\">\n",
       "      <th></th>\n",
       "      <th>Period</th>\n",
       "      <th>Basis of treatment</th>\n",
       "      <th>Substance</th>\n",
       "      <th>Clients in treatment</th>\n",
       "      <th>Measure Type</th>\n",
       "      <th>Value</th>\n",
       "      <th>Unit</th>\n",
       "    </tr>\n",
       "  </thead>\n",
       "  <tbody>\n",
       "    <tr>\n",
       "      <th>0</th>\n",
       "      <td>2017-18</td>\n",
       "      <td>Number of children living with people in treat...</td>\n",
       "      <td>All</td>\n",
       "      <td>New clients/Opiate</td>\n",
       "      <td>Count</td>\n",
       "      <td>10328.0</td>\n",
       "      <td>People</td>\n",
       "    </tr>\n",
       "    <tr>\n",
       "      <th>1</th>\n",
       "      <td>2017-18</td>\n",
       "      <td>Number of children living with people in treat...</td>\n",
       "      <td>All</td>\n",
       "      <td>New clients/Non-opiate only</td>\n",
       "      <td>Count</td>\n",
       "      <td>7424.0</td>\n",
       "      <td>People</td>\n",
       "    </tr>\n",
       "    <tr>\n",
       "      <th>2</th>\n",
       "      <td>2017-18</td>\n",
       "      <td>Number of children living with people in treat...</td>\n",
       "      <td>All</td>\n",
       "      <td>New clients/Non-opiate and Alcohol</td>\n",
       "      <td>Count</td>\n",
       "      <td>7453.0</td>\n",
       "      <td>People</td>\n",
       "    </tr>\n",
       "    <tr>\n",
       "      <th>3</th>\n",
       "      <td>2017-18</td>\n",
       "      <td>Number of children living with people in treat...</td>\n",
       "      <td>All</td>\n",
       "      <td>New clients/Alcohol only</td>\n",
       "      <td>Count</td>\n",
       "      <td>20904.0</td>\n",
       "      <td>People</td>\n",
       "    </tr>\n",
       "    <tr>\n",
       "      <th>4</th>\n",
       "      <td>2017-18</td>\n",
       "      <td>Number of children living with people in treat...</td>\n",
       "      <td>All</td>\n",
       "      <td>New clients/Total</td>\n",
       "      <td>Count</td>\n",
       "      <td>46109.0</td>\n",
       "      <td>People</td>\n",
       "    </tr>\n",
       "  </tbody>\n",
       "</table>\n",
       "</div>"
      ],
      "text/plain": [
       "    Period                                 Basis of treatment Substance  \\\n",
       "0  2017-18  Number of children living with people in treat...       All   \n",
       "1  2017-18  Number of children living with people in treat...       All   \n",
       "2  2017-18  Number of children living with people in treat...       All   \n",
       "3  2017-18  Number of children living with people in treat...       All   \n",
       "4  2017-18  Number of children living with people in treat...       All   \n",
       "\n",
       "                 Clients in treatment Measure Type    Value    Unit  \n",
       "0                  New clients/Opiate        Count  10328.0  People  \n",
       "1         New clients/Non-opiate only        Count   7424.0  People  \n",
       "2  New clients/Non-opiate and Alcohol        Count   7453.0  People  \n",
       "3            New clients/Alcohol only        Count  20904.0  People  \n",
       "4                   New clients/Total        Count  46109.0  People  "
      ]
     },
     "execution_count": 20,
     "metadata": {},
     "output_type": "execute_result"
    }
   ],
   "source": [
    "new_table.head()"
   ]
  }
 ],
 "metadata": {
  "kernelspec": {
   "display_name": "Python 3",
   "language": "python",
   "name": "python3"
  },
  "language_info": {
   "codemirror_mode": {
    "name": "ipython",
    "version": 3
   },
   "file_extension": ".py",
   "mimetype": "text/x-python",
   "name": "python",
   "nbconvert_exporter": "python",
   "pygments_lexer": "ipython3",
   "version": "3.7.2"
  }
 },
 "nbformat": 4,
 "nbformat_minor": 2
}
