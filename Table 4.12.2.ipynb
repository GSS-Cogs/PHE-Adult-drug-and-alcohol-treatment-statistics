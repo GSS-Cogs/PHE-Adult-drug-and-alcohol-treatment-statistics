{
 "cells": [
  {
   "attachments": {},
   "cell_type": "markdown",
   "metadata": {},
   "source": [
    "Table 4.12.2: Number of children living with individuals starting treatment 2017-18"
   ]
  },
  {
   "cell_type": "code",
   "execution_count": 1,
   "metadata": {
    "collapsed": true
   },
   "outputs": [],
   "source": [
    "from gssutils import *\n",
    "\n",
    "if is_interactive():\n",
    "    import requests\n",
    "    from cachecontrol import CacheControl\n",
    "    from cachecontrol.caches.file_cache import FileCache\n",
    "    from cachecontrol.heuristics import LastModified\n",
    "    from pathlib import Path\n",
    "\n",
    "    session = CacheControl(requests.Session(),\n",
    "                           cache=FileCache('.cache'),\n",
    "                           heuristic=LastModified())\n",
    "\n",
    "    sourceFolder = Path('in')\n",
    "    sourceFolder.mkdir(exist_ok=True)\n",
    "\n",
    "    inputURL = 'https://assets.publishing.service.gov.uk/government/uploads/system/uploads/attachment_data/file/752515/AdultSubstanceMisuseNDTMSDataTables2017-18.xlsx'\n",
    "    inputFile = sourceFolder / 'AdultSubstanceMisuseNDTMSDataTables2017-18.xlsx'\n",
    "    response = session.get(inputURL)\n",
    "    with open(inputFile, 'wb') as f:\n",
    "      f.write(response.content)    "
   ]
  },
  {
   "cell_type": "code",
   "execution_count": 2,
   "metadata": {},
   "outputs": [
    {
     "name": "stdout",
     "output_type": "stream",
     "text": [
      "Loading in\\AdultSubstanceMisuseNDTMSDataTables2017-18.xlsx which has size 272149 bytes\n",
      "Table names: ['Table 4.12.2']\n"
     ]
    }
   ],
   "source": [
    "tab = loadxlstabs(inputFile, sheetids='Table 4.12.2')[0]"
   ]
  },
  {
   "cell_type": "markdown",
   "metadata": {},
   "source": [
    "https://assets.publishing.service.gov.uk/government/uploads/system/uploads/attachment_data/file/752515/AdultSubstanceMisuseNDTMSDataTables2017-18.xlsx"
   ]
  },
  {
   "cell_type": "code",
   "execution_count": 3,
   "metadata": {},
   "outputs": [
    {
     "data": {
      "text/plain": [
       "{<E7 11967.0>, <F7 25593.0>, <C7 4020.0>, <D7 4009.0>, <F6 46109.0>, <B7 5597.0>, <E8 1.74680371020306>, <B6 10328.0>, <B8 1.84527425406468>, <C6 7424.0>, <F8 1.80162544445747>, <D6 7453.0>, <D8 1.85906709902719>, <C8 1.84676616915423>, <E6 20904.0>}"
      ]
     },
     "execution_count": 3,
     "metadata": {},
     "output_type": "execute_result"
    }
   ],
   "source": [
    "observations = tab.excel_ref('B6').expand(DOWN).expand(RIGHT).is_not_blank()\n",
    "observations"
   ]
  },
  {
   "cell_type": "code",
   "execution_count": 4,
   "metadata": {},
   "outputs": [
    {
     "data": {
      "text/plain": [
       "{<A6 'Number of children'>, <A10 '*Percentages may equal 0% or not sum to 100% due to rounding'>, <A7 'Number of individuals living with children'>, <A8 'Average number of children living with people in treatment'>}"
      ]
     },
     "execution_count": 4,
     "metadata": {},
     "output_type": "execute_result"
    }
   ],
   "source": [
    "child = tab.excel_ref('A6').expand(DOWN).is_not_blank() - tab.excel_ref('A19').expand(DOWN)\n",
    "child"
   ]
  },
  {
   "cell_type": "code",
   "execution_count": 5,
   "metadata": {},
   "outputs": [
    {
     "data": {
      "text/plain": [
       "{<F4 'Total'>, <D4 'Non-opiate and Alcohol'>, <B4 'Opiate'>, <C4 'Non-opiate only'>, <E4 'Alcohol only'>}"
      ]
     },
     "execution_count": 5,
     "metadata": {},
     "output_type": "execute_result"
    }
   ],
   "source": [
    "Clients = tab.excel_ref('B4').expand(RIGHT).is_not_blank()\n",
    "Clients"
   ]
  },
  {
   "cell_type": "code",
   "execution_count": 6,
   "metadata": {},
   "outputs": [],
   "source": [
    "Dimensions = [\n",
    "            HDim(child,'Category',DIRECTLY,LEFT),\n",
    "            HDim(Clients,'Clients in treatment',CLOSEST,LEFT),\n",
    "            HDimConst('Measure Type', 'Count'),\n",
    "            HDimConst('Unit','People')            \n",
    "            ]"
   ]
  },
  {
   "cell_type": "code",
   "execution_count": 7,
   "metadata": {
    "collapsed": true
   },
   "outputs": [],
   "source": [
    "c1 = ConversionSegment(observations, Dimensions, processTIMEUNIT=True)\n",
    "# if is_interactive():\n",
    "#     savepreviewhtml(c1)"
   ]
  },
  {
   "cell_type": "code",
   "execution_count": 8,
   "metadata": {},
   "outputs": [
    {
     "name": "stdout",
     "output_type": "stream",
     "text": [
      "\n"
     ]
    },
    {
     "data": {
      "text/html": [
       "<div>\n",
       "<style scoped>\n",
       "    .dataframe tbody tr th:only-of-type {\n",
       "        vertical-align: middle;\n",
       "    }\n",
       "\n",
       "    .dataframe tbody tr th {\n",
       "        vertical-align: top;\n",
       "    }\n",
       "\n",
       "    .dataframe thead th {\n",
       "        text-align: right;\n",
       "    }\n",
       "</style>\n",
       "<table border=\"1\" class=\"dataframe\">\n",
       "  <thead>\n",
       "    <tr style=\"text-align: right;\">\n",
       "      <th></th>\n",
       "      <th>OBS</th>\n",
       "      <th>Category</th>\n",
       "      <th>Clients in treatment</th>\n",
       "      <th>Measure Type</th>\n",
       "      <th>Unit</th>\n",
       "    </tr>\n",
       "  </thead>\n",
       "  <tbody>\n",
       "    <tr>\n",
       "      <th>0</th>\n",
       "      <td>10328.000000</td>\n",
       "      <td>Number of children</td>\n",
       "      <td>Opiate</td>\n",
       "      <td>Count</td>\n",
       "      <td>People</td>\n",
       "    </tr>\n",
       "    <tr>\n",
       "      <th>1</th>\n",
       "      <td>7424.000000</td>\n",
       "      <td>Number of children</td>\n",
       "      <td>Non-opiate only</td>\n",
       "      <td>Count</td>\n",
       "      <td>People</td>\n",
       "    </tr>\n",
       "    <tr>\n",
       "      <th>2</th>\n",
       "      <td>7453.000000</td>\n",
       "      <td>Number of children</td>\n",
       "      <td>Non-opiate and Alcohol</td>\n",
       "      <td>Count</td>\n",
       "      <td>People</td>\n",
       "    </tr>\n",
       "    <tr>\n",
       "      <th>3</th>\n",
       "      <td>20904.000000</td>\n",
       "      <td>Number of children</td>\n",
       "      <td>Alcohol only</td>\n",
       "      <td>Count</td>\n",
       "      <td>People</td>\n",
       "    </tr>\n",
       "    <tr>\n",
       "      <th>4</th>\n",
       "      <td>46109.000000</td>\n",
       "      <td>Number of children</td>\n",
       "      <td>Total</td>\n",
       "      <td>Count</td>\n",
       "      <td>People</td>\n",
       "    </tr>\n",
       "    <tr>\n",
       "      <th>5</th>\n",
       "      <td>5597.000000</td>\n",
       "      <td>Number of individuals living with children</td>\n",
       "      <td>Opiate</td>\n",
       "      <td>Count</td>\n",
       "      <td>People</td>\n",
       "    </tr>\n",
       "    <tr>\n",
       "      <th>6</th>\n",
       "      <td>4020.000000</td>\n",
       "      <td>Number of individuals living with children</td>\n",
       "      <td>Non-opiate only</td>\n",
       "      <td>Count</td>\n",
       "      <td>People</td>\n",
       "    </tr>\n",
       "    <tr>\n",
       "      <th>7</th>\n",
       "      <td>4009.000000</td>\n",
       "      <td>Number of individuals living with children</td>\n",
       "      <td>Non-opiate and Alcohol</td>\n",
       "      <td>Count</td>\n",
       "      <td>People</td>\n",
       "    </tr>\n",
       "    <tr>\n",
       "      <th>8</th>\n",
       "      <td>11967.000000</td>\n",
       "      <td>Number of individuals living with children</td>\n",
       "      <td>Alcohol only</td>\n",
       "      <td>Count</td>\n",
       "      <td>People</td>\n",
       "    </tr>\n",
       "    <tr>\n",
       "      <th>9</th>\n",
       "      <td>25593.000000</td>\n",
       "      <td>Number of individuals living with children</td>\n",
       "      <td>Total</td>\n",
       "      <td>Count</td>\n",
       "      <td>People</td>\n",
       "    </tr>\n",
       "    <tr>\n",
       "      <th>10</th>\n",
       "      <td>1.845274</td>\n",
       "      <td>Average number of children living with people ...</td>\n",
       "      <td>Opiate</td>\n",
       "      <td>Count</td>\n",
       "      <td>People</td>\n",
       "    </tr>\n",
       "    <tr>\n",
       "      <th>11</th>\n",
       "      <td>1.846766</td>\n",
       "      <td>Average number of children living with people ...</td>\n",
       "      <td>Non-opiate only</td>\n",
       "      <td>Count</td>\n",
       "      <td>People</td>\n",
       "    </tr>\n",
       "    <tr>\n",
       "      <th>12</th>\n",
       "      <td>1.859067</td>\n",
       "      <td>Average number of children living with people ...</td>\n",
       "      <td>Non-opiate and Alcohol</td>\n",
       "      <td>Count</td>\n",
       "      <td>People</td>\n",
       "    </tr>\n",
       "    <tr>\n",
       "      <th>13</th>\n",
       "      <td>1.746804</td>\n",
       "      <td>Average number of children living with people ...</td>\n",
       "      <td>Alcohol only</td>\n",
       "      <td>Count</td>\n",
       "      <td>People</td>\n",
       "    </tr>\n",
       "    <tr>\n",
       "      <th>14</th>\n",
       "      <td>1.801625</td>\n",
       "      <td>Average number of children living with people ...</td>\n",
       "      <td>Total</td>\n",
       "      <td>Count</td>\n",
       "      <td>People</td>\n",
       "    </tr>\n",
       "  </tbody>\n",
       "</table>\n",
       "</div>"
      ],
      "text/plain": [
       "             OBS                                           Category  \\\n",
       "0   10328.000000                                 Number of children   \n",
       "1    7424.000000                                 Number of children   \n",
       "2    7453.000000                                 Number of children   \n",
       "3   20904.000000                                 Number of children   \n",
       "4   46109.000000                                 Number of children   \n",
       "5    5597.000000         Number of individuals living with children   \n",
       "6    4020.000000         Number of individuals living with children   \n",
       "7    4009.000000         Number of individuals living with children   \n",
       "8   11967.000000         Number of individuals living with children   \n",
       "9   25593.000000         Number of individuals living with children   \n",
       "10      1.845274  Average number of children living with people ...   \n",
       "11      1.846766  Average number of children living with people ...   \n",
       "12      1.859067  Average number of children living with people ...   \n",
       "13      1.746804  Average number of children living with people ...   \n",
       "14      1.801625  Average number of children living with people ...   \n",
       "\n",
       "      Clients in treatment Measure Type    Unit  \n",
       "0                   Opiate        Count  People  \n",
       "1          Non-opiate only        Count  People  \n",
       "2   Non-opiate and Alcohol        Count  People  \n",
       "3             Alcohol only        Count  People  \n",
       "4                    Total        Count  People  \n",
       "5                   Opiate        Count  People  \n",
       "6          Non-opiate only        Count  People  \n",
       "7   Non-opiate and Alcohol        Count  People  \n",
       "8             Alcohol only        Count  People  \n",
       "9                    Total        Count  People  \n",
       "10                  Opiate        Count  People  \n",
       "11         Non-opiate only        Count  People  \n",
       "12  Non-opiate and Alcohol        Count  People  \n",
       "13            Alcohol only        Count  People  \n",
       "14                   Total        Count  People  "
      ]
     },
     "execution_count": 8,
     "metadata": {},
     "output_type": "execute_result"
    }
   ],
   "source": [
    "new_table = c1.topandas()\n",
    "new_table"
   ]
  },
  {
   "cell_type": "code",
   "execution_count": 9,
   "metadata": {
    "collapsed": true
   },
   "outputs": [],
   "source": [
    "new_table = new_table[new_table['OBS'] != 0 ]"
   ]
  },
  {
   "cell_type": "code",
   "execution_count": 10,
   "metadata": {
    "collapsed": true
   },
   "outputs": [],
   "source": [
    "new_table.columns = ['Value' if x=='OBS' else x for x in new_table.columns]"
   ]
  },
  {
   "cell_type": "code",
   "execution_count": 11,
   "metadata": {},
   "outputs": [
    {
     "data": {
      "text/html": [
       "<div>\n",
       "<style scoped>\n",
       "    .dataframe tbody tr th:only-of-type {\n",
       "        vertical-align: middle;\n",
       "    }\n",
       "\n",
       "    .dataframe tbody tr th {\n",
       "        vertical-align: top;\n",
       "    }\n",
       "\n",
       "    .dataframe thead th {\n",
       "        text-align: right;\n",
       "    }\n",
       "</style>\n",
       "<table border=\"1\" class=\"dataframe\">\n",
       "  <thead>\n",
       "    <tr style=\"text-align: right;\">\n",
       "      <th></th>\n",
       "      <th>Value</th>\n",
       "      <th>Category</th>\n",
       "      <th>Clients in treatment</th>\n",
       "      <th>Measure Type</th>\n",
       "      <th>Unit</th>\n",
       "    </tr>\n",
       "  </thead>\n",
       "  <tbody>\n",
       "    <tr>\n",
       "      <th>0</th>\n",
       "      <td>10328.0</td>\n",
       "      <td>Number of children</td>\n",
       "      <td>Opiate</td>\n",
       "      <td>Count</td>\n",
       "      <td>People</td>\n",
       "    </tr>\n",
       "    <tr>\n",
       "      <th>1</th>\n",
       "      <td>7424.0</td>\n",
       "      <td>Number of children</td>\n",
       "      <td>Non-opiate only</td>\n",
       "      <td>Count</td>\n",
       "      <td>People</td>\n",
       "    </tr>\n",
       "    <tr>\n",
       "      <th>2</th>\n",
       "      <td>7453.0</td>\n",
       "      <td>Number of children</td>\n",
       "      <td>Non-opiate and Alcohol</td>\n",
       "      <td>Count</td>\n",
       "      <td>People</td>\n",
       "    </tr>\n",
       "    <tr>\n",
       "      <th>3</th>\n",
       "      <td>20904.0</td>\n",
       "      <td>Number of children</td>\n",
       "      <td>Alcohol only</td>\n",
       "      <td>Count</td>\n",
       "      <td>People</td>\n",
       "    </tr>\n",
       "    <tr>\n",
       "      <th>4</th>\n",
       "      <td>46109.0</td>\n",
       "      <td>Number of children</td>\n",
       "      <td>Total</td>\n",
       "      <td>Count</td>\n",
       "      <td>People</td>\n",
       "    </tr>\n",
       "  </tbody>\n",
       "</table>\n",
       "</div>"
      ],
      "text/plain": [
       "     Value            Category    Clients in treatment Measure Type    Unit\n",
       "0  10328.0  Number of children                  Opiate        Count  People\n",
       "1   7424.0  Number of children         Non-opiate only        Count  People\n",
       "2   7453.0  Number of children  Non-opiate and Alcohol        Count  People\n",
       "3  20904.0  Number of children            Alcohol only        Count  People\n",
       "4  46109.0  Number of children                   Total        Count  People"
      ]
     },
     "execution_count": 11,
     "metadata": {},
     "output_type": "execute_result"
    }
   ],
   "source": [
    "new_table.head()"
   ]
  },
  {
   "cell_type": "code",
   "execution_count": 12,
   "metadata": {},
   "outputs": [
    {
     "data": {
      "text/html": [
       "<div>\n",
       "<style scoped>\n",
       "    .dataframe tbody tr th:only-of-type {\n",
       "        vertical-align: middle;\n",
       "    }\n",
       "\n",
       "    .dataframe tbody tr th {\n",
       "        vertical-align: top;\n",
       "    }\n",
       "\n",
       "    .dataframe thead th {\n",
       "        text-align: right;\n",
       "    }\n",
       "</style>\n",
       "<table border=\"1\" class=\"dataframe\">\n",
       "  <thead>\n",
       "    <tr style=\"text-align: right;\">\n",
       "      <th></th>\n",
       "      <th>Value</th>\n",
       "      <th>Category</th>\n",
       "      <th>Clients in treatment</th>\n",
       "      <th>Measure Type</th>\n",
       "      <th>Unit</th>\n",
       "    </tr>\n",
       "  </thead>\n",
       "  <tbody>\n",
       "    <tr>\n",
       "      <th>10</th>\n",
       "      <td>1.845274</td>\n",
       "      <td>Average number of children living with people ...</td>\n",
       "      <td>Opiate</td>\n",
       "      <td>Count</td>\n",
       "      <td>People</td>\n",
       "    </tr>\n",
       "    <tr>\n",
       "      <th>11</th>\n",
       "      <td>1.846766</td>\n",
       "      <td>Average number of children living with people ...</td>\n",
       "      <td>Non-opiate only</td>\n",
       "      <td>Count</td>\n",
       "      <td>People</td>\n",
       "    </tr>\n",
       "    <tr>\n",
       "      <th>12</th>\n",
       "      <td>1.859067</td>\n",
       "      <td>Average number of children living with people ...</td>\n",
       "      <td>Non-opiate and Alcohol</td>\n",
       "      <td>Count</td>\n",
       "      <td>People</td>\n",
       "    </tr>\n",
       "    <tr>\n",
       "      <th>13</th>\n",
       "      <td>1.746804</td>\n",
       "      <td>Average number of children living with people ...</td>\n",
       "      <td>Alcohol only</td>\n",
       "      <td>Count</td>\n",
       "      <td>People</td>\n",
       "    </tr>\n",
       "    <tr>\n",
       "      <th>14</th>\n",
       "      <td>1.801625</td>\n",
       "      <td>Average number of children living with people ...</td>\n",
       "      <td>Total</td>\n",
       "      <td>Count</td>\n",
       "      <td>People</td>\n",
       "    </tr>\n",
       "  </tbody>\n",
       "</table>\n",
       "</div>"
      ],
      "text/plain": [
       "       Value                                           Category  \\\n",
       "10  1.845274  Average number of children living with people ...   \n",
       "11  1.846766  Average number of children living with people ...   \n",
       "12  1.859067  Average number of children living with people ...   \n",
       "13  1.746804  Average number of children living with people ...   \n",
       "14  1.801625  Average number of children living with people ...   \n",
       "\n",
       "      Clients in treatment Measure Type    Unit  \n",
       "10                  Opiate        Count  People  \n",
       "11         Non-opiate only        Count  People  \n",
       "12  Non-opiate and Alcohol        Count  People  \n",
       "13            Alcohol only        Count  People  \n",
       "14                   Total        Count  People  "
      ]
     },
     "execution_count": 12,
     "metadata": {},
     "output_type": "execute_result"
    }
   ],
   "source": [
    "new_table.tail()"
   ]
  },
  {
   "cell_type": "code",
   "execution_count": 13,
   "metadata": {},
   "outputs": [
    {
     "data": {
      "text/plain": [
       "Value                   float64\n",
       "Category                 object\n",
       "Clients in treatment     object\n",
       "Measure Type             object\n",
       "Unit                     object\n",
       "dtype: object"
      ]
     },
     "execution_count": 13,
     "metadata": {},
     "output_type": "execute_result"
    }
   ],
   "source": [
    "new_table.dtypes"
   ]
  },
  {
   "cell_type": "code",
   "execution_count": 14,
   "metadata": {},
   "outputs": [],
   "source": [
    "new_table['Value'] = new_table['Value'].astype(str)"
   ]
  },
  {
   "cell_type": "code",
   "execution_count": 15,
   "metadata": {},
   "outputs": [
    {
     "data": {
      "text/html": [
       "<div>\n",
       "<style scoped>\n",
       "    .dataframe tbody tr th:only-of-type {\n",
       "        vertical-align: middle;\n",
       "    }\n",
       "\n",
       "    .dataframe tbody tr th {\n",
       "        vertical-align: top;\n",
       "    }\n",
       "\n",
       "    .dataframe thead th {\n",
       "        text-align: right;\n",
       "    }\n",
       "</style>\n",
       "<table border=\"1\" class=\"dataframe\">\n",
       "  <thead>\n",
       "    <tr style=\"text-align: right;\">\n",
       "      <th></th>\n",
       "      <th>Value</th>\n",
       "      <th>Category</th>\n",
       "      <th>Clients in treatment</th>\n",
       "      <th>Measure Type</th>\n",
       "      <th>Unit</th>\n",
       "    </tr>\n",
       "  </thead>\n",
       "  <tbody>\n",
       "    <tr>\n",
       "      <th>0</th>\n",
       "      <td>10328.0</td>\n",
       "      <td>Number of children</td>\n",
       "      <td>Opiate</td>\n",
       "      <td>Count</td>\n",
       "      <td>People</td>\n",
       "    </tr>\n",
       "    <tr>\n",
       "      <th>1</th>\n",
       "      <td>7424.0</td>\n",
       "      <td>Number of children</td>\n",
       "      <td>Non-opiate only</td>\n",
       "      <td>Count</td>\n",
       "      <td>People</td>\n",
       "    </tr>\n",
       "    <tr>\n",
       "      <th>2</th>\n",
       "      <td>7453.0</td>\n",
       "      <td>Number of children</td>\n",
       "      <td>Non-opiate and Alcohol</td>\n",
       "      <td>Count</td>\n",
       "      <td>People</td>\n",
       "    </tr>\n",
       "  </tbody>\n",
       "</table>\n",
       "</div>"
      ],
      "text/plain": [
       "     Value            Category    Clients in treatment Measure Type    Unit\n",
       "0  10328.0  Number of children                  Opiate        Count  People\n",
       "1   7424.0  Number of children         Non-opiate only        Count  People\n",
       "2   7453.0  Number of children  Non-opiate and Alcohol        Count  People"
      ]
     },
     "execution_count": 15,
     "metadata": {},
     "output_type": "execute_result"
    }
   ],
   "source": [
    "new_table.head(3)"
   ]
  },
  {
   "cell_type": "code",
   "execution_count": 16,
   "metadata": {},
   "outputs": [],
   "source": [
    "new_table['Category'] = new_table['Category'].map(\n",
    "    lambda x: {\n",
    "        'Number of children' : 'Number of children living with people in treatment' \n",
    "        }.get(x, x))"
   ]
  },
  {
   "cell_type": "code",
   "execution_count": 17,
   "metadata": {},
   "outputs": [
    {
     "data": {
      "text/html": [
       "<div>\n",
       "<style scoped>\n",
       "    .dataframe tbody tr th:only-of-type {\n",
       "        vertical-align: middle;\n",
       "    }\n",
       "\n",
       "    .dataframe tbody tr th {\n",
       "        vertical-align: top;\n",
       "    }\n",
       "\n",
       "    .dataframe thead th {\n",
       "        text-align: right;\n",
       "    }\n",
       "</style>\n",
       "<table border=\"1\" class=\"dataframe\">\n",
       "  <thead>\n",
       "    <tr style=\"text-align: right;\">\n",
       "      <th></th>\n",
       "      <th>Value</th>\n",
       "      <th>Category</th>\n",
       "      <th>Clients in treatment</th>\n",
       "      <th>Measure Type</th>\n",
       "      <th>Unit</th>\n",
       "    </tr>\n",
       "  </thead>\n",
       "  <tbody>\n",
       "    <tr>\n",
       "      <th>0</th>\n",
       "      <td>10328.0</td>\n",
       "      <td>Number of children living with people in treat...</td>\n",
       "      <td>Opiate</td>\n",
       "      <td>Count</td>\n",
       "      <td>People</td>\n",
       "    </tr>\n",
       "    <tr>\n",
       "      <th>1</th>\n",
       "      <td>7424.0</td>\n",
       "      <td>Number of children living with people in treat...</td>\n",
       "      <td>Non-opiate only</td>\n",
       "      <td>Count</td>\n",
       "      <td>People</td>\n",
       "    </tr>\n",
       "    <tr>\n",
       "      <th>2</th>\n",
       "      <td>7453.0</td>\n",
       "      <td>Number of children living with people in treat...</td>\n",
       "      <td>Non-opiate and Alcohol</td>\n",
       "      <td>Count</td>\n",
       "      <td>People</td>\n",
       "    </tr>\n",
       "  </tbody>\n",
       "</table>\n",
       "</div>"
      ],
      "text/plain": [
       "     Value                                           Category  \\\n",
       "0  10328.0  Number of children living with people in treat...   \n",
       "1   7424.0  Number of children living with people in treat...   \n",
       "2   7453.0  Number of children living with people in treat...   \n",
       "\n",
       "     Clients in treatment Measure Type    Unit  \n",
       "0                  Opiate        Count  People  \n",
       "1         Non-opiate only        Count  People  \n",
       "2  Non-opiate and Alcohol        Count  People  "
      ]
     },
     "execution_count": 17,
     "metadata": {},
     "output_type": "execute_result"
    }
   ],
   "source": [
    "new_table.head(3)"
   ]
  },
  {
   "cell_type": "code",
   "execution_count": 18,
   "metadata": {
    "collapsed": true
   },
   "outputs": [],
   "source": [
    "new_table = new_table[['Category','Clients in treatment','Measure Type','Value','Unit']]"
   ]
  },
  {
   "cell_type": "code",
   "execution_count": 19,
   "metadata": {
    "collapsed": true
   },
   "outputs": [],
   "source": [
    "if is_interactive():\n",
    "    SubstancetinationFolder = Path('out')\n",
    "    SubstancetinationFolder.mkdir(exist_ok=True, parents=True)\n",
    "    new_table.to_csv(SubstancetinationFolder / ('table4.12.2.csv'), index = False)"
   ]
  },
  {
   "cell_type": "code",
   "execution_count": null,
   "metadata": {
    "collapsed": true
   },
   "outputs": [],
   "source": []
  }
 ],
 "metadata": {
  "kernelspec": {
   "display_name": "Python 3",
   "language": "python",
   "name": "python3"
  },
  "language_info": {
   "codemirror_mode": {
    "name": "ipython",
    "version": 3
   },
   "file_extension": ".py",
   "mimetype": "text/x-python",
   "name": "python",
   "nbconvert_exporter": "python",
   "pygments_lexer": "ipython3",
   "version": "3.6.3"
  }
 },
 "nbformat": 4,
 "nbformat_minor": 2
}
