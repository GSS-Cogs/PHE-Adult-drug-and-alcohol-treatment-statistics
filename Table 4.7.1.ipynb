{
 "cells": [
  {
   "cell_type": "markdown",
   "metadata": {},
   "source": [
    "Table 4.7.1: Sexual orientation, new presentations to treatment"
   ]
  },
  {
   "cell_type": "code",
   "execution_count": 1,
   "metadata": {
    "collapsed": true
   },
   "outputs": [],
   "source": [
    "from gssutils import *\n",
    "\n",
    "if is_interactive():\n",
    "    scraper = Scraper('https://www.gov.uk/government/collections/alcohol-and-drug-misuse-and-treatment-statistics')\n",
    "    scraper.select_dataset(title=lambda x: x.startswith('Substance misuse treatment for adults'), latest=True)\n",
    "    tabs = {tab.name: tab for tab in scraper.distribution(title=lambda x: x.startswith('Data tables')).as_databaker()}"
   ]
  },
  {
   "cell_type": "code",
   "execution_count": 2,
   "metadata": {
    "collapsed": true
   },
   "outputs": [],
   "source": [
    "tab = tabs['Table 4.7.1']"
   ]
  },
  {
   "cell_type": "markdown",
   "metadata": {},
   "source": [
    "https://assets.publishing.service.gov.uk/government/uploads/system/uploads/attachment_data/file/752515/AdultSubstanceMisuseNDTMSDataTables2017-18.xlsx"
   ]
  },
  {
   "cell_type": "code",
   "execution_count": 3,
   "metadata": {
    "collapsed": true
   },
   "outputs": [],
   "source": [
    "cell = tab.filter('Sexual orientation')\n",
    "cell.assert_one()\n",
    "observations = tab.filter('n').fill(DOWN).is_not_blank().is_not_whitespace()\n",
    "Sexualorientation = cell.expand(DOWN).is_not_blank().is_not_whitespace()\n",
    "Clients = cell.expand(RIGHT).is_not_blank().is_not_whitespace()\n",
    "Dimensions = [\n",
    "            HDim(Sexualorientation,'Treatment group',DIRECTLY,LEFT),\n",
    "            HDim(Clients,'Clients in treatment',CLOSEST,LEFT),\n",
    "            HDimConst('Measure Type','Count'),\n",
    "            HDimConst('Unit','clients in new treatment'),\n",
    "            HDimConst('Period', '2018-03-31T00:00:00/P1Y'),\n",
    "            HDimConst('Basis of treatment','Sexual orientation')\n",
    "            ]"
   ]
  },
  {
   "cell_type": "code",
   "execution_count": 4,
   "metadata": {},
   "outputs": [
    {
     "data": {
      "text/html": [
       "<div id=\"injblock1001\">\n",
       "<style>\n",
       "table.ex, table.exkey { border: thin black solid }\n",
       "table.ex td, table.ex tr { border: none }\n",
       "table.ex td:hover { border: thin blue solid }\n",
       "table.ex td.excOBS:hover { border: thin red solid }\n",
       "table.ex td.selected { border: thick red solid }\n",
       "</style>\n",
       "\n",
       "\n",
       "<table class=\"exkey\">\n",
       "<tr><td class=\"xc0\" style=\"background-color:Aqua\">OBS</td><td class=\"xc1\" style=\"background-color:LightGreen\">Treatment group</td><td class=\"xc2\" style=\"background-color:MistyRose\">Clients in treatment</td></tr></table>\n",
       "\n",
       "<table class=\"ex\">\n",
       "<caption style=\"text-align:center; padding:0px; caption-side:bottom\">Table 4.7.1</caption>\n",
       "<tr><td title=\"0 0\">Table 4.7.1: Sexual orientation, new presentations to treatment</td><td title=\"1 0\"></td><td title=\"2 0\"></td><td title=\"3 0\"></td><td title=\"4 0\"></td><td title=\"5 0\"></td><td title=\"6 0\"></td><td title=\"7 0\"></td><td title=\"8 0\"></td><td title=\"9 0\"></td><td title=\"10 0\"></td></tr>\n",
       "<tr><td title=\"0 1\">Link back to the index</td><td title=\"1 1\"></td><td title=\"2 1\"></td><td title=\"3 1\"></td><td title=\"4 1\"></td><td title=\"5 1\"></td><td title=\"6 1\"></td><td title=\"7 1\"></td><td title=\"8 1\"></td><td title=\"9 1\"></td><td title=\"10 1\"></td></tr>\n",
       "<tr><td style=\"background-color:MistyRose\" title=\"0 2\">Sexual orientation</td><td style=\"background-color:MistyRose\" title=\"1 2\">Opiate</td><td title=\"2 2\"></td><td style=\"background-color:MistyRose\" title=\"3 2\">Non-opiate only</td><td title=\"4 2\"></td><td style=\"background-color:MistyRose\" title=\"5 2\">Non-opiate and Alcohol</td><td title=\"6 2\"></td><td style=\"background-color:MistyRose\" title=\"7 2\">Alcohol only</td><td title=\"8 2\"></td><td style=\"background-color:MistyRose\" title=\"9 2\">Total</td><td title=\"10 2\"></td></tr>\n",
       "<tr><td title=\"0 3\"></td><td title=\"1 3\">n</td><td title=\"2 3\">%</td><td title=\"3 3\">n</td><td title=\"4 3\">%</td><td title=\"5 3\">n</td><td title=\"6 3\">%</td><td title=\"7 3\">n</td><td title=\"8 3\">%</td><td title=\"9 3\">n</td><td title=\"10 3\">%</td></tr>\n",
       "<tr><td style=\"background-color:LightGreen\" title=\"0 4\">Heterosexual</td><td style=\"background-color:Aqua\" title=\"1 4\">36582.0</td><td title=\"2 4\">0.897233395467478</td><td style=\"background-color:Aqua\" title=\"3 4\">13761.0</td><td title=\"4 4\">0.874213836477987</td><td style=\"background-color:Aqua\" title=\"5 4\">15763.0</td><td title=\"6 4\">0.883972633467923</td><td style=\"background-color:Aqua\" title=\"7 4\">44734.0</td><td title=\"8 4\">0.896742507767866</td><td style=\"background-color:Aqua\" title=\"9 4\">110840.0</td><td title=\"10 4\">0.89221605087338</td></tr>\n",
       "<tr><td style=\"background-color:LightGreen\" title=\"0 5\">Gay/Lesbian</td><td style=\"background-color:Aqua\" title=\"1 5\">565.0</td><td title=\"2 5\">0.0138575492985382</td><td style=\"background-color:Aqua\" title=\"3 5\">520.0</td><td title=\"4 5\">0.0330347500158821</td><td style=\"background-color:Aqua\" title=\"5 5\">559.0</td><td title=\"6 5\">0.0313481381785554</td><td style=\"background-color:Aqua\" title=\"7 5\">1315.0</td><td title=\"8 5\">0.0263606294477298</td><td style=\"background-color:Aqua\" title=\"9 5\">2959.0</td><td title=\"10 5\">0.0238187233357482</td></tr>\n",
       "<tr><td style=\"background-color:LightGreen\" title=\"0 6\">Bi-Sexual</td><td style=\"background-color:Aqua\" title=\"1 6\">724.0</td><td title=\"2 6\">0.0177572844108702</td><td style=\"background-color:Aqua\" title=\"3 6\">314.0</td><td title=\"4 6\">0.0199479067403596</td><td style=\"background-color:Aqua\" title=\"5 6\">381.0</td><td title=\"6 6\">0.0213660834454913</td><td style=\"background-color:Aqua\" title=\"7 6\">511.0</td><td title=\"8 6\">0.0102435601884334</td><td style=\"background-color:Aqua\" title=\"9 6\">1930.0</td><td title=\"10 6\">0.0155356999114546</td></tr>\n",
       "<tr><td style=\"background-color:LightGreen\" title=\"0 7\">Client asked and does not know or is not sure</td><td style=\"background-color:Aqua\" title=\"1 7\">75.0</td><td title=\"2 7\">0.00183949769449622</td><td style=\"background-color:Aqua\" title=\"3 7\">41.0</td><td title=\"4 7\">0.00260466298202147</td><td style=\"background-color:Aqua\" title=\"5 7\">42.0</td><td title=\"6 7\">0.00235531628532974</td><td style=\"background-color:Aqua\" title=\"7 7\">100.0</td><td title=\"8 7\">0.0020046106043901</td><td style=\"background-color:Aqua\" title=\"9 7\">258.0</td><td title=\"10 7\">0.00207679304515817</td></tr>\n",
       "<tr><td style=\"background-color:LightGreen\" title=\"0 8\">Not Stated</td><td style=\"background-color:Aqua\" title=\"1 8\">2481.0</td><td title=\"2 8\">0.0608505837339351</td><td style=\"background-color:Aqua\" title=\"3 8\">921.0</td><td title=\"4 8\">0.0585096245473604</td><td style=\"background-color:Aqua\" title=\"5 8\">945.0</td><td title=\"6 8\">0.0529946164199192</td><td style=\"background-color:Aqua\" title=\"7 8\">2812.0</td><td title=\"8 8\">0.0563696501954495</td><td style=\"background-color:Aqua\" title=\"9 8\">7159.0</td><td title=\"10 8\">0.0576269822104162</td></tr>\n",
       "<tr><td style=\"background-color:LightGreen\" title=\"0 9\">Other</td><td style=\"background-color:Aqua\" title=\"1 9\">345.0</td><td title=\"2 9\">0.00846168939468262</td><td style=\"background-color:Aqua\" title=\"3 9\">184.0</td><td title=\"4 9\">0.011689219236389</td><td style=\"background-color:Aqua\" title=\"5 9\">142.0</td><td title=\"6 9\">0.00796321220278152</td><td style=\"background-color:Aqua\" title=\"7 9\">413.0</td><td title=\"8 9\">0.0082790417961311</td><td style=\"background-color:Aqua\" title=\"9 9\">1084.0</td><td title=\"10 9\">0.00872575062384287</td></tr>\n",
       "<tr><td style=\"background-color:LightGreen\" title=\"0 10\">Total</td><td style=\"background-color:Aqua\" title=\"1 10\">40772.0</td><td title=\"2 10\">1.0</td><td style=\"background-color:Aqua\" title=\"3 10\">15741.0</td><td title=\"4 10\">1.0</td><td style=\"background-color:Aqua\" title=\"5 10\">17832.0</td><td title=\"6 10\">1.0</td><td style=\"background-color:Aqua\" title=\"7 10\">49885.0</td><td title=\"8 10\">1.0</td><td style=\"background-color:Aqua\" title=\"9 10\">124230.0</td><td title=\"10 10\">1.0</td></tr>\n",
       "<tr><td style=\"background-color:LightGreen\" title=\"0 11\">Inconsistent/missing</td><td style=\"background-color:Aqua\" title=\"1 11\">406.0</td><td title=\"2 11\"></td><td style=\"background-color:Aqua\" title=\"3 11\">975.0</td><td title=\"4 11\"></td><td style=\"background-color:Aqua\" title=\"5 11\">925.0</td><td title=\"6 11\"></td><td style=\"background-color:Aqua\" title=\"7 11\">771.0</td><td title=\"8 11\"></td><td style=\"background-color:Aqua\" title=\"9 11\">3077.0</td><td title=\"10 11\"></td></tr>\n",
       "<tr><td style=\"background-color:LightGreen\" title=\"0 12\">Total</td><td style=\"background-color:Aqua\" title=\"1 12\">41178.0</td><td title=\"2 12\"></td><td style=\"background-color:Aqua\" title=\"3 12\">16716.0</td><td title=\"4 12\"></td><td style=\"background-color:Aqua\" title=\"5 12\">18757.0</td><td title=\"6 12\"></td><td style=\"background-color:Aqua\" title=\"7 12\">50656.0</td><td title=\"8 12\"></td><td style=\"background-color:Aqua\" title=\"9 12\">127307.0</td><td title=\"10 12\"></td></tr>\n",
       "</table>\n",
       "\n",
       "</div>\n",
       "\n",
       "<script>\n",
       "var jslookup = {\"1 7\":[0,7,1,2],\"1 8\":[0,8,1,2],\"5 5\":[0,5,5,2],\"1 10\":[0,10,1,2],\"3 7\":[0,7,3,2],\"3 5\":[0,5,3,2],\"9 12\":[0,12,9,2],\"9 11\":[0,11,9,2],\"3 8\":[0,8,3,2],\"5 9\":[0,9,5,2],\"5 4\":[0,4,5,2],\"3 12\":[0,12,3,2],\"1 12\":[0,12,1,2],\"7 4\":[0,4,7,2],\"7 11\":[0,11,7,2],\"1 5\":[0,5,1,2],\"7 8\":[0,8,7,2],\"5 8\":[0,8,5,2],\"3 6\":[0,6,3,2],\"7 9\":[0,9,7,2],\"7 6\":[0,6,7,2],\"1 11\":[0,11,1,2],\"7 5\":[0,5,7,2],\"3 4\":[0,4,3,2],\"5 10\":[0,10,5,2],\"9 9\":[0,9,9,2],\"9 8\":[0,8,9,2],\"1 9\":[0,9,1,2],\"3 9\":[0,9,3,2],\"3 11\":[0,11,3,2],\"9 5\":[0,5,9,2],\"7 7\":[0,7,7,2],\"9 7\":[0,7,9,2],\"9 10\":[0,10,9,2],\"5 6\":[0,6,5,2],\"1 4\":[0,4,1,2],\"5 12\":[0,12,5,2],\"1 6\":[0,6,1,2],\"7 12\":[0,12,7,2],\"7 10\":[0,10,7,2],\"5 11\":[0,11,5,2],\"5 7\":[0,7,5,2],\"9 4\":[0,4,9,2],\"3 10\":[0,10,3,2],\"9 6\":[0,6,9,2]}; \n",
       "var jdividNUM = \"injblock1001\"; \n",
       "var Dclickedcell = null; \n",
       "function clickedcell() \n",
       "{ \n",
       "    Dclickedcell = this; \n",
       "    console.log(\"jjjj\", this); \n",
       "    var rgc = new RegExp('(^|\\b)' + \"selected\".split(' ').join('|') + '(\\b|$)', 'gi'); \n",
       "    Array.prototype.forEach.call(document.querySelectorAll(\"div#\"+jdividNUM+\" table.ex td.selected\"), function(el, i) { \n",
       "        if (el.classList)  el.classList.remove(\"selected\");\n",
       "        else  el.className = el.className.replace(rgc, ' ');\n",
       "    }); \n",
       "    if (this.classList)  this.classList.add(\"selected\");\n",
       "    else this.className += ' ' + \"selected\";\n",
       "\n",
       "    var dimpairs = jslookup[this.title]; \n",
       "    if (dimpairs !== undefined) {\n",
       "        for (var i = 1; i < dimpairs.length; i += 2) {\n",
       "            var row = document.querySelectorAll(\"div#\"+jdividNUM+\" table.ex tr\")[dimpairs[i]]; \n",
       "            var el = row.querySelectorAll(\"td\")[dimpairs[i-1]]; \n",
       "            if (el.classList)  el.classList.add(\"selected\");\n",
       "            else el.className += ' ' + \"selected\";\n",
       "        }\n",
       "    }\n",
       "}\n",
       "Array.prototype.forEach.call(document.querySelectorAll(\"div#\"+jdividNUM+\" table.ex td\"), function(item, i) { item.onclick=clickedcell; }); \n",
       "</script>\n"
      ],
      "text/plain": [
       "<IPython.core.display.HTML object>"
      ]
     },
     "metadata": {},
     "output_type": "display_data"
    }
   ],
   "source": [
    "c1 = ConversionSegment(observations, Dimensions, processTIMEUNIT=True)\n",
    "if is_interactive():\n",
    "    savepreviewhtml(c1)"
   ]
  },
  {
   "cell_type": "code",
   "execution_count": 5,
   "metadata": {},
   "outputs": [
    {
     "name": "stdout",
     "output_type": "stream",
     "text": [
      "\n"
     ]
    }
   ],
   "source": [
    "new_table = c1.topandas()"
   ]
  },
  {
   "cell_type": "code",
   "execution_count": 6,
   "metadata": {
    "collapsed": true
   },
   "outputs": [],
   "source": [
    "import numpy as np\n",
    "new_table['OBS'].replace('', np.nan, inplace=True)\n",
    "new_table.dropna(subset=['OBS'], inplace=True)\n",
    "new_table.rename(columns={'OBS': 'Value'}, inplace=True)\n",
    "new_table['Value'] = new_table['Value'].astype(int)\n",
    "new_table['Value'] = new_table['Value'].map(lambda x:''\n",
    "                                  if (x == '-')\n",
    "                                  else int(x))"
   ]
  },
  {
   "cell_type": "code",
   "execution_count": 7,
   "metadata": {
    "collapsed": true
   },
   "outputs": [],
   "source": [
    "new_table['Treatment group'] = new_table['Treatment group'].map(\n",
    "    lambda x: {\n",
    "        'Total' : 'All' \n",
    "        }.get(x, x))"
   ]
  },
  {
   "cell_type": "code",
   "execution_count": 8,
   "metadata": {
    "collapsed": true
   },
   "outputs": [],
   "source": [
    "def user_perc(x):\n",
    "    \n",
    "    if x == None :\n",
    "        return 'All inclusice Inconsistent/missing'\n",
    "    else:\n",
    "        return x\n",
    "    \n",
    "new_table['Treatment group'] = new_table.apply(lambda row: user_perc(row['Treatment group']), axis = 1)"
   ]
  },
  {
   "cell_type": "code",
   "execution_count": 9,
   "metadata": {
    "collapsed": true
   },
   "outputs": [],
   "source": [
    "new_table['Clients in treatment'] = new_table['Clients in treatment'].map(\n",
    "    lambda x: {\n",
    "        'Total' : 'All Clients',\n",
    "        }.get(x, x))"
   ]
  },
  {
   "cell_type": "code",
   "execution_count": 10,
   "metadata": {
    "collapsed": true
   },
   "outputs": [],
   "source": [
    "new_table = new_table[['Period','Basis of treatment','Treatment group','Clients in treatment','Measure Type','Value','Unit']]"
   ]
  },
  {
   "cell_type": "code",
   "execution_count": 11,
   "metadata": {},
   "outputs": [
    {
     "data": {
      "text/html": [
       "<div>\n",
       "<style scoped>\n",
       "    .dataframe tbody tr th:only-of-type {\n",
       "        vertical-align: middle;\n",
       "    }\n",
       "\n",
       "    .dataframe tbody tr th {\n",
       "        vertical-align: top;\n",
       "    }\n",
       "\n",
       "    .dataframe thead th {\n",
       "        text-align: right;\n",
       "    }\n",
       "</style>\n",
       "<table border=\"1\" class=\"dataframe\">\n",
       "  <thead>\n",
       "    <tr style=\"text-align: right;\">\n",
       "      <th></th>\n",
       "      <th>Period</th>\n",
       "      <th>Basis of treatment</th>\n",
       "      <th>Treatment group</th>\n",
       "      <th>Clients in treatment</th>\n",
       "      <th>Measure Type</th>\n",
       "      <th>Value</th>\n",
       "      <th>Unit</th>\n",
       "    </tr>\n",
       "  </thead>\n",
       "  <tbody>\n",
       "    <tr>\n",
       "      <th>0</th>\n",
       "      <td>2018-03-31T00:00:00/P1Y</td>\n",
       "      <td>Sexual orientation</td>\n",
       "      <td>Heterosexual</td>\n",
       "      <td>Opiate</td>\n",
       "      <td>Count</td>\n",
       "      <td>36582</td>\n",
       "      <td>clients in new treatment</td>\n",
       "    </tr>\n",
       "    <tr>\n",
       "      <th>1</th>\n",
       "      <td>2018-03-31T00:00:00/P1Y</td>\n",
       "      <td>Sexual orientation</td>\n",
       "      <td>Heterosexual</td>\n",
       "      <td>Non-opiate only</td>\n",
       "      <td>Count</td>\n",
       "      <td>13761</td>\n",
       "      <td>clients in new treatment</td>\n",
       "    </tr>\n",
       "    <tr>\n",
       "      <th>2</th>\n",
       "      <td>2018-03-31T00:00:00/P1Y</td>\n",
       "      <td>Sexual orientation</td>\n",
       "      <td>Heterosexual</td>\n",
       "      <td>Non-opiate and Alcohol</td>\n",
       "      <td>Count</td>\n",
       "      <td>15763</td>\n",
       "      <td>clients in new treatment</td>\n",
       "    </tr>\n",
       "    <tr>\n",
       "      <th>3</th>\n",
       "      <td>2018-03-31T00:00:00/P1Y</td>\n",
       "      <td>Sexual orientation</td>\n",
       "      <td>Heterosexual</td>\n",
       "      <td>Alcohol only</td>\n",
       "      <td>Count</td>\n",
       "      <td>44734</td>\n",
       "      <td>clients in new treatment</td>\n",
       "    </tr>\n",
       "    <tr>\n",
       "      <th>4</th>\n",
       "      <td>2018-03-31T00:00:00/P1Y</td>\n",
       "      <td>Sexual orientation</td>\n",
       "      <td>Heterosexual</td>\n",
       "      <td>All Clients</td>\n",
       "      <td>Count</td>\n",
       "      <td>110840</td>\n",
       "      <td>clients in new treatment</td>\n",
       "    </tr>\n",
       "  </tbody>\n",
       "</table>\n",
       "</div>"
      ],
      "text/plain": [
       "                    Period  Basis of treatment Treatment group  \\\n",
       "0  2018-03-31T00:00:00/P1Y  Sexual orientation    Heterosexual   \n",
       "1  2018-03-31T00:00:00/P1Y  Sexual orientation    Heterosexual   \n",
       "2  2018-03-31T00:00:00/P1Y  Sexual orientation    Heterosexual   \n",
       "3  2018-03-31T00:00:00/P1Y  Sexual orientation    Heterosexual   \n",
       "4  2018-03-31T00:00:00/P1Y  Sexual orientation    Heterosexual   \n",
       "\n",
       "     Clients in treatment Measure Type   Value                      Unit  \n",
       "0                  Opiate        Count   36582  clients in new treatment  \n",
       "1         Non-opiate only        Count   13761  clients in new treatment  \n",
       "2  Non-opiate and Alcohol        Count   15763  clients in new treatment  \n",
       "3            Alcohol only        Count   44734  clients in new treatment  \n",
       "4             All Clients        Count  110840  clients in new treatment  "
      ]
     },
     "execution_count": 11,
     "metadata": {},
     "output_type": "execute_result"
    }
   ],
   "source": [
    "new_table.head()"
   ]
  },
  {
   "cell_type": "code",
   "execution_count": null,
   "metadata": {
    "collapsed": true
   },
   "outputs": [],
   "source": []
  }
 ],
 "metadata": {
  "kernelspec": {
   "display_name": "Python 3",
   "language": "python",
   "name": "python3"
  },
  "language_info": {
   "codemirror_mode": {
    "name": "ipython",
    "version": 3
   },
   "file_extension": ".py",
   "mimetype": "text/x-python",
   "name": "python",
   "nbconvert_exporter": "python",
   "pygments_lexer": "ipython3",
   "version": "3.6.3"
  }
 },
 "nbformat": 4,
 "nbformat_minor": 2
}
