{
 "cells": [
  {
   "cell_type": "markdown",
   "metadata": {},
   "source": [
    "Table 4.10.1: Injecting status of new presentations to treatment"
   ]
  },
  {
   "cell_type": "code",
   "execution_count": 1,
   "metadata": {
    "collapsed": true
   },
   "outputs": [],
   "source": [
    "from gssutils import *\n",
    "\n",
    "if is_interactive():\n",
    "    scraper = Scraper('https://www.gov.uk/government/collections/alcohol-and-drug-misuse-and-treatment-statistics')\n",
    "    scraper.select_dataset(title=lambda x: x.startswith('Substance misuse treatment for adults'), latest=True)\n",
    "    tabs = {tab.name: tab for tab in scraper.distribution(title=lambda x: x.startswith('Data tables')).as_databaker()}"
   ]
  },
  {
   "cell_type": "code",
   "execution_count": 2,
   "metadata": {
    "collapsed": true
   },
   "outputs": [],
   "source": [
    "tab = tabs['Table 4.10.1']"
   ]
  },
  {
   "cell_type": "markdown",
   "metadata": {},
   "source": [
    "https://assets.publishing.service.gov.uk/government/uploads/system/uploads/attachment_data/file/752515/AdultSubstanceMisuseNDTMSDataTables2017-18.xlsx"
   ]
  },
  {
   "cell_type": "code",
   "execution_count": 3,
   "metadata": {},
   "outputs": [],
   "source": [
    "cell = tab.filter('Injecting Status')\n",
    "cell.assert_one()\n",
    "observations = tab.filter('n').fill(DOWN).is_not_blank().is_not_whitespace()\n",
    "InjectingStatus = cell.expand(DOWN).is_not_blank().is_not_whitespace()\n",
    "Clients = cell.expand(RIGHT).is_not_blank().is_not_whitespace()\n",
    "Dimensions = [\n",
    "            HDim(InjectingStatus,'Treatment group',DIRECTLY,LEFT),\n",
    "            HDim(Clients,'Clients in treatment',CLOSEST,LEFT),\n",
    "            HDimConst('Measure Type','Count'),\n",
    "            HDimConst('Unit','clients in new treatment'),\n",
    "            HDimConst('Period', '2018-03-31T00:00:00/P1Y'),\n",
    "            HDimConst('Basis of treatment','injecting status')\n",
    "            ]"
   ]
  },
  {
   "cell_type": "code",
   "execution_count": 4,
   "metadata": {},
   "outputs": [
    {
     "data": {
      "text/html": [
       "<div id=\"injblock1001\">\n",
       "<style>\n",
       "table.ex, table.exkey { border: thin black solid }\n",
       "table.ex td, table.ex tr { border: none }\n",
       "table.ex td:hover { border: thin blue solid }\n",
       "table.ex td.excOBS:hover { border: thin red solid }\n",
       "table.ex td.selected { border: thick red solid }\n",
       "</style>\n",
       "\n",
       "\n",
       "<table class=\"exkey\">\n",
       "<tr><td class=\"xc0\" style=\"background-color:Aqua\">OBS</td><td class=\"xc1\" style=\"background-color:LightGreen\">Treatment group</td><td class=\"xc2\" style=\"background-color:MistyRose\">Clients in treatment</td></tr></table>\n",
       "\n",
       "<table class=\"ex\">\n",
       "<caption style=\"text-align:center; padding:0px; caption-side:bottom\">Table 4.10.1</caption>\n",
       "<tr><td title=\"0 0\">Table 4.10.1: Injecting status of new presentations to treatment</td><td title=\"1 0\"></td><td title=\"2 0\"></td><td title=\"3 0\"></td><td title=\"4 0\"></td><td title=\"5 0\"></td><td title=\"6 0\"></td><td title=\"7 0\"></td><td title=\"8 0\"></td><td title=\"9 0\"></td><td title=\"10 0\"></td></tr>\n",
       "<tr><td title=\"0 1\">Link back to the index</td><td title=\"1 1\"></td><td title=\"2 1\"></td><td title=\"3 1\"></td><td title=\"4 1\"></td><td title=\"5 1\"></td><td title=\"6 1\"></td><td title=\"7 1\"></td><td title=\"8 1\"></td><td title=\"9 1\"></td><td title=\"10 1\"></td></tr>\n",
       "<tr><td style=\"background-color:MistyRose\" title=\"0 2\">Injecting Status</td><td style=\"background-color:MistyRose\" title=\"1 2\">Opiate</td><td title=\"2 2\"></td><td style=\"background-color:MistyRose\" title=\"3 2\">Non-opiate only</td><td title=\"4 2\"></td><td style=\"background-color:MistyRose\" title=\"5 2\">Non-opiate and Alcohol</td><td title=\"6 2\"></td><td style=\"background-color:MistyRose\" title=\"7 2\">Alcohol only</td><td title=\"8 2\"></td><td style=\"background-color:MistyRose\" title=\"9 2\">Total</td><td title=\"10 2\"></td></tr>\n",
       "<tr><td title=\"0 3\"></td><td title=\"1 3\">n</td><td title=\"2 3\">%</td><td title=\"3 3\">n</td><td title=\"4 3\">%</td><td title=\"5 3\">n</td><td title=\"6 3\">%</td><td title=\"7 3\">n</td><td title=\"8 3\">%</td><td title=\"9 3\">n</td><td title=\"10 3\">%</td></tr>\n",
       "<tr><td style=\"background-color:LightGreen\" title=\"0 4\">Never injected</td><td style=\"background-color:Aqua\" title=\"1 4\">16165.0</td><td title=\"2 4\">0.394585886201089</td><td style=\"background-color:Aqua\" title=\"3 4\">14289.0</td><td title=\"4 4\">0.905054471750697</td><td style=\"background-color:Aqua\" title=\"5 4\">16263.0</td><td title=\"6 4\">0.908902922930755</td><td style=\"background-color:Aqua\" title=\"7 4\">48501.0</td><td title=\"8 4\">0.969477092828016</td><td style=\"background-color:Aqua\" title=\"9 4\">95218.0</td><td title=\"10 4\">0.763723571497321</td></tr>\n",
       "<tr><td style=\"background-color:LightGreen\" title=\"0 5\">Previously injected</td><td style=\"background-color:Aqua\" title=\"1 5\">14022.0</td><td title=\"2 5\">0.34227549002856</td><td style=\"background-color:Aqua\" title=\"3 5\">1092.0</td><td title=\"4 5\">0.06916645553585</td><td style=\"background-color:Aqua\" title=\"5 5\">1407.0</td><td title=\"6 5\">0.0786341027217348</td><td style=\"background-color:Aqua\" title=\"7 5\">1303.0</td><td title=\"8 5\">0.026045414567842</td><td style=\"background-color:Aqua\" title=\"9 5\">17824.0</td><td title=\"10 5\">0.142962558952806</td></tr>\n",
       "<tr><td style=\"background-color:LightGreen\" title=\"0 6\">Currently injecting</td><td style=\"background-color:Aqua\" title=\"1 6\">10670.0</td><td title=\"2 6\">0.260453535772695</td><td style=\"background-color:Aqua\" title=\"3 6\">382.0</td><td title=\"4 6\">0.0241955915885483</td><td style=\"background-color:Aqua\" title=\"5 6\">185.0</td><td title=\"6 6\">0.0103392388084726</td><td style=\"background-color:Aqua\" title=\"7 6\">108.0</td><td title=\"8 6\">0.00215879107699688</td><td style=\"background-color:Aqua\" title=\"9 6\">11345.0</td><td title=\"10 6\">0.0909958612724181</td></tr>\n",
       "<tr><td style=\"background-color:LightGreen\" title=\"0 7\">Declined to answer</td><td style=\"background-color:Aqua\" title=\"1 7\">110.0</td><td title=\"2 7\">0.00268508799765665</td><td style=\"background-color:Aqua\" title=\"3 7\">25.0</td><td title=\"4 7\">0.00158348112490499</td><td style=\"background-color:Aqua\" title=\"5 7\">38.0</td><td title=\"6 7\">0.00212373553903761</td><td style=\"background-color:Aqua\" title=\"7 7\">116.0</td><td title=\"8 7\">0.0023187015271448</td><td style=\"background-color:Aqua\" title=\"9 7\">289.0</td><td title=\"10 7\">0.00231800827745516</td></tr>\n",
       "<tr><td style=\"background-color:LightGreen\" title=\"0 8\">Total</td><td style=\"background-color:Aqua\" title=\"1 8\">40967.0</td><td title=\"2 8\">1.0</td><td style=\"background-color:Aqua\" title=\"3 8\">15788.0</td><td title=\"4 8\">1.0</td><td style=\"background-color:Aqua\" title=\"5 8\">17893.0</td><td title=\"6 8\">1.0</td><td style=\"background-color:Aqua\" title=\"7 8\">50028.0</td><td title=\"8 8\">1.0</td><td style=\"background-color:Aqua\" title=\"9 8\">124676.0</td><td title=\"10 8\">1.0</td></tr>\n",
       "<tr><td style=\"background-color:LightGreen\" title=\"0 9\">Missing/inconsistent</td><td style=\"background-color:Aqua\" title=\"1 9\">211.0</td><td title=\"2 9\"></td><td style=\"background-color:Aqua\" title=\"3 9\">928.0</td><td title=\"4 9\"></td><td style=\"background-color:Aqua\" title=\"5 9\">864.0</td><td title=\"6 9\"></td><td style=\"background-color:Aqua\" title=\"7 9\">628.0</td><td title=\"8 9\"></td><td style=\"background-color:Aqua\" title=\"9 9\">2631.0</td><td title=\"10 9\"></td></tr>\n",
       "<tr><td style=\"background-color:LightGreen\" title=\"0 10\">Total</td><td style=\"background-color:Aqua\" title=\"1 10\">41178.0</td><td title=\"2 10\"></td><td style=\"background-color:Aqua\" title=\"3 10\">16716.0</td><td title=\"4 10\"></td><td style=\"background-color:Aqua\" title=\"5 10\">18757.0</td><td title=\"6 10\"></td><td style=\"background-color:Aqua\" title=\"7 10\">50656.0</td><td title=\"8 10\"></td><td style=\"background-color:Aqua\" title=\"9 10\">127307.0</td><td title=\"10 10\"></td></tr>\n",
       "<tr><td title=\"0 11\"></td><td title=\"1 11\"></td><td title=\"2 11\"></td><td title=\"3 11\"></td><td title=\"4 11\"></td><td title=\"5 11\"></td><td title=\"6 11\"></td><td title=\"7 11\"></td><td title=\"8 11\"></td><td title=\"9 11\"></td><td title=\"10 11\"></td></tr>\n",
       "<tr><td title=\"0 12\"></td><td title=\"1 12\"></td><td title=\"2 12\"></td><td title=\"3 12\"></td><td title=\"4 12\"></td><td title=\"5 12\"></td><td title=\"6 12\"></td><td title=\"7 12\"></td><td title=\"8 12\"></td><td title=\"9 12\"></td><td title=\"10 12\"></td></tr>\n",
       "<tr><td style=\"background-color:LightGreen\" title=\"0 13\">*Percentages may equal 0% or not sum to 100% due to rounding</td><td title=\"1 13\"></td><td title=\"2 13\"></td><td title=\"3 13\"></td><td title=\"4 13\"></td><td title=\"5 13\"></td><td title=\"6 13\"></td><td title=\"7 13\"></td><td title=\"8 13\"></td><td title=\"9 13\"></td><td title=\"10 13\"></td></tr>\n",
       "</table>\n",
       "\n",
       "</div>\n",
       "\n",
       "<script>\n",
       "var jslookup = {\"7 9\":[0,9,7,2],\"5 5\":[0,5,5,2],\"3 8\":[0,8,3,2],\"1 7\":[0,7,1,2],\"3 4\":[0,4,3,2],\"5 4\":[0,4,5,2],\"9 7\":[0,7,9,2],\"1 5\":[0,5,1,2],\"7 7\":[0,7,7,2],\"7 5\":[0,5,7,2],\"5 10\":[0,10,5,2],\"1 8\":[0,8,1,2],\"3 6\":[0,6,3,2],\"7 6\":[0,6,7,2],\"1 6\":[0,6,1,2],\"5 9\":[0,9,5,2],\"3 7\":[0,7,3,2],\"7 4\":[0,4,7,2],\"1 10\":[0,10,1,2],\"1 9\":[0,9,1,2],\"9 8\":[0,8,9,2],\"9 9\":[0,9,9,2],\"7 8\":[0,8,7,2],\"3 9\":[0,9,3,2],\"3 5\":[0,5,3,2],\"3 10\":[0,10,3,2],\"5 7\":[0,7,5,2],\"1 4\":[0,4,1,2],\"9 6\":[0,6,9,2],\"5 8\":[0,8,5,2],\"9 10\":[0,10,9,2],\"5 6\":[0,6,5,2],\"9 4\":[0,4,9,2],\"7 10\":[0,10,7,2],\"9 5\":[0,5,9,2]}; \n",
       "var jdividNUM = \"injblock1001\"; \n",
       "var Dclickedcell = null; \n",
       "function clickedcell() \n",
       "{ \n",
       "    Dclickedcell = this; \n",
       "    console.log(\"jjjj\", this); \n",
       "    var rgc = new RegExp('(^|\\b)' + \"selected\".split(' ').join('|') + '(\\b|$)', 'gi'); \n",
       "    Array.prototype.forEach.call(document.querySelectorAll(\"div#\"+jdividNUM+\" table.ex td.selected\"), function(el, i) { \n",
       "        if (el.classList)  el.classList.remove(\"selected\");\n",
       "        else  el.className = el.className.replace(rgc, ' ');\n",
       "    }); \n",
       "    if (this.classList)  this.classList.add(\"selected\");\n",
       "    else this.className += ' ' + \"selected\";\n",
       "\n",
       "    var dimpairs = jslookup[this.title]; \n",
       "    if (dimpairs !== undefined) {\n",
       "        for (var i = 1; i < dimpairs.length; i += 2) {\n",
       "            var row = document.querySelectorAll(\"div#\"+jdividNUM+\" table.ex tr\")[dimpairs[i]]; \n",
       "            var el = row.querySelectorAll(\"td\")[dimpairs[i-1]]; \n",
       "            if (el.classList)  el.classList.add(\"selected\");\n",
       "            else el.className += ' ' + \"selected\";\n",
       "        }\n",
       "    }\n",
       "}\n",
       "Array.prototype.forEach.call(document.querySelectorAll(\"div#\"+jdividNUM+\" table.ex td\"), function(item, i) { item.onclick=clickedcell; }); \n",
       "</script>\n"
      ],
      "text/plain": [
       "<IPython.core.display.HTML object>"
      ]
     },
     "metadata": {},
     "output_type": "display_data"
    }
   ],
   "source": [
    "c1 = ConversionSegment(observations, Dimensions, processTIMEUNIT=True)\n",
    "if is_interactive():\n",
    "    savepreviewhtml(c1)"
   ]
  },
  {
   "cell_type": "code",
   "execution_count": 5,
   "metadata": {},
   "outputs": [
    {
     "name": "stdout",
     "output_type": "stream",
     "text": [
      "\n"
     ]
    }
   ],
   "source": [
    "new_table = c1.topandas()"
   ]
  },
  {
   "cell_type": "code",
   "execution_count": 6,
   "metadata": {
    "collapsed": true
   },
   "outputs": [],
   "source": [
    "import numpy as np\n",
    "new_table['OBS'].replace('', np.nan, inplace=True)\n",
    "new_table.dropna(subset=['OBS'], inplace=True)\n",
    "new_table.rename(columns={'OBS': 'Value'}, inplace=True)\n",
    "new_table['Value'] = new_table['Value'].astype(int)\n",
    "new_table['Value'] = new_table['Value'].map(lambda x:''\n",
    "                                  if (x == '-')\n",
    "                                  else int(x))"
   ]
  },
  {
   "cell_type": "code",
   "execution_count": 7,
   "metadata": {
    "collapsed": true
   },
   "outputs": [],
   "source": [
    "new_table['Clients in treatment'] = new_table['Clients in treatment'].map(\n",
    "    lambda x: {\n",
    "        'Total' : 'All Clients' \n",
    "        }.get(x, x))"
   ]
  },
  {
   "cell_type": "code",
   "execution_count": 8,
   "metadata": {
    "collapsed": true
   },
   "outputs": [],
   "source": [
    "new_table['Treatment group'] = new_table['Treatment group'].map(\n",
    "    lambda x: {\n",
    "        'Total' : 'All' \n",
    "        }.get(x, x))"
   ]
  },
  {
   "cell_type": "code",
   "execution_count": 9,
   "metadata": {
    "collapsed": true
   },
   "outputs": [],
   "source": [
    "def user_perc(x):\n",
    "    \n",
    "    if x == None:\n",
    "        return 'All inclusice Inconsistent/missing'\n",
    "    else:\n",
    "        return x\n",
    "    \n",
    "new_table['Treatment group'] = new_table.apply(lambda row: user_perc(row['Treatment group']), axis = 1)"
   ]
  },
  {
   "cell_type": "code",
   "execution_count": 10,
   "metadata": {
    "collapsed": true
   },
   "outputs": [],
   "source": [
    "new_table = new_table[['Period','Basis of treatment','Treatment group','Clients in treatment','Measure Type','Value','Unit']]"
   ]
  },
  {
   "cell_type": "code",
   "execution_count": 11,
   "metadata": {},
   "outputs": [
    {
     "data": {
      "text/html": [
       "<div>\n",
       "<style scoped>\n",
       "    .dataframe tbody tr th:only-of-type {\n",
       "        vertical-align: middle;\n",
       "    }\n",
       "\n",
       "    .dataframe tbody tr th {\n",
       "        vertical-align: top;\n",
       "    }\n",
       "\n",
       "    .dataframe thead th {\n",
       "        text-align: right;\n",
       "    }\n",
       "</style>\n",
       "<table border=\"1\" class=\"dataframe\">\n",
       "  <thead>\n",
       "    <tr style=\"text-align: right;\">\n",
       "      <th></th>\n",
       "      <th>Period</th>\n",
       "      <th>Basis of treatment</th>\n",
       "      <th>Treatment group</th>\n",
       "      <th>Clients in treatment</th>\n",
       "      <th>Measure Type</th>\n",
       "      <th>Value</th>\n",
       "      <th>Unit</th>\n",
       "    </tr>\n",
       "  </thead>\n",
       "  <tbody>\n",
       "    <tr>\n",
       "      <th>0</th>\n",
       "      <td>2018-03-31T00:00:00/P1Y</td>\n",
       "      <td>injecting status</td>\n",
       "      <td>Never injected</td>\n",
       "      <td>Opiate</td>\n",
       "      <td>Count</td>\n",
       "      <td>16165</td>\n",
       "      <td>clients in new treatment</td>\n",
       "    </tr>\n",
       "    <tr>\n",
       "      <th>1</th>\n",
       "      <td>2018-03-31T00:00:00/P1Y</td>\n",
       "      <td>injecting status</td>\n",
       "      <td>Never injected</td>\n",
       "      <td>Non-opiate only</td>\n",
       "      <td>Count</td>\n",
       "      <td>14289</td>\n",
       "      <td>clients in new treatment</td>\n",
       "    </tr>\n",
       "    <tr>\n",
       "      <th>2</th>\n",
       "      <td>2018-03-31T00:00:00/P1Y</td>\n",
       "      <td>injecting status</td>\n",
       "      <td>Never injected</td>\n",
       "      <td>Non-opiate and Alcohol</td>\n",
       "      <td>Count</td>\n",
       "      <td>16263</td>\n",
       "      <td>clients in new treatment</td>\n",
       "    </tr>\n",
       "    <tr>\n",
       "      <th>3</th>\n",
       "      <td>2018-03-31T00:00:00/P1Y</td>\n",
       "      <td>injecting status</td>\n",
       "      <td>Never injected</td>\n",
       "      <td>Alcohol only</td>\n",
       "      <td>Count</td>\n",
       "      <td>48501</td>\n",
       "      <td>clients in new treatment</td>\n",
       "    </tr>\n",
       "    <tr>\n",
       "      <th>4</th>\n",
       "      <td>2018-03-31T00:00:00/P1Y</td>\n",
       "      <td>injecting status</td>\n",
       "      <td>Never injected</td>\n",
       "      <td>All Clients</td>\n",
       "      <td>Count</td>\n",
       "      <td>95218</td>\n",
       "      <td>clients in new treatment</td>\n",
       "    </tr>\n",
       "  </tbody>\n",
       "</table>\n",
       "</div>"
      ],
      "text/plain": [
       "                    Period Basis of treatment Treatment group  \\\n",
       "0  2018-03-31T00:00:00/P1Y   injecting status  Never injected   \n",
       "1  2018-03-31T00:00:00/P1Y   injecting status  Never injected   \n",
       "2  2018-03-31T00:00:00/P1Y   injecting status  Never injected   \n",
       "3  2018-03-31T00:00:00/P1Y   injecting status  Never injected   \n",
       "4  2018-03-31T00:00:00/P1Y   injecting status  Never injected   \n",
       "\n",
       "     Clients in treatment Measure Type  Value                      Unit  \n",
       "0                  Opiate        Count  16165  clients in new treatment  \n",
       "1         Non-opiate only        Count  14289  clients in new treatment  \n",
       "2  Non-opiate and Alcohol        Count  16263  clients in new treatment  \n",
       "3            Alcohol only        Count  48501  clients in new treatment  \n",
       "4             All Clients        Count  95218  clients in new treatment  "
      ]
     },
     "execution_count": 11,
     "metadata": {},
     "output_type": "execute_result"
    }
   ],
   "source": [
    "new_table.head()"
   ]
  },
  {
   "cell_type": "code",
   "execution_count": null,
   "metadata": {
    "collapsed": true
   },
   "outputs": [],
   "source": []
  }
 ],
 "metadata": {
  "kernelspec": {
   "display_name": "Python 3",
   "language": "python",
   "name": "python3"
  },
  "language_info": {
   "codemirror_mode": {
    "name": "ipython",
    "version": 3
   },
   "file_extension": ".py",
   "mimetype": "text/x-python",
   "name": "python",
   "nbconvert_exporter": "python",
   "pygments_lexer": "ipython3",
   "version": "3.6.3"
  }
 },
 "nbformat": 4,
 "nbformat_minor": 2
}
