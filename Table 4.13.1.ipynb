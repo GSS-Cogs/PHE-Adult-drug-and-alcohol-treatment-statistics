{
 "cells": [
  {
   "cell_type": "markdown",
   "metadata": {},
   "source": [
    "Table 4.13.1: Mental health treatment need and treatment received 2017-18"
   ]
  },
  {
   "cell_type": "code",
   "execution_count": 1,
   "metadata": {
    "collapsed": true
   },
   "outputs": [],
   "source": [
    "from gssutils import *\n",
    "\n",
    "if is_interactive():\n",
    "    scraper = Scraper('https://www.gov.uk/government/collections/alcohol-and-drug-misuse-and-treatment-statistics')\n",
    "    scraper.select_dataset(title=lambda x: x.startswith('Substance misuse treatment for adults'), latest=True)\n",
    "    tabs = {tab.name: tab for tab in scraper.distribution(title=lambda x: x.startswith('Data tables')).as_databaker()}"
   ]
  },
  {
   "cell_type": "code",
   "execution_count": 2,
   "metadata": {
    "collapsed": true
   },
   "outputs": [],
   "source": [
    "tab = tabs['Table 4.13.1']"
   ]
  },
  {
   "cell_type": "markdown",
   "metadata": {},
   "source": [
    "https://assets.publishing.service.gov.uk/government/uploads/system/uploads/attachment_data/file/752515/AdultSubstanceMisuseNDTMSDataTables2017-18.xlsx"
   ]
  },
  {
   "cell_type": "code",
   "execution_count": 3,
   "metadata": {
    "collapsed": true
   },
   "outputs": [],
   "source": [
    "cell = tab.filter('Mental health treatment need')\n",
    "cell.assert_one()\n",
    "observations = tab.filter('n').fill(DOWN).is_not_blank().is_not_whitespace()\n",
    "Substance = cell.expand(DOWN).is_not_blank().is_not_whitespace()\n",
    "Clients = cell.expand(RIGHT).is_not_blank().is_not_whitespace()\n",
    "Dimensions = [\n",
    "            HDim(Substance,'Treatment group',DIRECTLY,LEFT),\n",
    "            HDim(Clients,'Clients in treatment',CLOSEST,LEFT),\n",
    "            HDimConst('Measure Type','count-of-children'),\n",
    "            HDimConst('Unit','clients-in-treatment'),\n",
    "            HDimConst('Period', 'gregorian-interval/2017-04-01T00:00:00/P1Y')\n",
    "            ]"
   ]
  },
  {
   "cell_type": "code",
   "execution_count": 4,
   "metadata": {},
   "outputs": [
    {
     "data": {
      "text/html": [
       "<div id=\"injblock1001\">\n",
       "<style>\n",
       "table.ex, table.exkey { border: thin black solid }\n",
       "table.ex td, table.ex tr { border: none }\n",
       "table.ex td:hover { border: thin blue solid }\n",
       "table.ex td.excOBS:hover { border: thin red solid }\n",
       "table.ex td.selected { border: thick red solid }\n",
       "</style>\n",
       "\n",
       "\n",
       "<table class=\"exkey\">\n",
       "<tr><td class=\"xc0\" style=\"background-color:Aqua\">OBS</td><td class=\"xc1\" style=\"background-color:LightGreen\">Treatment group</td><td class=\"xc2\" style=\"background-color:MistyRose\">Clients in treatment</td></tr></table>\n",
       "\n",
       "<table class=\"ex\">\n",
       "<caption style=\"text-align:center; padding:0px; caption-side:bottom\">Table 4.13.1</caption>\n",
       "<tr><td title=\"0 0\">Table 4.13.1: Mental health treatment need and treatment received 2017-18</td><td title=\"1 0\"></td><td title=\"2 0\"></td><td title=\"3 0\"></td><td title=\"4 0\"></td><td title=\"5 0\"></td><td title=\"6 0\"></td><td title=\"7 0\"></td><td title=\"8 0\"></td><td title=\"9 0\"></td><td title=\"10 0\"></td></tr>\n",
       "<tr><td title=\"0 1\">Link back to the index</td><td title=\"1 1\"></td><td title=\"2 1\"></td><td title=\"3 1\"></td><td title=\"4 1\"></td><td title=\"5 1\"></td><td title=\"6 1\"></td><td title=\"7 1\"></td><td title=\"8 1\"></td><td title=\"9 1\"></td><td title=\"10 1\"></td></tr>\n",
       "<tr><td style=\"background-color:MistyRose\" title=\"0 2\">Mental health treatment need</td><td style=\"background-color:MistyRose\" title=\"1 2\">Opiate</td><td title=\"2 2\"></td><td style=\"background-color:MistyRose\" title=\"3 2\">Non-opiate only</td><td title=\"4 2\"></td><td style=\"background-color:MistyRose\" title=\"5 2\">Non-opiate and Alcohol</td><td title=\"6 2\"></td><td style=\"background-color:MistyRose\" title=\"7 2\">Alcohol only</td><td title=\"8 2\"></td><td style=\"background-color:MistyRose\" title=\"9 2\">Total</td><td title=\"10 2\"></td></tr>\n",
       "<tr><td title=\"0 3\"></td><td title=\"1 3\">n</td><td title=\"2 3\">%</td><td title=\"3 3\">n</td><td title=\"4 3\">%</td><td title=\"5 3\">n</td><td title=\"6 3\">%</td><td title=\"7 3\">n</td><td title=\"8 3\">%</td><td title=\"9 3\">n</td><td title=\"10 3\">%</td></tr>\n",
       "<tr><td style=\"background-color:LightGreen\" title=\"0 4\">Community or other mental health services</td><td style=\"background-color:Aqua\" title=\"1 4\">2939.0</td><td title=\"2 4\">0.18750797499043</td><td style=\"background-color:Aqua\" title=\"3 4\">2086.0</td><td title=\"4 4\">0.306224310041104</td><td style=\"background-color:Aqua\" title=\"5 4\">2248.0</td><td title=\"6 4\">0.261334573355034</td><td style=\"background-color:Aqua\" title=\"7 4\">4269.0</td><td title=\"8 4\">0.208579664826306</td><td style=\"background-color:Aqua\" title=\"9 4\">11542.0</td><td title=\"10 4\">0.223877412472117</td></tr>\n",
       "<tr><td style=\"background-color:LightGreen\" title=\"0 5\">Improving Access to Psychological Therapies (IAPT)</td><td style=\"background-color:Aqua\" title=\"1 5\">196.0</td><td title=\"2 5\">0.012504784994258</td><td style=\"background-color:Aqua\" title=\"3 5\">176.0</td><td title=\"4 5\">0.0258367586611861</td><td style=\"background-color:Aqua\" title=\"5 5\">204.0</td><td title=\"6 5\">0.0237154150197628</td><td style=\"background-color:Aqua\" title=\"7 5\">534.0</td><td title=\"8 5\">0.0260907802804515</td><td style=\"background-color:Aqua\" title=\"9 5\">1110.0</td><td title=\"10 5\">0.0215304044224614</td></tr>\n",
       "<tr><td style=\"background-color:LightGreen\" title=\"0 6\">Primary care mental health treatment</td><td style=\"background-color:Aqua\" title=\"1 6\">7282.0</td><td title=\"2 6\">0.464591042490749</td><td style=\"background-color:Aqua\" title=\"3 6\">2631.0</td><td title=\"4 6\">0.386230182031709</td><td style=\"background-color:Aqua\" title=\"5 6\">3815.0</td><td title=\"6 6\">0.443501511276447</td><td style=\"background-color:Aqua\" title=\"7 6\">11039.0</td><td title=\"8 6\">0.539356036546636</td><td style=\"background-color:Aqua\" title=\"9 6\">24767.0</td><td title=\"10 6\">0.480399573271264</td></tr>\n",
       "<tr><td style=\"background-color:LightGreen\" title=\"0 7\">NICE recommended mental health treatment</td><td style=\"background-color:Aqua\" title=\"1 7\">322.0</td><td title=\"2 7\">0.0205435753477096</td><td style=\"background-color:Aqua\" title=\"3 7\">163.0</td><td title=\"4 7\">0.0239283617146213</td><td style=\"background-color:Aqua\" title=\"5 7\">275.0</td><td title=\"6 7\">0.0319693094629156</td><td style=\"background-color:Aqua\" title=\"7 7\">514.0</td><td title=\"8 7\">0.0251135974984121</td><td style=\"background-color:Aqua\" title=\"9 7\">1274.0</td><td title=\"10 7\">0.0247114731839783</td></tr>\n",
       "<tr><td style=\"background-color:LightGreen\" title=\"0 8\">Identified space in a health based place of safety for mental health crises</td><td style=\"background-color:Aqua\" title=\"1 8\">112.0</td><td title=\"2 8\">0.00714559142529029</td><td style=\"background-color:Aqua\" title=\"3 8\">59.0</td><td title=\"4 8\">0.00866118614210217</td><td style=\"background-color:Aqua\" title=\"5 8\">76.0</td><td title=\"6 8\">0.00883515461520577</td><td style=\"background-color:Aqua\" title=\"7 8\">147.0</td><td title=\"8 8\">0.00718229344798945</td><td style=\"background-color:Aqua\" title=\"9 8\">394.0</td><td title=\"10 8\">0.00764232373193677</td></tr>\n",
       "<tr><td style=\"background-color:LightGreen\" title=\"0 9\">Total individuals receiving any treatment for mental health</td><td style=\"background-color:Aqua\" title=\"1 9\">10726.0</td><td title=\"2 9\">0.684317978818425</td><td style=\"background-color:Aqua\" title=\"3 9\">5087.0</td><td title=\"4 9\">0.746770405167352</td><td style=\"background-color:Aqua\" title=\"5 9\">6512.0</td><td title=\"6 9\">0.757033248081841</td><td style=\"background-color:Aqua\" title=\"7 9\">16321.0</td><td title=\"8 9\">0.797430009283236</td><td style=\"background-color:Aqua\" title=\"9 9\">38646.0</td><td title=\"10 9\">0.749607215594996</td></tr>\n",
       "<tr><td style=\"background-color:LightGreen\" title=\"0 10\">No treatment received for a mental health treatment need</td><td style=\"background-color:Aqua\" title=\"1 10\">4948.0</td><td title=\"2 10\">0.315682021181575</td><td style=\"background-color:Aqua\" title=\"3 10\">1725.0</td><td title=\"4 10\">0.253229594832648</td><td style=\"background-color:Aqua\" title=\"5 10\">2090.0</td><td title=\"6 10\">0.242966751918159</td><td style=\"background-color:Aqua\" title=\"7 10\">4146.0</td><td title=\"8 10\">0.202569990716764</td><td style=\"background-color:Aqua\" title=\"9 10\">12909.0</td><td title=\"10 10\">0.250392784405004</td></tr>\n",
       "<tr><td style=\"background-color:LightGreen\" title=\"0 11\">Total</td><td style=\"background-color:Aqua\" title=\"1 11\">15674.0</td><td title=\"2 11\">1.0</td><td style=\"background-color:Aqua\" title=\"3 11\">6812.0</td><td title=\"4 11\">1.0</td><td style=\"background-color:Aqua\" title=\"5 11\">8602.0</td><td title=\"6 11\">1.0</td><td style=\"background-color:Aqua\" title=\"7 11\">20467.0</td><td title=\"8 11\">1.0</td><td style=\"background-color:Aqua\" title=\"9 11\">51555.0</td><td title=\"10 11\">1.0</td></tr>\n",
       "<tr><td style=\"background-color:LightGreen\" title=\"0 12\">Missing</td><td style=\"background-color:Aqua\" title=\"1 12\">302.0</td><td title=\"2 12\"></td><td style=\"background-color:Aqua\" title=\"3 12\">95.0</td><td title=\"4 12\"></td><td style=\"background-color:Aqua\" title=\"5 12\">123.0</td><td title=\"6 12\"></td><td style=\"background-color:Aqua\" title=\"7 12\">322.0</td><td title=\"8 12\"></td><td style=\"background-color:Aqua\" title=\"9 12\">842.0</td><td title=\"10 12\"></td></tr>\n",
       "<tr><td style=\"background-color:LightGreen\" title=\"0 13\">Total individuals needing mental health treatment</td><td style=\"background-color:Aqua\" title=\"1 13\">15976.0</td><td title=\"2 13\">0.387974160959736</td><td style=\"background-color:Aqua\" title=\"3 13\">6907.0</td><td title=\"4 13\">0.413196937066284</td><td style=\"background-color:Aqua\" title=\"5 13\">8725.0</td><td title=\"6 13\">0.465159673721811</td><td style=\"background-color:Aqua\" title=\"7 13\">20789.0</td><td title=\"8 13\">0.410395609602021</td><td style=\"background-color:Aqua\" title=\"9 13\">52397.0</td><td title=\"10 13\">0.411579881703284</td></tr>\n",
       "<tr><td style=\"background-color:LightGreen\" title=\"0 14\">Total number of new presentations</td><td style=\"background-color:Aqua\" title=\"1 14\">41178.0</td><td title=\"2 14\">1.0</td><td style=\"background-color:Aqua\" title=\"3 14\">16716.0</td><td title=\"4 14\">1.0</td><td style=\"background-color:Aqua\" title=\"5 14\">18757.0</td><td title=\"6 14\">1.0</td><td style=\"background-color:Aqua\" title=\"7 14\">50656.0</td><td title=\"8 14\">1.0</td><td style=\"background-color:Aqua\" title=\"9 14\">127307.0</td><td title=\"10 14\">1.0</td></tr>\n",
       "<tr><td title=\"0 15\"></td><td title=\"1 15\"></td><td title=\"2 15\"></td><td title=\"3 15\"></td><td title=\"4 15\"></td><td title=\"5 15\"></td><td title=\"6 15\"></td><td title=\"7 15\"></td><td title=\"8 15\"></td><td title=\"9 15\"></td><td title=\"10 15\"></td></tr>\n",
       "<tr><td title=\"0 16\"></td><td title=\"1 16\"></td><td title=\"2 16\"></td><td title=\"3 16\"></td><td title=\"4 16\"></td><td title=\"5 16\"></td><td title=\"6 16\"></td><td title=\"7 16\"></td><td title=\"8 16\"></td><td title=\"9 16\"></td><td title=\"10 16\"></td></tr>\n",
       "<tr><td style=\"background-color:LightGreen\" title=\"0 17\">*Percentages may equal 0% or not sum to 100% due to rounding</td><td title=\"1 17\"></td><td title=\"2 17\"></td><td title=\"3 17\"></td><td title=\"4 17\"></td><td title=\"5 17\"></td><td title=\"6 17\"></td><td title=\"7 17\"></td><td title=\"8 17\"></td><td title=\"9 17\"></td><td title=\"10 17\"></td></tr>\n",
       "</table>\n",
       "\n",
       "</div>\n",
       "\n",
       "<script>\n",
       "var jslookup = {\"7 12\":[0,12,7,2],\"3 6\":[0,6,3,2],\"7 13\":[0,13,7,2],\"9 14\":[0,14,9,2],\"9 8\":[0,8,9,2],\"1 5\":[0,5,1,2],\"1 13\":[0,13,1,2],\"5 13\":[0,13,5,2],\"3 8\":[0,8,3,2],\"7 5\":[0,5,7,2],\"9 7\":[0,7,9,2],\"7 8\":[0,8,7,2],\"9 12\":[0,12,9,2],\"7 10\":[0,10,7,2],\"9 5\":[0,5,9,2],\"5 10\":[0,10,5,2],\"3 9\":[0,9,3,2],\"1 4\":[0,4,1,2],\"7 9\":[0,9,7,2],\"3 14\":[0,14,3,2],\"9 9\":[0,9,9,2],\"1 12\":[0,12,1,2],\"3 7\":[0,7,3,2],\"1 7\":[0,7,1,2],\"9 13\":[0,13,9,2],\"5 11\":[0,11,5,2],\"3 13\":[0,13,3,2],\"3 12\":[0,12,3,2],\"9 11\":[0,11,9,2],\"3 10\":[0,10,3,2],\"1 6\":[0,6,1,2],\"5 6\":[0,6,5,2],\"3 11\":[0,11,3,2],\"5 7\":[0,7,5,2],\"7 7\":[0,7,7,2],\"7 6\":[0,6,7,2],\"9 4\":[0,4,9,2],\"9 6\":[0,6,9,2],\"5 9\":[0,9,5,2],\"5 12\":[0,12,5,2],\"1 9\":[0,9,1,2],\"3 5\":[0,5,3,2],\"1 8\":[0,8,1,2],\"5 4\":[0,4,5,2],\"5 8\":[0,8,5,2],\"3 4\":[0,4,3,2],\"1 14\":[0,14,1,2],\"9 10\":[0,10,9,2],\"1 10\":[0,10,1,2],\"5 14\":[0,14,5,2],\"7 4\":[0,4,7,2],\"5 5\":[0,5,5,2],\"7 14\":[0,14,7,2],\"7 11\":[0,11,7,2],\"1 11\":[0,11,1,2]}; \n",
       "var jdividNUM = \"injblock1001\"; \n",
       "var Dclickedcell = null; \n",
       "function clickedcell() \n",
       "{ \n",
       "    Dclickedcell = this; \n",
       "    console.log(\"jjjj\", this); \n",
       "    var rgc = new RegExp('(^|\\b)' + \"selected\".split(' ').join('|') + '(\\b|$)', 'gi'); \n",
       "    Array.prototype.forEach.call(document.querySelectorAll(\"div#\"+jdividNUM+\" table.ex td.selected\"), function(el, i) { \n",
       "        if (el.classList)  el.classList.remove(\"selected\");\n",
       "        else  el.className = el.className.replace(rgc, ' ');\n",
       "    }); \n",
       "    if (this.classList)  this.classList.add(\"selected\");\n",
       "    else this.className += ' ' + \"selected\";\n",
       "\n",
       "    var dimpairs = jslookup[this.title]; \n",
       "    if (dimpairs !== undefined) {\n",
       "        for (var i = 1; i < dimpairs.length; i += 2) {\n",
       "            var row = document.querySelectorAll(\"div#\"+jdividNUM+\" table.ex tr\")[dimpairs[i]]; \n",
       "            var el = row.querySelectorAll(\"td\")[dimpairs[i-1]]; \n",
       "            if (el.classList)  el.classList.add(\"selected\");\n",
       "            else el.className += ' ' + \"selected\";\n",
       "        }\n",
       "    }\n",
       "}\n",
       "Array.prototype.forEach.call(document.querySelectorAll(\"div#\"+jdividNUM+\" table.ex td\"), function(item, i) { item.onclick=clickedcell; }); \n",
       "</script>\n"
      ],
      "text/plain": [
       "<IPython.core.display.HTML object>"
      ]
     },
     "metadata": {},
     "output_type": "display_data"
    }
   ],
   "source": [
    "c1 = ConversionSegment(observations, Dimensions, processTIMEUNIT=True)\n",
    "if is_interactive():\n",
    "    savepreviewhtml(c1)"
   ]
  },
  {
   "cell_type": "code",
   "execution_count": 5,
   "metadata": {},
   "outputs": [
    {
     "name": "stdout",
     "output_type": "stream",
     "text": [
      "\n"
     ]
    }
   ],
   "source": [
    "new_table = c1.topandas()"
   ]
  },
  {
   "cell_type": "code",
   "execution_count": 6,
   "metadata": {
    "collapsed": true
   },
   "outputs": [],
   "source": [
    "import numpy as np\n",
    "new_table['OBS'].replace('', np.nan, inplace=True)\n",
    "new_table.dropna(subset=['OBS'], inplace=True)\n",
    "new_table.rename(columns={'OBS': 'Value'}, inplace=True)\n",
    "new_table['Value'] = new_table['Value'].astype(int)\n",
    "new_table['Value'] = new_table['Value'].map(lambda x:''\n",
    "                                  if (x == '-')\n",
    "                                  else int(x))"
   ]
  },
  {
   "cell_type": "code",
   "execution_count": 7,
   "metadata": {},
   "outputs": [
    {
     "data": {
      "text/plain": [
       "array(['Community or other mental health services',\n",
       "       'Improving Access to Psychological Therapies (IAPT)',\n",
       "       'Primary care mental health treatment',\n",
       "       'NICE recommended mental health treatment',\n",
       "       'Identified space in a\\xa0health based place of safety for\\xa0mental health crises',\n",
       "       'Total individuals receiving any treatment for mental health',\n",
       "       'No treatment received for a mental health treatment need',\n",
       "       'Total', 'Missing',\n",
       "       'Total individuals needing mental health treatment',\n",
       "       'Total number of new presentations'], dtype=object)"
      ]
     },
     "execution_count": 7,
     "metadata": {},
     "output_type": "execute_result"
    }
   ],
   "source": [
    "new_table['Treatment group'].unique()"
   ]
  },
  {
   "cell_type": "code",
   "execution_count": null,
   "metadata": {
    "collapsed": true
   },
   "outputs": [],
   "source": [
    "new_table['Basis of treatment'] = new_table['Treatment group'].map(\n",
    "    lambda x: {\n",
    "        'Mental health treatment need':'mental-health-treatment-need',\n",
    "        'Community or other mental health services':'mental-health-treatment-need/community-or-other-mental-health-services',\n",
    "        'Improving Access to Psychological Therapies (IAPT)':'mental-health-treatment-need/improving-access-to-psychological-therapies-iapt',\n",
    "        'Primary care mental health treatment':'mental-health-treatment-need/primary-care-mental-health-treatment',\n",
    "        'NICE recommended mental health treatment':'mental-health-treatment-need/nice-recommended-mental-health-treatment',\n",
    "        'Identified space in a\\xa0health based place of safety for\\xa0mental health crises':'mental-health-treatment-need/identified-space-in-a-health-based-place-of-safety-for-mental-health-crises',\n",
    "        'Total individuals receiving any treatment for mental health':'mental-health-treatment-need/total-individuals-receiving-any-treatment-for-mental-health',\n",
    "        'No treatment received for a mental health treatment need':'mental-health-treatment-need/no-treatment-received-for-a-mental-health-treatment-need',\n",
    "        'Missing':'mental-health-treatment-need/missing',\n",
    "        'Total':'mental-health-treatment-need/total',\n",
    "        'Total individuals needing mental health treatment':'mental-health-treatment-need/total-individuals-needing-mental-health-treatment',\n",
    "        'Total number of new presentations':'mental-health-treatment-need/total-number-of-new-presentations',\n",
    "        }.get(x, x))"
   ]
  },
  {
   "cell_type": "code",
   "execution_count": null,
   "metadata": {
    "collapsed": true
   },
   "outputs": [],
   "source": [
    "import urllib.request as request\n",
    "import csv\n",
    "import io\n",
    "import requests\n",
    "vrl=\"https://raw.githubusercontent.com/ONS-OpenData/ref_alcohol/master/codelists/substance-type.csv\"\n",
    "t=requests.get(vrl).content\n",
    "g=pd.read_csv(io.StringIO(t.decode('utf-8')))\n",
    "new_table = pd.merge(new_table, g, how = 'left', left_on = 'Clients in treatment', right_on = 'Label')\n",
    "new_table.columns = ['Substance type' if x=='Notation' else x for x in new_table.columns]\n",
    "new_table = new_table[['Period','Basis of treatment','Substance type','Measure Type','Value','Unit']]"
   ]
  },
  {
   "cell_type": "code",
   "execution_count": null,
   "metadata": {
    "collapsed": true
   },
   "outputs": [],
   "source": [
    "new_table"
   ]
  },
  {
   "cell_type": "code",
   "execution_count": null,
   "metadata": {
    "collapsed": true
   },
   "outputs": [],
   "source": []
  }
 ],
 "metadata": {
  "kernelspec": {
   "display_name": "Python 3",
   "language": "python",
   "name": "python3"
  },
  "language_info": {
   "codemirror_mode": {
    "name": "ipython",
    "version": 3
   },
   "file_extension": ".py",
   "mimetype": "text/x-python",
   "name": "python",
   "nbconvert_exporter": "python",
   "pygments_lexer": "ipython3",
   "version": "3.6.3"
  }
 },
 "nbformat": 4,
 "nbformat_minor": 2
}
