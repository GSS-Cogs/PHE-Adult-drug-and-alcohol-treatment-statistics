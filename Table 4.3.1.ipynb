{
 "cells": [
  {
   "cell_type": "markdown",
   "metadata": {},
   "source": [
    "Table 4.3.1: Gender of all Sex in treatment"
   ]
  },
  {
   "cell_type": "code",
   "execution_count": 1,
   "metadata": {
    "collapsed": true
   },
   "outputs": [],
   "source": [
    "from gssutils import *\n",
    "\n",
    "if is_interactive():\n",
    "    scraper = Scraper('https://www.gov.uk/government/collections/alcohol-and-drug-misuse-and-treatment-statistics')\n",
    "    scraper.select_dataset(title=lambda x: x.startswith('Substance misuse treatment for adults'), latest=True)\n",
    "    tabs = {tab.name: tab for tab in scraper.distribution(title=lambda x: x.startswith('Data tables')).as_databaker()}"
   ]
  },
  {
   "cell_type": "code",
   "execution_count": 2,
   "metadata": {
    "collapsed": true
   },
   "outputs": [],
   "source": [
    "tab = tabs['Table 4.3.1']"
   ]
  },
  {
   "cell_type": "markdown",
   "metadata": {},
   "source": [
    "https://assets.publishing.service.gov.uk/government/uploads/system/uploads/attachment_data/file/752515/AdultSubstanceMisuseNDTMSDataTables2017-18.xlsx"
   ]
  },
  {
   "cell_type": "code",
   "execution_count": 3,
   "metadata": {
    "collapsed": true
   },
   "outputs": [],
   "source": [
    "cell = tab.filter('Substance Group')\n",
    "cell.assert_one()\n",
    "observations = tab.filter('n').fill(DOWN).is_not_blank().is_not_whitespace()\n",
    "Clients = cell.expand(DOWN).is_not_blank().is_not_whitespace()\n",
    "sex = cell.expand(RIGHT).is_not_blank().is_not_whitespace()\n",
    "Dimensions = [\n",
    "            HDim(sex,'Treatment group',DIRECTLY,ABOVE),\n",
    "            HDim(Clients,'Clients in treatment',DIRECTLY,LEFT),\n",
    "            HDimConst('Measure Type','Count'),\n",
    "            HDimConst('Unit','clients-in-treatment'),\n",
    "            HDimConst('Period', 'gregorian-interval/2017-04-01T00:00:00/P1Y')\n",
    "            ]"
   ]
  },
  {
   "cell_type": "code",
   "execution_count": 4,
   "metadata": {},
   "outputs": [
    {
     "data": {
      "text/html": [
       "<div id=\"injblock1001\">\n",
       "<style>\n",
       "table.ex, table.exkey { border: thin black solid }\n",
       "table.ex td, table.ex tr { border: none }\n",
       "table.ex td:hover { border: thin blue solid }\n",
       "table.ex td.excOBS:hover { border: thin red solid }\n",
       "table.ex td.selected { border: thick red solid }\n",
       "</style>\n",
       "\n",
       "\n",
       "<table class=\"exkey\">\n",
       "<tr><td class=\"xc0\" style=\"background-color:Aqua\">OBS</td><td class=\"xc1\" style=\"background-color:LightGreen\">Treatment group</td><td class=\"xc2\" style=\"background-color:MistyRose\">Clients in treatment</td></tr></table>\n",
       "\n",
       "<table class=\"ex\">\n",
       "<caption style=\"text-align:center; padding:0px; caption-side:bottom\">Table 4.3.1</caption>\n",
       "<tr><td title=\"0 0\">Table 4.3.1: Gender of all clients in treatment</td><td title=\"1 0\"></td><td title=\"2 0\"></td><td title=\"3 0\"></td><td title=\"4 0\"></td><td title=\"5 0\"></td><td title=\"6 0\"></td><td title=\"7 0\"></td><td title=\"8 0\"></td></tr>\n",
       "<tr><td title=\"0 1\">Link back to the index</td><td title=\"1 1\"></td><td title=\"2 1\"></td><td title=\"3 1\"></td><td title=\"4 1\"></td><td title=\"5 1\"></td><td title=\"6 1\"></td><td title=\"7 1\"></td><td title=\"8 1\"></td></tr>\n",
       "<tr><td style=\"background-color:MistyRose\" title=\"0 2\">Substance Group</td><td style=\"background-color:LightGreen\" title=\"1 2\">Male</td><td title=\"2 2\"></td><td style=\"background-color:LightGreen\" title=\"3 2\">Female</td><td title=\"4 2\"></td><td style=\"background-color:LightGreen\" title=\"5 2\">Total</td><td title=\"6 2\"></td><td title=\"7 2\"></td><td title=\"8 2\"></td></tr>\n",
       "<tr><td title=\"0 3\"></td><td title=\"1 3\">n</td><td title=\"2 3\">%</td><td title=\"3 3\">n</td><td title=\"4 3\">%</td><td title=\"5 3\">n</td><td title=\"6 3\">%</td><td title=\"7 3\"></td><td title=\"8 3\"></td></tr>\n",
       "<tr><td style=\"background-color:MistyRose\" title=\"0 4\">Opiate</td><td style=\"background-color:Aqua\" title=\"1 4\">102803.0</td><td title=\"2 4\">0.553090869962877</td><td style=\"background-color:Aqua\" title=\"3 4\">38386.0</td><td title=\"4 4\">0.46517207949588</td><td style=\"background-color:Aqua\" title=\"5 4\">141189.0</td><td title=\"6 4\">0.526059093110772</td><td title=\"7 4\"></td><td title=\"8 4\"></td></tr>\n",
       "<tr><td style=\"background-color:MistyRose\" title=\"0 5\">Non-opiate only</td><td style=\"background-color:Aqua\" title=\"1 5\">17120.0</td><td title=\"2 5\">0.0921073868833055</td><td style=\"background-color:Aqua\" title=\"3 5\">6610.0</td><td title=\"4 5\">0.0801017935046049</td><td style=\"background-color:Aqua\" title=\"5 5\">23730.0</td><td title=\"6 5\">0.0884161108834159</td><td title=\"7 5\"></td><td title=\"8 5\"></td></tr>\n",
       "<tr><td style=\"background-color:MistyRose\" title=\"0 6\">Non-opiate and Alcohol</td><td style=\"background-color:Aqua\" title=\"1 6\">20279.0</td><td title=\"2 6\">0.10910313660085</td><td style=\"background-color:Aqua\" title=\"3 6\">7405.0</td><td title=\"4 6\">0.0897358216190015</td><td style=\"background-color:Aqua\" title=\"5 6\">27684.0</td><td title=\"6 6\">0.103148403442751</td><td title=\"7 6\"></td><td title=\"8 6\"></td></tr>\n",
       "<tr><td style=\"background-color:MistyRose\" title=\"0 7\">Alcohol only</td><td style=\"background-color:Aqua\" title=\"1 7\">45668.0</td><td title=\"2 7\">0.245698606552967</td><td style=\"background-color:Aqua\" title=\"3 7\">30119.0</td><td title=\"4 7\">0.364990305380514</td><td style=\"background-color:Aqua\" title=\"5 7\">75787.0</td><td title=\"6 7\">0.282376392563061</td><td title=\"7 7\"></td><td title=\"8 7\"></td></tr>\n",
       "<tr><td style=\"background-color:MistyRose\" title=\"0 8\">Total</td><td style=\"background-color:Aqua\" title=\"1 8\">185870.0</td><td title=\"2 8\">1.0</td><td style=\"background-color:Aqua\" title=\"3 8\">82520.0</td><td title=\"4 8\">1.0</td><td style=\"background-color:Aqua\" title=\"5 8\">268390.0</td><td title=\"6 8\">1.0</td><td title=\"7 8\"></td><td title=\"8 8\"></td></tr>\n",
       "</table>\n",
       "\n",
       "</div>\n",
       "\n",
       "<script>\n",
       "var jslookup = {\"1 7\":[1,2,0,7],\"3 5\":[3,2,0,5],\"3 8\":[3,2,0,8],\"1 8\":[1,2,0,8],\"5 5\":[5,2,0,5],\"1 4\":[1,2,0,4],\"5 6\":[5,2,0,6],\"1 6\":[1,2,0,6],\"5 8\":[5,2,0,8],\"3 4\":[3,2,0,4],\"5 4\":[5,2,0,4],\"5 7\":[5,2,0,7],\"3 6\":[3,2,0,6],\"3 7\":[3,2,0,7],\"1 5\":[1,2,0,5]}; \n",
       "var jdividNUM = \"injblock1001\"; \n",
       "var Dclickedcell = null; \n",
       "function clickedcell() \n",
       "{ \n",
       "    Dclickedcell = this; \n",
       "    console.log(\"jjjj\", this); \n",
       "    var rgc = new RegExp('(^|\\b)' + \"selected\".split(' ').join('|') + '(\\b|$)', 'gi'); \n",
       "    Array.prototype.forEach.call(document.querySelectorAll(\"div#\"+jdividNUM+\" table.ex td.selected\"), function(el, i) { \n",
       "        if (el.classList)  el.classList.remove(\"selected\");\n",
       "        else  el.className = el.className.replace(rgc, ' ');\n",
       "    }); \n",
       "    if (this.classList)  this.classList.add(\"selected\");\n",
       "    else this.className += ' ' + \"selected\";\n",
       "\n",
       "    var dimpairs = jslookup[this.title]; \n",
       "    if (dimpairs !== undefined) {\n",
       "        for (var i = 1; i < dimpairs.length; i += 2) {\n",
       "            var row = document.querySelectorAll(\"div#\"+jdividNUM+\" table.ex tr\")[dimpairs[i]]; \n",
       "            var el = row.querySelectorAll(\"td\")[dimpairs[i-1]]; \n",
       "            if (el.classList)  el.classList.add(\"selected\");\n",
       "            else el.className += ' ' + \"selected\";\n",
       "        }\n",
       "    }\n",
       "}\n",
       "Array.prototype.forEach.call(document.querySelectorAll(\"div#\"+jdividNUM+\" table.ex td\"), function(item, i) { item.onclick=clickedcell; }); \n",
       "</script>\n"
      ],
      "text/plain": [
       "<IPython.core.display.HTML object>"
      ]
     },
     "metadata": {},
     "output_type": "display_data"
    }
   ],
   "source": [
    "c1 = ConversionSegment(observations, Dimensions, processTIMEUNIT=True)\n",
    "if is_interactive():\n",
    "    savepreviewhtml(c1)"
   ]
  },
  {
   "cell_type": "code",
   "execution_count": 5,
   "metadata": {},
   "outputs": [
    {
     "name": "stdout",
     "output_type": "stream",
     "text": [
      "\n"
     ]
    }
   ],
   "source": [
    "new_table = c1.topandas()"
   ]
  },
  {
   "cell_type": "code",
   "execution_count": 6,
   "metadata": {
    "collapsed": true
   },
   "outputs": [],
   "source": [
    "import numpy as np\n",
    "new_table['OBS'].replace('', np.nan, inplace=True)\n",
    "new_table.dropna(subset=['OBS'], inplace=True)\n",
    "new_table.rename(columns={'OBS': 'Value'}, inplace=True)\n",
    "new_table['Value'] = new_table['Value'].astype(int)\n",
    "new_table['Value'] = new_table['Value'].map(lambda x:''\n",
    "                                  if (x == '-')\n",
    "                                  else int(x))"
   ]
  },
  {
   "cell_type": "code",
   "execution_count": 7,
   "metadata": {
    "collapsed": true
   },
   "outputs": [],
   "source": [
    "new_table['Treatment group'] = new_table['Treatment group'].map(\n",
    "    lambda x: {\n",
    "        'Total' : ''\n",
    "        }.get(x, x))"
   ]
  },
  {
   "cell_type": "code",
   "execution_count": 8,
   "metadata": {
    "collapsed": true
   },
   "outputs": [],
   "source": [
    "import urllib.request as request\n",
    "import csv\n",
    "import io\n",
    "import requests\n",
    "new_table['Treatment group'] = new_table['Treatment group'].str.strip()\n",
    "url=\"https://raw.githubusercontent.com/ONS-OpenData/ref_alcohol/master/codelists/basis-of-treatment.csv\"\n",
    "s=requests.get(url).content\n",
    "c=pd.read_csv(io.StringIO(s.decode('utf-8')))\n",
    "new_table = pd.merge(new_table, c, how = 'left', left_on = 'Treatment group', right_on = 'Label')\n",
    "new_table.columns = ['Basis of treatment' if x=='Notation' else x for x in new_table.columns]\n",
    "new_table = new_table.drop(['Label', 'Parent Notation','Sort Priority'], axis = 1)\n",
    "new_table['Basis of treatment'] = new_table['Basis of treatment'].fillna('gender/total') \n",
    "vrl=\"https://raw.githubusercontent.com/ONS-OpenData/ref_alcohol/master/codelists/substance-type.csv\"\n",
    "t=requests.get(vrl).content\n",
    "g=pd.read_csv(io.StringIO(t.decode('utf-8')))\n",
    "new_table = pd.merge(new_table, g, how = 'left', left_on = 'Clients in treatment', right_on = 'Label')\n",
    "new_table.columns = ['Substance type' if x=='Notation' else x for x in new_table.columns]\n",
    "new_table = new_table[['Period','Basis of treatment','Substance type','Measure Type','Value','Unit']]"
   ]
  },
  {
   "cell_type": "code",
   "execution_count": 9,
   "metadata": {},
   "outputs": [
    {
     "data": {
      "text/html": [
       "<div>\n",
       "<style scoped>\n",
       "    .dataframe tbody tr th:only-of-type {\n",
       "        vertical-align: middle;\n",
       "    }\n",
       "\n",
       "    .dataframe tbody tr th {\n",
       "        vertical-align: top;\n",
       "    }\n",
       "\n",
       "    .dataframe thead th {\n",
       "        text-align: right;\n",
       "    }\n",
       "</style>\n",
       "<table border=\"1\" class=\"dataframe\">\n",
       "  <thead>\n",
       "    <tr style=\"text-align: right;\">\n",
       "      <th></th>\n",
       "      <th>Period</th>\n",
       "      <th>Basis of treatment</th>\n",
       "      <th>Substance type</th>\n",
       "      <th>Measure Type</th>\n",
       "      <th>Value</th>\n",
       "      <th>Unit</th>\n",
       "    </tr>\n",
       "  </thead>\n",
       "  <tbody>\n",
       "    <tr>\n",
       "      <th>0</th>\n",
       "      <td>gregorian-interval/2017-04-01T00:00:00/P1Y</td>\n",
       "      <td>gender/male</td>\n",
       "      <td>opiate</td>\n",
       "      <td>Count</td>\n",
       "      <td>102803</td>\n",
       "      <td>clients-in-treatment</td>\n",
       "    </tr>\n",
       "    <tr>\n",
       "      <th>1</th>\n",
       "      <td>gregorian-interval/2017-04-01T00:00:00/P1Y</td>\n",
       "      <td>gender/female</td>\n",
       "      <td>opiate</td>\n",
       "      <td>Count</td>\n",
       "      <td>38386</td>\n",
       "      <td>clients-in-treatment</td>\n",
       "    </tr>\n",
       "    <tr>\n",
       "      <th>2</th>\n",
       "      <td>gregorian-interval/2017-04-01T00:00:00/P1Y</td>\n",
       "      <td>gender/total</td>\n",
       "      <td>opiate</td>\n",
       "      <td>Count</td>\n",
       "      <td>141189</td>\n",
       "      <td>clients-in-treatment</td>\n",
       "    </tr>\n",
       "    <tr>\n",
       "      <th>3</th>\n",
       "      <td>gregorian-interval/2017-04-01T00:00:00/P1Y</td>\n",
       "      <td>gender/male</td>\n",
       "      <td>non-opiate-only</td>\n",
       "      <td>Count</td>\n",
       "      <td>17120</td>\n",
       "      <td>clients-in-treatment</td>\n",
       "    </tr>\n",
       "    <tr>\n",
       "      <th>4</th>\n",
       "      <td>gregorian-interval/2017-04-01T00:00:00/P1Y</td>\n",
       "      <td>gender/female</td>\n",
       "      <td>non-opiate-only</td>\n",
       "      <td>Count</td>\n",
       "      <td>6610</td>\n",
       "      <td>clients-in-treatment</td>\n",
       "    </tr>\n",
       "    <tr>\n",
       "      <th>5</th>\n",
       "      <td>gregorian-interval/2017-04-01T00:00:00/P1Y</td>\n",
       "      <td>gender/total</td>\n",
       "      <td>non-opiate-only</td>\n",
       "      <td>Count</td>\n",
       "      <td>23730</td>\n",
       "      <td>clients-in-treatment</td>\n",
       "    </tr>\n",
       "    <tr>\n",
       "      <th>6</th>\n",
       "      <td>gregorian-interval/2017-04-01T00:00:00/P1Y</td>\n",
       "      <td>gender/male</td>\n",
       "      <td>non-opiate-and-alcohol</td>\n",
       "      <td>Count</td>\n",
       "      <td>20279</td>\n",
       "      <td>clients-in-treatment</td>\n",
       "    </tr>\n",
       "    <tr>\n",
       "      <th>7</th>\n",
       "      <td>gregorian-interval/2017-04-01T00:00:00/P1Y</td>\n",
       "      <td>gender/female</td>\n",
       "      <td>non-opiate-and-alcohol</td>\n",
       "      <td>Count</td>\n",
       "      <td>7405</td>\n",
       "      <td>clients-in-treatment</td>\n",
       "    </tr>\n",
       "    <tr>\n",
       "      <th>8</th>\n",
       "      <td>gregorian-interval/2017-04-01T00:00:00/P1Y</td>\n",
       "      <td>gender/total</td>\n",
       "      <td>non-opiate-and-alcohol</td>\n",
       "      <td>Count</td>\n",
       "      <td>27684</td>\n",
       "      <td>clients-in-treatment</td>\n",
       "    </tr>\n",
       "    <tr>\n",
       "      <th>9</th>\n",
       "      <td>gregorian-interval/2017-04-01T00:00:00/P1Y</td>\n",
       "      <td>gender/male</td>\n",
       "      <td>alcohol-only</td>\n",
       "      <td>Count</td>\n",
       "      <td>45668</td>\n",
       "      <td>clients-in-treatment</td>\n",
       "    </tr>\n",
       "    <tr>\n",
       "      <th>10</th>\n",
       "      <td>gregorian-interval/2017-04-01T00:00:00/P1Y</td>\n",
       "      <td>gender/female</td>\n",
       "      <td>alcohol-only</td>\n",
       "      <td>Count</td>\n",
       "      <td>30119</td>\n",
       "      <td>clients-in-treatment</td>\n",
       "    </tr>\n",
       "    <tr>\n",
       "      <th>11</th>\n",
       "      <td>gregorian-interval/2017-04-01T00:00:00/P1Y</td>\n",
       "      <td>gender/total</td>\n",
       "      <td>alcohol-only</td>\n",
       "      <td>Count</td>\n",
       "      <td>75787</td>\n",
       "      <td>clients-in-treatment</td>\n",
       "    </tr>\n",
       "    <tr>\n",
       "      <th>12</th>\n",
       "      <td>gregorian-interval/2017-04-01T00:00:00/P1Y</td>\n",
       "      <td>gender/male</td>\n",
       "      <td>total</td>\n",
       "      <td>Count</td>\n",
       "      <td>185870</td>\n",
       "      <td>clients-in-treatment</td>\n",
       "    </tr>\n",
       "    <tr>\n",
       "      <th>13</th>\n",
       "      <td>gregorian-interval/2017-04-01T00:00:00/P1Y</td>\n",
       "      <td>gender/female</td>\n",
       "      <td>total</td>\n",
       "      <td>Count</td>\n",
       "      <td>82520</td>\n",
       "      <td>clients-in-treatment</td>\n",
       "    </tr>\n",
       "    <tr>\n",
       "      <th>14</th>\n",
       "      <td>gregorian-interval/2017-04-01T00:00:00/P1Y</td>\n",
       "      <td>gender/total</td>\n",
       "      <td>total</td>\n",
       "      <td>Count</td>\n",
       "      <td>268390</td>\n",
       "      <td>clients-in-treatment</td>\n",
       "    </tr>\n",
       "  </tbody>\n",
       "</table>\n",
       "</div>"
      ],
      "text/plain": [
       "                                        Period Basis of treatment  \\\n",
       "0   gregorian-interval/2017-04-01T00:00:00/P1Y        gender/male   \n",
       "1   gregorian-interval/2017-04-01T00:00:00/P1Y      gender/female   \n",
       "2   gregorian-interval/2017-04-01T00:00:00/P1Y       gender/total   \n",
       "3   gregorian-interval/2017-04-01T00:00:00/P1Y        gender/male   \n",
       "4   gregorian-interval/2017-04-01T00:00:00/P1Y      gender/female   \n",
       "5   gregorian-interval/2017-04-01T00:00:00/P1Y       gender/total   \n",
       "6   gregorian-interval/2017-04-01T00:00:00/P1Y        gender/male   \n",
       "7   gregorian-interval/2017-04-01T00:00:00/P1Y      gender/female   \n",
       "8   gregorian-interval/2017-04-01T00:00:00/P1Y       gender/total   \n",
       "9   gregorian-interval/2017-04-01T00:00:00/P1Y        gender/male   \n",
       "10  gregorian-interval/2017-04-01T00:00:00/P1Y      gender/female   \n",
       "11  gregorian-interval/2017-04-01T00:00:00/P1Y       gender/total   \n",
       "12  gregorian-interval/2017-04-01T00:00:00/P1Y        gender/male   \n",
       "13  gregorian-interval/2017-04-01T00:00:00/P1Y      gender/female   \n",
       "14  gregorian-interval/2017-04-01T00:00:00/P1Y       gender/total   \n",
       "\n",
       "            Substance type Measure Type   Value                  Unit  \n",
       "0                   opiate        Count  102803  clients-in-treatment  \n",
       "1                   opiate        Count   38386  clients-in-treatment  \n",
       "2                   opiate        Count  141189  clients-in-treatment  \n",
       "3          non-opiate-only        Count   17120  clients-in-treatment  \n",
       "4          non-opiate-only        Count    6610  clients-in-treatment  \n",
       "5          non-opiate-only        Count   23730  clients-in-treatment  \n",
       "6   non-opiate-and-alcohol        Count   20279  clients-in-treatment  \n",
       "7   non-opiate-and-alcohol        Count    7405  clients-in-treatment  \n",
       "8   non-opiate-and-alcohol        Count   27684  clients-in-treatment  \n",
       "9             alcohol-only        Count   45668  clients-in-treatment  \n",
       "10            alcohol-only        Count   30119  clients-in-treatment  \n",
       "11            alcohol-only        Count   75787  clients-in-treatment  \n",
       "12                   total        Count  185870  clients-in-treatment  \n",
       "13                   total        Count   82520  clients-in-treatment  \n",
       "14                   total        Count  268390  clients-in-treatment  "
      ]
     },
     "execution_count": 9,
     "metadata": {},
     "output_type": "execute_result"
    }
   ],
   "source": [
    "new_table"
   ]
  },
  {
   "cell_type": "code",
   "execution_count": null,
   "metadata": {
    "collapsed": true
   },
   "outputs": [],
   "source": []
  }
 ],
 "metadata": {
  "kernelspec": {
   "display_name": "Python 3",
   "language": "python",
   "name": "python3"
  },
  "language_info": {
   "codemirror_mode": {
    "name": "ipython",
    "version": 3
   },
   "file_extension": ".py",
   "mimetype": "text/x-python",
   "name": "python",
   "nbconvert_exporter": "python",
   "pygments_lexer": "ipython3",
   "version": "3.6.3"
  }
 },
 "nbformat": 4,
 "nbformat_minor": 2
}
