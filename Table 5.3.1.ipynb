{
 "cells": [
  {
   "cell_type": "markdown",
   "metadata": {},
   "source": [
    "Table 5.3.1: Clients retained to treatment for at least 12 weeks or completing treatment earlier"
   ]
  },
  {
   "cell_type": "code",
   "execution_count": 1,
   "metadata": {
    "collapsed": true
   },
   "outputs": [],
   "source": [
    "from gssutils import *\n",
    "\n",
    "if is_interactive():\n",
    "    import requests\n",
    "    from cachecontrol import CacheControl\n",
    "    from cachecontrol.caches.file_cache import FileCache\n",
    "    from cachecontrol.heuristics import LastModified\n",
    "    from pathlib import Path\n",
    "\n",
    "    session = CacheControl(requests.Session(),\n",
    "                           cache=FileCache('.cache'),\n",
    "                           heuristic=LastModified())\n",
    "\n",
    "    sourceFolder = Path('in')\n",
    "    sourceFolder.mkdir(exist_ok=True)\n",
    "\n",
    "    inputURL = 'https://assets.publishing.service.gov.uk/government/uploads/system/uploads/attachment_data/file/752515/AdultSubstanceMisuseNDTMSDataTables2017-18.xlsx'\n",
    "    inputFile = sourceFolder / 'AdultSubstanceMisuseNDTMSDataTables2017-18.xlsx'\n",
    "    response = session.get(inputURL)\n",
    "    with open(inputFile, 'wb') as f:\n",
    "      f.write(response.content)    "
   ]
  },
  {
   "cell_type": "code",
   "execution_count": 2,
   "metadata": {},
   "outputs": [
    {
     "name": "stdout",
     "output_type": "stream",
     "text": [
      "Loading in\\AdultSubstanceMisuseNDTMSDataTables2017-18.xlsx which has size 272149 bytes\n",
      "Table names: ['Table 5.3.1']\n"
     ]
    }
   ],
   "source": [
    "tab = loadxlstabs(inputFile, sheetids='Table 5.3.1')[0]"
   ]
  },
  {
   "cell_type": "markdown",
   "metadata": {},
   "source": [
    "https://assets.publishing.service.gov.uk/government/uploads/system/uploads/attachment_data/file/752515/AdultSubstanceMisuseNDTMSDataTables2017-18.xlsx"
   ]
  },
  {
   "cell_type": "code",
   "execution_count": 3,
   "metadata": {},
   "outputs": [
    {
     "data": {
      "text/plain": [
       "{<B6 23730.0>, <B9 268390.0>, <B7 27684.0>, <C6 20048.0>, <B8 75787.0>, <D7 0.861580696431152>, <D9 0.915015462573121>, <C8 67897.0>, <C5 133784.0>, <D8 0.895892435378099>, <D5 0.947552571375957>, <B5 141189.0>, <C9 245581.0>, <C7 23852.0>, <D6 0.844837758112094>}"
      ]
     },
     "execution_count": 3,
     "metadata": {},
     "output_type": "execute_result"
    }
   ],
   "source": [
    "observations = tab.excel_ref('B5').expand(DOWN).expand(RIGHT).is_not_blank()\n",
    "observations"
   ]
  },
  {
   "cell_type": "code",
   "execution_count": 4,
   "metadata": {},
   "outputs": [
    {
     "data": {
      "text/plain": [
       "{<A8 'Alcohol only'>, <A9 'Total'>, <A7 'Non-opiate and Alcohol'>, <A5 'Opiate'>, <A6 'Non-opiate only'>}"
      ]
     },
     "execution_count": 4,
     "metadata": {},
     "output_type": "execute_result"
    }
   ],
   "source": [
    "substance = tab.excel_ref('A5').expand(DOWN).is_not_blank() \n",
    "substance"
   ]
  },
  {
   "cell_type": "code",
   "execution_count": 5,
   "metadata": {},
   "outputs": [
    {
     "data": {
      "text/plain": [
       "{<C3 'Number retained in treatment for at least 12 weeks or completing treatment earlier'>, <B3 'Number in contact with treatment services'>}"
      ]
     },
     "execution_count": 5,
     "metadata": {},
     "output_type": "execute_result"
    }
   ],
   "source": [
    "clients = tab.excel_ref('B3').expand(RIGHT).is_not_blank()\n",
    "clients"
   ]
  },
  {
   "cell_type": "code",
   "execution_count": 6,
   "metadata": {},
   "outputs": [
    {
     "data": {
      "text/plain": [
       "{<D4 '%'>, <C4 'n'>, <B4 'n'>}"
      ]
     },
     "execution_count": 6,
     "metadata": {},
     "output_type": "execute_result"
    }
   ],
   "source": [
    "MeasureType = tab.excel_ref('B4').expand(RIGHT).is_not_blank()\n",
    "MeasureType"
   ]
  },
  {
   "cell_type": "code",
   "execution_count": 7,
   "metadata": {
    "collapsed": true
   },
   "outputs": [],
   "source": [
    "Dimensions = [\n",
    "            HDim(clients,'Clients in treatment',CLOSEST,LEFT),\n",
    "            HDim(substance,'Substane',DIRECTLY,LEFT),\n",
    "            HDim(MeasureType,'Measure Type',DIRECTLY,ABOVE),\n",
    "            HDimConst('Unit','People')            \n",
    "            ]"
   ]
  },
  {
   "cell_type": "code",
   "execution_count": 8,
   "metadata": {
    "collapsed": true
   },
   "outputs": [],
   "source": [
    "c1 = ConversionSegment(observations, Dimensions, processTIMEUNIT=True)\n",
    "# if is_interactive():\n",
    "#     savepreviewhtml(c1)"
   ]
  },
  {
   "cell_type": "code",
   "execution_count": 9,
   "metadata": {},
   "outputs": [
    {
     "name": "stdout",
     "output_type": "stream",
     "text": [
      "\n"
     ]
    },
    {
     "data": {
      "text/html": [
       "<div>\n",
       "<style scoped>\n",
       "    .dataframe tbody tr th:only-of-type {\n",
       "        vertical-align: middle;\n",
       "    }\n",
       "\n",
       "    .dataframe tbody tr th {\n",
       "        vertical-align: top;\n",
       "    }\n",
       "\n",
       "    .dataframe thead th {\n",
       "        text-align: right;\n",
       "    }\n",
       "</style>\n",
       "<table border=\"1\" class=\"dataframe\">\n",
       "  <thead>\n",
       "    <tr style=\"text-align: right;\">\n",
       "      <th></th>\n",
       "      <th>OBS</th>\n",
       "      <th>Clients in treatment</th>\n",
       "      <th>Substane</th>\n",
       "      <th>Measure Type</th>\n",
       "      <th>Unit</th>\n",
       "    </tr>\n",
       "  </thead>\n",
       "  <tbody>\n",
       "    <tr>\n",
       "      <th>0</th>\n",
       "      <td>141189.000000</td>\n",
       "      <td>Number in contact with treatment services</td>\n",
       "      <td>Opiate</td>\n",
       "      <td>n</td>\n",
       "      <td>People</td>\n",
       "    </tr>\n",
       "    <tr>\n",
       "      <th>1</th>\n",
       "      <td>133784.000000</td>\n",
       "      <td>Number retained in treatment for at least 12 w...</td>\n",
       "      <td>Opiate</td>\n",
       "      <td>n</td>\n",
       "      <td>People</td>\n",
       "    </tr>\n",
       "    <tr>\n",
       "      <th>2</th>\n",
       "      <td>0.947553</td>\n",
       "      <td>Number retained in treatment for at least 12 w...</td>\n",
       "      <td>Opiate</td>\n",
       "      <td>%</td>\n",
       "      <td>People</td>\n",
       "    </tr>\n",
       "    <tr>\n",
       "      <th>3</th>\n",
       "      <td>23730.000000</td>\n",
       "      <td>Number in contact with treatment services</td>\n",
       "      <td>Non-opiate only</td>\n",
       "      <td>n</td>\n",
       "      <td>People</td>\n",
       "    </tr>\n",
       "    <tr>\n",
       "      <th>4</th>\n",
       "      <td>20048.000000</td>\n",
       "      <td>Number retained in treatment for at least 12 w...</td>\n",
       "      <td>Non-opiate only</td>\n",
       "      <td>n</td>\n",
       "      <td>People</td>\n",
       "    </tr>\n",
       "    <tr>\n",
       "      <th>5</th>\n",
       "      <td>0.844838</td>\n",
       "      <td>Number retained in treatment for at least 12 w...</td>\n",
       "      <td>Non-opiate only</td>\n",
       "      <td>%</td>\n",
       "      <td>People</td>\n",
       "    </tr>\n",
       "    <tr>\n",
       "      <th>6</th>\n",
       "      <td>27684.000000</td>\n",
       "      <td>Number in contact with treatment services</td>\n",
       "      <td>Non-opiate and Alcohol</td>\n",
       "      <td>n</td>\n",
       "      <td>People</td>\n",
       "    </tr>\n",
       "    <tr>\n",
       "      <th>7</th>\n",
       "      <td>23852.000000</td>\n",
       "      <td>Number retained in treatment for at least 12 w...</td>\n",
       "      <td>Non-opiate and Alcohol</td>\n",
       "      <td>n</td>\n",
       "      <td>People</td>\n",
       "    </tr>\n",
       "    <tr>\n",
       "      <th>8</th>\n",
       "      <td>0.861581</td>\n",
       "      <td>Number retained in treatment for at least 12 w...</td>\n",
       "      <td>Non-opiate and Alcohol</td>\n",
       "      <td>%</td>\n",
       "      <td>People</td>\n",
       "    </tr>\n",
       "    <tr>\n",
       "      <th>9</th>\n",
       "      <td>75787.000000</td>\n",
       "      <td>Number in contact with treatment services</td>\n",
       "      <td>Alcohol only</td>\n",
       "      <td>n</td>\n",
       "      <td>People</td>\n",
       "    </tr>\n",
       "    <tr>\n",
       "      <th>10</th>\n",
       "      <td>67897.000000</td>\n",
       "      <td>Number retained in treatment for at least 12 w...</td>\n",
       "      <td>Alcohol only</td>\n",
       "      <td>n</td>\n",
       "      <td>People</td>\n",
       "    </tr>\n",
       "    <tr>\n",
       "      <th>11</th>\n",
       "      <td>0.895892</td>\n",
       "      <td>Number retained in treatment for at least 12 w...</td>\n",
       "      <td>Alcohol only</td>\n",
       "      <td>%</td>\n",
       "      <td>People</td>\n",
       "    </tr>\n",
       "    <tr>\n",
       "      <th>12</th>\n",
       "      <td>268390.000000</td>\n",
       "      <td>Number in contact with treatment services</td>\n",
       "      <td>Total</td>\n",
       "      <td>n</td>\n",
       "      <td>People</td>\n",
       "    </tr>\n",
       "    <tr>\n",
       "      <th>13</th>\n",
       "      <td>245581.000000</td>\n",
       "      <td>Number retained in treatment for at least 12 w...</td>\n",
       "      <td>Total</td>\n",
       "      <td>n</td>\n",
       "      <td>People</td>\n",
       "    </tr>\n",
       "    <tr>\n",
       "      <th>14</th>\n",
       "      <td>0.915015</td>\n",
       "      <td>Number retained in treatment for at least 12 w...</td>\n",
       "      <td>Total</td>\n",
       "      <td>%</td>\n",
       "      <td>People</td>\n",
       "    </tr>\n",
       "  </tbody>\n",
       "</table>\n",
       "</div>"
      ],
      "text/plain": [
       "              OBS                               Clients in treatment  \\\n",
       "0   141189.000000          Number in contact with treatment services   \n",
       "1   133784.000000  Number retained in treatment for at least 12 w...   \n",
       "2        0.947553  Number retained in treatment for at least 12 w...   \n",
       "3    23730.000000          Number in contact with treatment services   \n",
       "4    20048.000000  Number retained in treatment for at least 12 w...   \n",
       "5        0.844838  Number retained in treatment for at least 12 w...   \n",
       "6    27684.000000          Number in contact with treatment services   \n",
       "7    23852.000000  Number retained in treatment for at least 12 w...   \n",
       "8        0.861581  Number retained in treatment for at least 12 w...   \n",
       "9    75787.000000          Number in contact with treatment services   \n",
       "10   67897.000000  Number retained in treatment for at least 12 w...   \n",
       "11       0.895892  Number retained in treatment for at least 12 w...   \n",
       "12  268390.000000          Number in contact with treatment services   \n",
       "13  245581.000000  Number retained in treatment for at least 12 w...   \n",
       "14       0.915015  Number retained in treatment for at least 12 w...   \n",
       "\n",
       "                  Substane Measure Type    Unit  \n",
       "0                   Opiate            n  People  \n",
       "1                   Opiate            n  People  \n",
       "2                   Opiate            %  People  \n",
       "3          Non-opiate only            n  People  \n",
       "4          Non-opiate only            n  People  \n",
       "5          Non-opiate only            %  People  \n",
       "6   Non-opiate and Alcohol            n  People  \n",
       "7   Non-opiate and Alcohol            n  People  \n",
       "8   Non-opiate and Alcohol            %  People  \n",
       "9             Alcohol only            n  People  \n",
       "10            Alcohol only            n  People  \n",
       "11            Alcohol only            %  People  \n",
       "12                   Total            n  People  \n",
       "13                   Total            n  People  \n",
       "14                   Total            %  People  "
      ]
     },
     "execution_count": 9,
     "metadata": {},
     "output_type": "execute_result"
    }
   ],
   "source": [
    "new_table = c1.topandas()\n",
    "new_table"
   ]
  },
  {
   "cell_type": "code",
   "execution_count": 10,
   "metadata": {
    "collapsed": true
   },
   "outputs": [],
   "source": [
    "new_table = new_table[new_table['OBS'] != 0 ]"
   ]
  },
  {
   "cell_type": "code",
   "execution_count": 11,
   "metadata": {
    "collapsed": true
   },
   "outputs": [],
   "source": [
    "new_table.columns = ['Value' if x=='OBS' else x for x in new_table.columns]"
   ]
  },
  {
   "cell_type": "code",
   "execution_count": 12,
   "metadata": {},
   "outputs": [
    {
     "data": {
      "text/html": [
       "<div>\n",
       "<style scoped>\n",
       "    .dataframe tbody tr th:only-of-type {\n",
       "        vertical-align: middle;\n",
       "    }\n",
       "\n",
       "    .dataframe tbody tr th {\n",
       "        vertical-align: top;\n",
       "    }\n",
       "\n",
       "    .dataframe thead th {\n",
       "        text-align: right;\n",
       "    }\n",
       "</style>\n",
       "<table border=\"1\" class=\"dataframe\">\n",
       "  <thead>\n",
       "    <tr style=\"text-align: right;\">\n",
       "      <th></th>\n",
       "      <th>Value</th>\n",
       "      <th>Clients in treatment</th>\n",
       "      <th>Substane</th>\n",
       "      <th>Measure Type</th>\n",
       "      <th>Unit</th>\n",
       "    </tr>\n",
       "  </thead>\n",
       "  <tbody>\n",
       "    <tr>\n",
       "      <th>0</th>\n",
       "      <td>141189.000000</td>\n",
       "      <td>Number in contact with treatment services</td>\n",
       "      <td>Opiate</td>\n",
       "      <td>n</td>\n",
       "      <td>People</td>\n",
       "    </tr>\n",
       "    <tr>\n",
       "      <th>1</th>\n",
       "      <td>133784.000000</td>\n",
       "      <td>Number retained in treatment for at least 12 w...</td>\n",
       "      <td>Opiate</td>\n",
       "      <td>n</td>\n",
       "      <td>People</td>\n",
       "    </tr>\n",
       "    <tr>\n",
       "      <th>2</th>\n",
       "      <td>0.947553</td>\n",
       "      <td>Number retained in treatment for at least 12 w...</td>\n",
       "      <td>Opiate</td>\n",
       "      <td>%</td>\n",
       "      <td>People</td>\n",
       "    </tr>\n",
       "    <tr>\n",
       "      <th>3</th>\n",
       "      <td>23730.000000</td>\n",
       "      <td>Number in contact with treatment services</td>\n",
       "      <td>Non-opiate only</td>\n",
       "      <td>n</td>\n",
       "      <td>People</td>\n",
       "    </tr>\n",
       "    <tr>\n",
       "      <th>4</th>\n",
       "      <td>20048.000000</td>\n",
       "      <td>Number retained in treatment for at least 12 w...</td>\n",
       "      <td>Non-opiate only</td>\n",
       "      <td>n</td>\n",
       "      <td>People</td>\n",
       "    </tr>\n",
       "  </tbody>\n",
       "</table>\n",
       "</div>"
      ],
      "text/plain": [
       "           Value                               Clients in treatment  \\\n",
       "0  141189.000000          Number in contact with treatment services   \n",
       "1  133784.000000  Number retained in treatment for at least 12 w...   \n",
       "2       0.947553  Number retained in treatment for at least 12 w...   \n",
       "3   23730.000000          Number in contact with treatment services   \n",
       "4   20048.000000  Number retained in treatment for at least 12 w...   \n",
       "\n",
       "          Substane Measure Type    Unit  \n",
       "0           Opiate            n  People  \n",
       "1           Opiate            n  People  \n",
       "2           Opiate            %  People  \n",
       "3  Non-opiate only            n  People  \n",
       "4  Non-opiate only            n  People  "
      ]
     },
     "execution_count": 12,
     "metadata": {},
     "output_type": "execute_result"
    }
   ],
   "source": [
    "new_table.head()"
   ]
  },
  {
   "cell_type": "code",
   "execution_count": 13,
   "metadata": {},
   "outputs": [
    {
     "data": {
      "text/plain": [
       "array(['n', '%'], dtype=object)"
      ]
     },
     "execution_count": 13,
     "metadata": {},
     "output_type": "execute_result"
    }
   ],
   "source": [
    "new_table['Measure Type'].unique()"
   ]
  },
  {
   "cell_type": "code",
   "execution_count": 14,
   "metadata": {},
   "outputs": [],
   "source": [
    "new_table['Measure Type'] = new_table['Measure Type'].map(\n",
    "    lambda x: {\n",
    "        'n' : 'Count', \n",
    "        '%' : 'Percentage'\n",
    "        }.get(x, x))"
   ]
  },
  {
   "cell_type": "code",
   "execution_count": 15,
   "metadata": {},
   "outputs": [
    {
     "data": {
      "text/html": [
       "<div>\n",
       "<style scoped>\n",
       "    .dataframe tbody tr th:only-of-type {\n",
       "        vertical-align: middle;\n",
       "    }\n",
       "\n",
       "    .dataframe tbody tr th {\n",
       "        vertical-align: top;\n",
       "    }\n",
       "\n",
       "    .dataframe thead th {\n",
       "        text-align: right;\n",
       "    }\n",
       "</style>\n",
       "<table border=\"1\" class=\"dataframe\">\n",
       "  <thead>\n",
       "    <tr style=\"text-align: right;\">\n",
       "      <th></th>\n",
       "      <th>Value</th>\n",
       "      <th>Clients in treatment</th>\n",
       "      <th>Substane</th>\n",
       "      <th>Measure Type</th>\n",
       "      <th>Unit</th>\n",
       "    </tr>\n",
       "  </thead>\n",
       "  <tbody>\n",
       "    <tr>\n",
       "      <th>10</th>\n",
       "      <td>67897.000000</td>\n",
       "      <td>Number retained in treatment for at least 12 w...</td>\n",
       "      <td>Alcohol only</td>\n",
       "      <td>Count</td>\n",
       "      <td>People</td>\n",
       "    </tr>\n",
       "    <tr>\n",
       "      <th>11</th>\n",
       "      <td>0.895892</td>\n",
       "      <td>Number retained in treatment for at least 12 w...</td>\n",
       "      <td>Alcohol only</td>\n",
       "      <td>Percentage</td>\n",
       "      <td>People</td>\n",
       "    </tr>\n",
       "    <tr>\n",
       "      <th>12</th>\n",
       "      <td>268390.000000</td>\n",
       "      <td>Number in contact with treatment services</td>\n",
       "      <td>Total</td>\n",
       "      <td>Count</td>\n",
       "      <td>People</td>\n",
       "    </tr>\n",
       "    <tr>\n",
       "      <th>13</th>\n",
       "      <td>245581.000000</td>\n",
       "      <td>Number retained in treatment for at least 12 w...</td>\n",
       "      <td>Total</td>\n",
       "      <td>Count</td>\n",
       "      <td>People</td>\n",
       "    </tr>\n",
       "    <tr>\n",
       "      <th>14</th>\n",
       "      <td>0.915015</td>\n",
       "      <td>Number retained in treatment for at least 12 w...</td>\n",
       "      <td>Total</td>\n",
       "      <td>Percentage</td>\n",
       "      <td>People</td>\n",
       "    </tr>\n",
       "  </tbody>\n",
       "</table>\n",
       "</div>"
      ],
      "text/plain": [
       "            Value                               Clients in treatment  \\\n",
       "10   67897.000000  Number retained in treatment for at least 12 w...   \n",
       "11       0.895892  Number retained in treatment for at least 12 w...   \n",
       "12  268390.000000          Number in contact with treatment services   \n",
       "13  245581.000000  Number retained in treatment for at least 12 w...   \n",
       "14       0.915015  Number retained in treatment for at least 12 w...   \n",
       "\n",
       "        Substane Measure Type    Unit  \n",
       "10  Alcohol only        Count  People  \n",
       "11  Alcohol only   Percentage  People  \n",
       "12         Total        Count  People  \n",
       "13         Total        Count  People  \n",
       "14         Total   Percentage  People  "
      ]
     },
     "execution_count": 15,
     "metadata": {},
     "output_type": "execute_result"
    }
   ],
   "source": [
    "new_table.tail()"
   ]
  },
  {
   "cell_type": "code",
   "execution_count": 16,
   "metadata": {},
   "outputs": [
    {
     "data": {
      "text/plain": [
       "Value                   float64\n",
       "Clients in treatment     object\n",
       "Substane                 object\n",
       "Measure Type             object\n",
       "Unit                     object\n",
       "dtype: object"
      ]
     },
     "execution_count": 16,
     "metadata": {},
     "output_type": "execute_result"
    }
   ],
   "source": [
    "new_table.dtypes"
   ]
  },
  {
   "cell_type": "code",
   "execution_count": 17,
   "metadata": {},
   "outputs": [],
   "source": [
    "new_table['Value'] = new_table['Value'].astype(str)"
   ]
  },
  {
   "cell_type": "code",
   "execution_count": 18,
   "metadata": {},
   "outputs": [
    {
     "data": {
      "text/html": [
       "<div>\n",
       "<style scoped>\n",
       "    .dataframe tbody tr th:only-of-type {\n",
       "        vertical-align: middle;\n",
       "    }\n",
       "\n",
       "    .dataframe tbody tr th {\n",
       "        vertical-align: top;\n",
       "    }\n",
       "\n",
       "    .dataframe thead th {\n",
       "        text-align: right;\n",
       "    }\n",
       "</style>\n",
       "<table border=\"1\" class=\"dataframe\">\n",
       "  <thead>\n",
       "    <tr style=\"text-align: right;\">\n",
       "      <th></th>\n",
       "      <th>Value</th>\n",
       "      <th>Clients in treatment</th>\n",
       "      <th>Substane</th>\n",
       "      <th>Measure Type</th>\n",
       "      <th>Unit</th>\n",
       "    </tr>\n",
       "  </thead>\n",
       "  <tbody>\n",
       "    <tr>\n",
       "      <th>0</th>\n",
       "      <td>141189.0</td>\n",
       "      <td>Number in contact with treatment services</td>\n",
       "      <td>Opiate</td>\n",
       "      <td>Count</td>\n",
       "      <td>People</td>\n",
       "    </tr>\n",
       "    <tr>\n",
       "      <th>1</th>\n",
       "      <td>133784.0</td>\n",
       "      <td>Number retained in treatment for at least 12 w...</td>\n",
       "      <td>Opiate</td>\n",
       "      <td>Count</td>\n",
       "      <td>People</td>\n",
       "    </tr>\n",
       "    <tr>\n",
       "      <th>2</th>\n",
       "      <td>0.947552571375957</td>\n",
       "      <td>Number retained in treatment for at least 12 w...</td>\n",
       "      <td>Opiate</td>\n",
       "      <td>Percentage</td>\n",
       "      <td>People</td>\n",
       "    </tr>\n",
       "  </tbody>\n",
       "</table>\n",
       "</div>"
      ],
      "text/plain": [
       "               Value                               Clients in treatment  \\\n",
       "0           141189.0          Number in contact with treatment services   \n",
       "1           133784.0  Number retained in treatment for at least 12 w...   \n",
       "2  0.947552571375957  Number retained in treatment for at least 12 w...   \n",
       "\n",
       "  Substane Measure Type    Unit  \n",
       "0   Opiate        Count  People  \n",
       "1   Opiate        Count  People  \n",
       "2   Opiate   Percentage  People  "
      ]
     },
     "execution_count": 18,
     "metadata": {},
     "output_type": "execute_result"
    }
   ],
   "source": [
    "new_table.head(3)"
   ]
  },
  {
   "cell_type": "code",
   "execution_count": 19,
   "metadata": {},
   "outputs": [],
   "source": [
    "new_table['Substane'] = new_table['Substane'].map(\n",
    "    lambda x: {\n",
    "        'Total' : 'All' \n",
    "        }.get(x, x))"
   ]
  },
  {
   "cell_type": "code",
   "execution_count": 20,
   "metadata": {},
   "outputs": [
    {
     "data": {
      "text/html": [
       "<div>\n",
       "<style scoped>\n",
       "    .dataframe tbody tr th:only-of-type {\n",
       "        vertical-align: middle;\n",
       "    }\n",
       "\n",
       "    .dataframe tbody tr th {\n",
       "        vertical-align: top;\n",
       "    }\n",
       "\n",
       "    .dataframe thead th {\n",
       "        text-align: right;\n",
       "    }\n",
       "</style>\n",
       "<table border=\"1\" class=\"dataframe\">\n",
       "  <thead>\n",
       "    <tr style=\"text-align: right;\">\n",
       "      <th></th>\n",
       "      <th>Value</th>\n",
       "      <th>Clients in treatment</th>\n",
       "      <th>Substane</th>\n",
       "      <th>Measure Type</th>\n",
       "      <th>Unit</th>\n",
       "    </tr>\n",
       "  </thead>\n",
       "  <tbody>\n",
       "    <tr>\n",
       "      <th>10</th>\n",
       "      <td>67897.0</td>\n",
       "      <td>Number retained in treatment for at least 12 w...</td>\n",
       "      <td>Alcohol only</td>\n",
       "      <td>Count</td>\n",
       "      <td>People</td>\n",
       "    </tr>\n",
       "    <tr>\n",
       "      <th>11</th>\n",
       "      <td>0.895892435378099</td>\n",
       "      <td>Number retained in treatment for at least 12 w...</td>\n",
       "      <td>Alcohol only</td>\n",
       "      <td>Percentage</td>\n",
       "      <td>People</td>\n",
       "    </tr>\n",
       "    <tr>\n",
       "      <th>12</th>\n",
       "      <td>268390.0</td>\n",
       "      <td>Number in contact with treatment services</td>\n",
       "      <td>All</td>\n",
       "      <td>Count</td>\n",
       "      <td>People</td>\n",
       "    </tr>\n",
       "    <tr>\n",
       "      <th>13</th>\n",
       "      <td>245581.0</td>\n",
       "      <td>Number retained in treatment for at least 12 w...</td>\n",
       "      <td>All</td>\n",
       "      <td>Count</td>\n",
       "      <td>People</td>\n",
       "    </tr>\n",
       "    <tr>\n",
       "      <th>14</th>\n",
       "      <td>0.915015462573121</td>\n",
       "      <td>Number retained in treatment for at least 12 w...</td>\n",
       "      <td>All</td>\n",
       "      <td>Percentage</td>\n",
       "      <td>People</td>\n",
       "    </tr>\n",
       "  </tbody>\n",
       "</table>\n",
       "</div>"
      ],
      "text/plain": [
       "                Value                               Clients in treatment  \\\n",
       "10            67897.0  Number retained in treatment for at least 12 w...   \n",
       "11  0.895892435378099  Number retained in treatment for at least 12 w...   \n",
       "12           268390.0          Number in contact with treatment services   \n",
       "13           245581.0  Number retained in treatment for at least 12 w...   \n",
       "14  0.915015462573121  Number retained in treatment for at least 12 w...   \n",
       "\n",
       "        Substane Measure Type    Unit  \n",
       "10  Alcohol only        Count  People  \n",
       "11  Alcohol only   Percentage  People  \n",
       "12           All        Count  People  \n",
       "13           All        Count  People  \n",
       "14           All   Percentage  People  "
      ]
     },
     "execution_count": 20,
     "metadata": {},
     "output_type": "execute_result"
    }
   ],
   "source": [
    "new_table.tail()"
   ]
  },
  {
   "cell_type": "code",
   "execution_count": 21,
   "metadata": {
    "collapsed": true
   },
   "outputs": [],
   "source": [
    "new_table = new_table[['Substane','Clients in treatment','Measure Type','Value','Unit']]"
   ]
  },
  {
   "cell_type": "code",
   "execution_count": 22,
   "metadata": {
    "collapsed": true
   },
   "outputs": [],
   "source": [
    "if is_interactive():\n",
    "    SubstancetinationFolder = Path('out')\n",
    "    SubstancetinationFolder.mkdir(exist_ok=True, parents=True)\n",
    "    new_table.to_csv(SubstancetinationFolder / ('table5.3.1.csv'), index = False)"
   ]
  },
  {
   "cell_type": "code",
   "execution_count": null,
   "metadata": {
    "collapsed": true
   },
   "outputs": [],
   "source": []
  }
 ],
 "metadata": {
  "kernelspec": {
   "display_name": "Python 3",
   "language": "python",
   "name": "python3"
  },
  "language_info": {
   "codemirror_mode": {
    "name": "ipython",
    "version": 3
   },
   "file_extension": ".py",
   "mimetype": "text/x-python",
   "name": "python",
   "nbconvert_exporter": "python",
   "pygments_lexer": "ipython3",
   "version": "3.6.3"
  }
 },
 "nbformat": 4,
 "nbformat_minor": 2
}
