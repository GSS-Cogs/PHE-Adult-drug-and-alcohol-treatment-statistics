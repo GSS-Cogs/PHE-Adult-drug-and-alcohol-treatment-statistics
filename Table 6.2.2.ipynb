{
 "cells": [
  {
   "cell_type": "markdown",
   "metadata": {},
   "source": [
    "Table 6.2.2: Number and proportion of individuals who were smoking at the start of treatment and referred for smoking cessation interventions"
   ]
  },
  {
   "cell_type": "code",
   "execution_count": 1,
   "metadata": {
    "collapsed": true
   },
   "outputs": [],
   "source": [
    "from gssutils import *\n",
    "\n",
    "if is_interactive():\n",
    "    import requests\n",
    "    from cachecontrol import CacheControl\n",
    "    from cachecontrol.caches.file_cache import FileCache\n",
    "    from cachecontrol.heuristics import LastModified\n",
    "    from pathlib import Path\n",
    "\n",
    "    session = CacheControl(requests.Session(),\n",
    "                           cache=FileCache('.cache'),\n",
    "                           heuristic=LastModified())\n",
    "\n",
    "    sourceFolder = Path('in')\n",
    "    sourceFolder.mkdir(exist_ok=True)\n",
    "\n",
    "    inputURL = 'https://assets.publishing.service.gov.uk/government/uploads/system/uploads/attachment_data/file/752515/AdultSubstanceMisuseNDTMSDataTables2017-18.xlsx'\n",
    "    inputFile = sourceFolder / 'AdultSubstanceMisuseNDTMSDataTables2017-18.xlsx'\n",
    "    response = session.get(inputURL)\n",
    "    with open(inputFile, 'wb') as f:\n",
    "      f.write(response.content)    "
   ]
  },
  {
   "cell_type": "code",
   "execution_count": 2,
   "metadata": {},
   "outputs": [
    {
     "name": "stdout",
     "output_type": "stream",
     "text": [
      "Loading in\\AdultSubstanceMisuseNDTMSDataTables2017-18.xlsx which has size 272149 bytes\n",
      "Table names: ['Table 6.2.2']\n"
     ]
    }
   ],
   "source": [
    "tab = loadxlstabs(inputFile, sheetids='Table 6.2.2')[0]"
   ]
  },
  {
   "cell_type": "markdown",
   "metadata": {},
   "source": [
    "https://assets.publishing.service.gov.uk/government/uploads/system/uploads/attachment_data/file/752515/AdultSubstanceMisuseNDTMSDataTables2017-18.xlsx"
   ]
  },
  {
   "cell_type": "code",
   "execution_count": 3,
   "metadata": {},
   "outputs": [
    {
     "data": {
      "text/plain": [
       "{<C4 586.0>, <B4 19117.0>, <C6 277.0>, <B7 14613.0>, <B6 6896.0>, <D8 0.030994291667571>, <C7 467.0>, <D4 0.0306533451901449>, <C5 98.0>, <B8 46073.0>, <C8 1428.0>, <D6 0.0401682134570766>, <D7 0.0319578457537809>, <D5 0.0179915549843951>, <B5 5447.0>}"
      ]
     },
     "execution_count": 3,
     "metadata": {},
     "output_type": "execute_result"
    }
   ],
   "source": [
    "observations = tab.excel_ref('B4').expand(DOWN).expand(RIGHT).is_not_blank()\n",
    "observations"
   ]
  },
  {
   "cell_type": "code",
   "execution_count": 4,
   "metadata": {},
   "outputs": [
    {
     "data": {
      "text/plain": [
       "{<A7 'Alcohol only'>, <A4 'Opiate'>, <A6 'Non-opiate and alcohol'>, <A8 'Total'>, <A5 'Non-opiate'>}"
      ]
     },
     "execution_count": 4,
     "metadata": {},
     "output_type": "execute_result"
    }
   ],
   "source": [
    "substance = tab.excel_ref('A4').expand(DOWN).is_not_blank() \n",
    "substance"
   ]
  },
  {
   "cell_type": "code",
   "execution_count": 5,
   "metadata": {},
   "outputs": [
    {
     "data": {
      "text/plain": [
       "{<D3 '%'>, <B3 'Clients smoking at the start of treatment'>, <C3 'Clients that received smoking cessation interventions'>}"
      ]
     },
     "execution_count": 5,
     "metadata": {},
     "output_type": "execute_result"
    }
   ],
   "source": [
    "clients = tab.excel_ref('B3').expand(RIGHT).is_not_blank()\n",
    "clients"
   ]
  },
  {
   "cell_type": "code",
   "execution_count": 6,
   "metadata": {},
   "outputs": [],
   "source": [
    "Dimensions = [\n",
    "            HDim(clients,'Clients in treatment',CLOSEST,LEFT),\n",
    "            HDim(substance,'Substance',DIRECTLY,LEFT),\n",
    "            HDimConst('Unit','People')            \n",
    "            ]"
   ]
  },
  {
   "cell_type": "code",
   "execution_count": 7,
   "metadata": {
    "collapsed": true
   },
   "outputs": [],
   "source": [
    "c1 = ConversionSegment(observations, Dimensions, processTIMEUNIT=True)\n",
    "# if is_interactive():\n",
    "#     savepreviewhtml(c1)"
   ]
  },
  {
   "cell_type": "code",
   "execution_count": 8,
   "metadata": {},
   "outputs": [
    {
     "name": "stdout",
     "output_type": "stream",
     "text": [
      "\n"
     ]
    },
    {
     "data": {
      "text/html": [
       "<div>\n",
       "<style scoped>\n",
       "    .dataframe tbody tr th:only-of-type {\n",
       "        vertical-align: middle;\n",
       "    }\n",
       "\n",
       "    .dataframe tbody tr th {\n",
       "        vertical-align: top;\n",
       "    }\n",
       "\n",
       "    .dataframe thead th {\n",
       "        text-align: right;\n",
       "    }\n",
       "</style>\n",
       "<table border=\"1\" class=\"dataframe\">\n",
       "  <thead>\n",
       "    <tr style=\"text-align: right;\">\n",
       "      <th></th>\n",
       "      <th>OBS</th>\n",
       "      <th>Clients in treatment</th>\n",
       "      <th>Substance</th>\n",
       "      <th>Unit</th>\n",
       "    </tr>\n",
       "  </thead>\n",
       "  <tbody>\n",
       "    <tr>\n",
       "      <th>0</th>\n",
       "      <td>19117.000000</td>\n",
       "      <td>Clients smoking at the start of treatment</td>\n",
       "      <td>Opiate</td>\n",
       "      <td>People</td>\n",
       "    </tr>\n",
       "    <tr>\n",
       "      <th>1</th>\n",
       "      <td>586.000000</td>\n",
       "      <td>Clients that received smoking cessation interv...</td>\n",
       "      <td>Opiate</td>\n",
       "      <td>People</td>\n",
       "    </tr>\n",
       "    <tr>\n",
       "      <th>2</th>\n",
       "      <td>0.030653</td>\n",
       "      <td>%</td>\n",
       "      <td>Opiate</td>\n",
       "      <td>People</td>\n",
       "    </tr>\n",
       "    <tr>\n",
       "      <th>3</th>\n",
       "      <td>5447.000000</td>\n",
       "      <td>Clients smoking at the start of treatment</td>\n",
       "      <td>Non-opiate</td>\n",
       "      <td>People</td>\n",
       "    </tr>\n",
       "    <tr>\n",
       "      <th>4</th>\n",
       "      <td>98.000000</td>\n",
       "      <td>Clients that received smoking cessation interv...</td>\n",
       "      <td>Non-opiate</td>\n",
       "      <td>People</td>\n",
       "    </tr>\n",
       "    <tr>\n",
       "      <th>5</th>\n",
       "      <td>0.017992</td>\n",
       "      <td>%</td>\n",
       "      <td>Non-opiate</td>\n",
       "      <td>People</td>\n",
       "    </tr>\n",
       "    <tr>\n",
       "      <th>6</th>\n",
       "      <td>6896.000000</td>\n",
       "      <td>Clients smoking at the start of treatment</td>\n",
       "      <td>Non-opiate and alcohol</td>\n",
       "      <td>People</td>\n",
       "    </tr>\n",
       "    <tr>\n",
       "      <th>7</th>\n",
       "      <td>277.000000</td>\n",
       "      <td>Clients that received smoking cessation interv...</td>\n",
       "      <td>Non-opiate and alcohol</td>\n",
       "      <td>People</td>\n",
       "    </tr>\n",
       "    <tr>\n",
       "      <th>8</th>\n",
       "      <td>0.040168</td>\n",
       "      <td>%</td>\n",
       "      <td>Non-opiate and alcohol</td>\n",
       "      <td>People</td>\n",
       "    </tr>\n",
       "    <tr>\n",
       "      <th>9</th>\n",
       "      <td>14613.000000</td>\n",
       "      <td>Clients smoking at the start of treatment</td>\n",
       "      <td>Alcohol only</td>\n",
       "      <td>People</td>\n",
       "    </tr>\n",
       "    <tr>\n",
       "      <th>10</th>\n",
       "      <td>467.000000</td>\n",
       "      <td>Clients that received smoking cessation interv...</td>\n",
       "      <td>Alcohol only</td>\n",
       "      <td>People</td>\n",
       "    </tr>\n",
       "    <tr>\n",
       "      <th>11</th>\n",
       "      <td>0.031958</td>\n",
       "      <td>%</td>\n",
       "      <td>Alcohol only</td>\n",
       "      <td>People</td>\n",
       "    </tr>\n",
       "    <tr>\n",
       "      <th>12</th>\n",
       "      <td>46073.000000</td>\n",
       "      <td>Clients smoking at the start of treatment</td>\n",
       "      <td>Total</td>\n",
       "      <td>People</td>\n",
       "    </tr>\n",
       "    <tr>\n",
       "      <th>13</th>\n",
       "      <td>1428.000000</td>\n",
       "      <td>Clients that received smoking cessation interv...</td>\n",
       "      <td>Total</td>\n",
       "      <td>People</td>\n",
       "    </tr>\n",
       "    <tr>\n",
       "      <th>14</th>\n",
       "      <td>0.030994</td>\n",
       "      <td>%</td>\n",
       "      <td>Total</td>\n",
       "      <td>People</td>\n",
       "    </tr>\n",
       "  </tbody>\n",
       "</table>\n",
       "</div>"
      ],
      "text/plain": [
       "             OBS                               Clients in treatment  \\\n",
       "0   19117.000000          Clients smoking at the start of treatment   \n",
       "1     586.000000  Clients that received smoking cessation interv...   \n",
       "2       0.030653                                                  %   \n",
       "3    5447.000000          Clients smoking at the start of treatment   \n",
       "4      98.000000  Clients that received smoking cessation interv...   \n",
       "5       0.017992                                                  %   \n",
       "6    6896.000000          Clients smoking at the start of treatment   \n",
       "7     277.000000  Clients that received smoking cessation interv...   \n",
       "8       0.040168                                                  %   \n",
       "9   14613.000000          Clients smoking at the start of treatment   \n",
       "10    467.000000  Clients that received smoking cessation interv...   \n",
       "11      0.031958                                                  %   \n",
       "12  46073.000000          Clients smoking at the start of treatment   \n",
       "13   1428.000000  Clients that received smoking cessation interv...   \n",
       "14      0.030994                                                  %   \n",
       "\n",
       "                 Substance    Unit  \n",
       "0                   Opiate  People  \n",
       "1                   Opiate  People  \n",
       "2                   Opiate  People  \n",
       "3               Non-opiate  People  \n",
       "4               Non-opiate  People  \n",
       "5               Non-opiate  People  \n",
       "6   Non-opiate and alcohol  People  \n",
       "7   Non-opiate and alcohol  People  \n",
       "8   Non-opiate and alcohol  People  \n",
       "9             Alcohol only  People  \n",
       "10            Alcohol only  People  \n",
       "11            Alcohol only  People  \n",
       "12                   Total  People  \n",
       "13                   Total  People  \n",
       "14                   Total  People  "
      ]
     },
     "execution_count": 8,
     "metadata": {},
     "output_type": "execute_result"
    }
   ],
   "source": [
    "new_table = c1.topandas()\n",
    "new_table"
   ]
  },
  {
   "cell_type": "code",
   "execution_count": 9,
   "metadata": {
    "collapsed": true
   },
   "outputs": [],
   "source": [
    "new_table = new_table[new_table['OBS'] != 0 ]"
   ]
  },
  {
   "cell_type": "code",
   "execution_count": 10,
   "metadata": {
    "collapsed": true
   },
   "outputs": [],
   "source": [
    "new_table.columns = ['Value' if x=='OBS' else x for x in new_table.columns]"
   ]
  },
  {
   "cell_type": "code",
   "execution_count": 11,
   "metadata": {},
   "outputs": [
    {
     "data": {
      "text/html": [
       "<div>\n",
       "<style scoped>\n",
       "    .dataframe tbody tr th:only-of-type {\n",
       "        vertical-align: middle;\n",
       "    }\n",
       "\n",
       "    .dataframe tbody tr th {\n",
       "        vertical-align: top;\n",
       "    }\n",
       "\n",
       "    .dataframe thead th {\n",
       "        text-align: right;\n",
       "    }\n",
       "</style>\n",
       "<table border=\"1\" class=\"dataframe\">\n",
       "  <thead>\n",
       "    <tr style=\"text-align: right;\">\n",
       "      <th></th>\n",
       "      <th>Value</th>\n",
       "      <th>Clients in treatment</th>\n",
       "      <th>Substance</th>\n",
       "      <th>Unit</th>\n",
       "    </tr>\n",
       "  </thead>\n",
       "  <tbody>\n",
       "    <tr>\n",
       "      <th>0</th>\n",
       "      <td>19117.000000</td>\n",
       "      <td>Clients smoking at the start of treatment</td>\n",
       "      <td>Opiate</td>\n",
       "      <td>People</td>\n",
       "    </tr>\n",
       "    <tr>\n",
       "      <th>1</th>\n",
       "      <td>586.000000</td>\n",
       "      <td>Clients that received smoking cessation interv...</td>\n",
       "      <td>Opiate</td>\n",
       "      <td>People</td>\n",
       "    </tr>\n",
       "    <tr>\n",
       "      <th>2</th>\n",
       "      <td>0.030653</td>\n",
       "      <td>%</td>\n",
       "      <td>Opiate</td>\n",
       "      <td>People</td>\n",
       "    </tr>\n",
       "    <tr>\n",
       "      <th>3</th>\n",
       "      <td>5447.000000</td>\n",
       "      <td>Clients smoking at the start of treatment</td>\n",
       "      <td>Non-opiate</td>\n",
       "      <td>People</td>\n",
       "    </tr>\n",
       "    <tr>\n",
       "      <th>4</th>\n",
       "      <td>98.000000</td>\n",
       "      <td>Clients that received smoking cessation interv...</td>\n",
       "      <td>Non-opiate</td>\n",
       "      <td>People</td>\n",
       "    </tr>\n",
       "  </tbody>\n",
       "</table>\n",
       "</div>"
      ],
      "text/plain": [
       "          Value                               Clients in treatment  \\\n",
       "0  19117.000000          Clients smoking at the start of treatment   \n",
       "1    586.000000  Clients that received smoking cessation interv...   \n",
       "2      0.030653                                                  %   \n",
       "3   5447.000000          Clients smoking at the start of treatment   \n",
       "4     98.000000  Clients that received smoking cessation interv...   \n",
       "\n",
       "    Substance    Unit  \n",
       "0      Opiate  People  \n",
       "1      Opiate  People  \n",
       "2      Opiate  People  \n",
       "3  Non-opiate  People  \n",
       "4  Non-opiate  People  "
      ]
     },
     "execution_count": 11,
     "metadata": {},
     "output_type": "execute_result"
    }
   ],
   "source": [
    "new_table.head()"
   ]
  },
  {
   "cell_type": "code",
   "execution_count": 12,
   "metadata": {
    "collapsed": true
   },
   "outputs": [],
   "source": [
    "def user_perc(x):\n",
    "    \n",
    "    if str(x) == '%':\n",
    "        return 'Percentage'\n",
    "    else:\n",
    "        return 'Count'\n",
    "    \n",
    "new_table['Measure Type'] = new_table.apply(lambda row: user_perc(row['Clients in treatment']), axis = 1)\n"
   ]
  },
  {
   "cell_type": "code",
   "execution_count": 13,
   "metadata": {},
   "outputs": [],
   "source": [
    "new_table['Clients in treatment'] = new_table['Clients in treatment'].map(\n",
    "    lambda x: {\n",
    "        '%' : 'Percentage of clients received smoking cessation'\n",
    "        }.get(x, x))"
   ]
  },
  {
   "cell_type": "code",
   "execution_count": 14,
   "metadata": {},
   "outputs": [
    {
     "data": {
      "text/html": [
       "<div>\n",
       "<style scoped>\n",
       "    .dataframe tbody tr th:only-of-type {\n",
       "        vertical-align: middle;\n",
       "    }\n",
       "\n",
       "    .dataframe tbody tr th {\n",
       "        vertical-align: top;\n",
       "    }\n",
       "\n",
       "    .dataframe thead th {\n",
       "        text-align: right;\n",
       "    }\n",
       "</style>\n",
       "<table border=\"1\" class=\"dataframe\">\n",
       "  <thead>\n",
       "    <tr style=\"text-align: right;\">\n",
       "      <th></th>\n",
       "      <th>Value</th>\n",
       "      <th>Clients in treatment</th>\n",
       "      <th>Substance</th>\n",
       "      <th>Unit</th>\n",
       "      <th>Measure Type</th>\n",
       "    </tr>\n",
       "  </thead>\n",
       "  <tbody>\n",
       "    <tr>\n",
       "      <th>10</th>\n",
       "      <td>467.000000</td>\n",
       "      <td>Clients that received smoking cessation interv...</td>\n",
       "      <td>Alcohol only</td>\n",
       "      <td>People</td>\n",
       "      <td>Count</td>\n",
       "    </tr>\n",
       "    <tr>\n",
       "      <th>11</th>\n",
       "      <td>0.031958</td>\n",
       "      <td>Percentage of clients received smoking cessation</td>\n",
       "      <td>Alcohol only</td>\n",
       "      <td>People</td>\n",
       "      <td>Percentage</td>\n",
       "    </tr>\n",
       "    <tr>\n",
       "      <th>12</th>\n",
       "      <td>46073.000000</td>\n",
       "      <td>Clients smoking at the start of treatment</td>\n",
       "      <td>Total</td>\n",
       "      <td>People</td>\n",
       "      <td>Count</td>\n",
       "    </tr>\n",
       "    <tr>\n",
       "      <th>13</th>\n",
       "      <td>1428.000000</td>\n",
       "      <td>Clients that received smoking cessation interv...</td>\n",
       "      <td>Total</td>\n",
       "      <td>People</td>\n",
       "      <td>Count</td>\n",
       "    </tr>\n",
       "    <tr>\n",
       "      <th>14</th>\n",
       "      <td>0.030994</td>\n",
       "      <td>Percentage of clients received smoking cessation</td>\n",
       "      <td>Total</td>\n",
       "      <td>People</td>\n",
       "      <td>Percentage</td>\n",
       "    </tr>\n",
       "  </tbody>\n",
       "</table>\n",
       "</div>"
      ],
      "text/plain": [
       "           Value                               Clients in treatment  \\\n",
       "10    467.000000  Clients that received smoking cessation interv...   \n",
       "11      0.031958   Percentage of clients received smoking cessation   \n",
       "12  46073.000000          Clients smoking at the start of treatment   \n",
       "13   1428.000000  Clients that received smoking cessation interv...   \n",
       "14      0.030994   Percentage of clients received smoking cessation   \n",
       "\n",
       "       Substance    Unit Measure Type  \n",
       "10  Alcohol only  People        Count  \n",
       "11  Alcohol only  People   Percentage  \n",
       "12         Total  People        Count  \n",
       "13         Total  People        Count  \n",
       "14         Total  People   Percentage  "
      ]
     },
     "execution_count": 14,
     "metadata": {},
     "output_type": "execute_result"
    }
   ],
   "source": [
    "new_table.tail()"
   ]
  },
  {
   "cell_type": "code",
   "execution_count": 15,
   "metadata": {},
   "outputs": [
    {
     "data": {
      "text/plain": [
       "Value                   float64\n",
       "Clients in treatment     object\n",
       "Substance                object\n",
       "Unit                     object\n",
       "Measure Type             object\n",
       "dtype: object"
      ]
     },
     "execution_count": 15,
     "metadata": {},
     "output_type": "execute_result"
    }
   ],
   "source": [
    "new_table.dtypes"
   ]
  },
  {
   "cell_type": "code",
   "execution_count": 16,
   "metadata": {},
   "outputs": [],
   "source": [
    "new_table['Value'] = new_table['Value'].astype(str)"
   ]
  },
  {
   "cell_type": "code",
   "execution_count": 17,
   "metadata": {},
   "outputs": [
    {
     "data": {
      "text/html": [
       "<div>\n",
       "<style scoped>\n",
       "    .dataframe tbody tr th:only-of-type {\n",
       "        vertical-align: middle;\n",
       "    }\n",
       "\n",
       "    .dataframe tbody tr th {\n",
       "        vertical-align: top;\n",
       "    }\n",
       "\n",
       "    .dataframe thead th {\n",
       "        text-align: right;\n",
       "    }\n",
       "</style>\n",
       "<table border=\"1\" class=\"dataframe\">\n",
       "  <thead>\n",
       "    <tr style=\"text-align: right;\">\n",
       "      <th></th>\n",
       "      <th>Value</th>\n",
       "      <th>Clients in treatment</th>\n",
       "      <th>Substance</th>\n",
       "      <th>Unit</th>\n",
       "      <th>Measure Type</th>\n",
       "    </tr>\n",
       "  </thead>\n",
       "  <tbody>\n",
       "    <tr>\n",
       "      <th>0</th>\n",
       "      <td>19117.0</td>\n",
       "      <td>Clients smoking at the start of treatment</td>\n",
       "      <td>Opiate</td>\n",
       "      <td>People</td>\n",
       "      <td>Count</td>\n",
       "    </tr>\n",
       "    <tr>\n",
       "      <th>1</th>\n",
       "      <td>586.0</td>\n",
       "      <td>Clients that received smoking cessation interv...</td>\n",
       "      <td>Opiate</td>\n",
       "      <td>People</td>\n",
       "      <td>Count</td>\n",
       "    </tr>\n",
       "    <tr>\n",
       "      <th>2</th>\n",
       "      <td>0.0306533451901449</td>\n",
       "      <td>Percentage of clients received smoking cessation</td>\n",
       "      <td>Opiate</td>\n",
       "      <td>People</td>\n",
       "      <td>Percentage</td>\n",
       "    </tr>\n",
       "  </tbody>\n",
       "</table>\n",
       "</div>"
      ],
      "text/plain": [
       "                Value                               Clients in treatment  \\\n",
       "0             19117.0          Clients smoking at the start of treatment   \n",
       "1               586.0  Clients that received smoking cessation interv...   \n",
       "2  0.0306533451901449   Percentage of clients received smoking cessation   \n",
       "\n",
       "  Substance    Unit Measure Type  \n",
       "0    Opiate  People        Count  \n",
       "1    Opiate  People        Count  \n",
       "2    Opiate  People   Percentage  "
      ]
     },
     "execution_count": 17,
     "metadata": {},
     "output_type": "execute_result"
    }
   ],
   "source": [
    "new_table.head(3)"
   ]
  },
  {
   "cell_type": "code",
   "execution_count": 18,
   "metadata": {},
   "outputs": [
    {
     "data": {
      "text/html": [
       "<div>\n",
       "<style scoped>\n",
       "    .dataframe tbody tr th:only-of-type {\n",
       "        vertical-align: middle;\n",
       "    }\n",
       "\n",
       "    .dataframe tbody tr th {\n",
       "        vertical-align: top;\n",
       "    }\n",
       "\n",
       "    .dataframe thead th {\n",
       "        text-align: right;\n",
       "    }\n",
       "</style>\n",
       "<table border=\"1\" class=\"dataframe\">\n",
       "  <thead>\n",
       "    <tr style=\"text-align: right;\">\n",
       "      <th></th>\n",
       "      <th>Value</th>\n",
       "      <th>Clients in treatment</th>\n",
       "      <th>Substance</th>\n",
       "      <th>Unit</th>\n",
       "      <th>Measure Type</th>\n",
       "    </tr>\n",
       "  </thead>\n",
       "  <tbody>\n",
       "    <tr>\n",
       "      <th>10</th>\n",
       "      <td>467.0</td>\n",
       "      <td>Clients that received smoking cessation interv...</td>\n",
       "      <td>Alcohol only</td>\n",
       "      <td>People</td>\n",
       "      <td>Count</td>\n",
       "    </tr>\n",
       "    <tr>\n",
       "      <th>11</th>\n",
       "      <td>0.0319578457537809</td>\n",
       "      <td>Percentage of clients received smoking cessation</td>\n",
       "      <td>Alcohol only</td>\n",
       "      <td>People</td>\n",
       "      <td>Percentage</td>\n",
       "    </tr>\n",
       "    <tr>\n",
       "      <th>12</th>\n",
       "      <td>46073.0</td>\n",
       "      <td>Clients smoking at the start of treatment</td>\n",
       "      <td>Total</td>\n",
       "      <td>People</td>\n",
       "      <td>Count</td>\n",
       "    </tr>\n",
       "    <tr>\n",
       "      <th>13</th>\n",
       "      <td>1428.0</td>\n",
       "      <td>Clients that received smoking cessation interv...</td>\n",
       "      <td>Total</td>\n",
       "      <td>People</td>\n",
       "      <td>Count</td>\n",
       "    </tr>\n",
       "    <tr>\n",
       "      <th>14</th>\n",
       "      <td>0.030994291667571</td>\n",
       "      <td>Percentage of clients received smoking cessation</td>\n",
       "      <td>Total</td>\n",
       "      <td>People</td>\n",
       "      <td>Percentage</td>\n",
       "    </tr>\n",
       "  </tbody>\n",
       "</table>\n",
       "</div>"
      ],
      "text/plain": [
       "                 Value                               Clients in treatment  \\\n",
       "10               467.0  Clients that received smoking cessation interv...   \n",
       "11  0.0319578457537809   Percentage of clients received smoking cessation   \n",
       "12             46073.0          Clients smoking at the start of treatment   \n",
       "13              1428.0  Clients that received smoking cessation interv...   \n",
       "14   0.030994291667571   Percentage of clients received smoking cessation   \n",
       "\n",
       "       Substance    Unit Measure Type  \n",
       "10  Alcohol only  People        Count  \n",
       "11  Alcohol only  People   Percentage  \n",
       "12         Total  People        Count  \n",
       "13         Total  People        Count  \n",
       "14         Total  People   Percentage  "
      ]
     },
     "execution_count": 18,
     "metadata": {},
     "output_type": "execute_result"
    }
   ],
   "source": [
    "new_table.tail()"
   ]
  },
  {
   "cell_type": "code",
   "execution_count": 19,
   "metadata": {
    "collapsed": true
   },
   "outputs": [],
   "source": [
    "new_table = new_table[['Substance','Clients in treatment','Measure Type','Value','Unit']]"
   ]
  },
  {
   "cell_type": "code",
   "execution_count": 20,
   "metadata": {
    "collapsed": true
   },
   "outputs": [],
   "source": [
    "if is_interactive():\n",
    "    SubstancetinationFolder = Path('out')\n",
    "    SubstancetinationFolder.mkdir(exist_ok=True, parents=True)\n",
    "    new_table.to_csv(SubstancetinationFolder / ('table6.2.2.csv'), index = False)"
   ]
  },
  {
   "cell_type": "code",
   "execution_count": null,
   "metadata": {
    "collapsed": true
   },
   "outputs": [],
   "source": []
  }
 ],
 "metadata": {
  "kernelspec": {
   "display_name": "Python 3",
   "language": "python",
   "name": "python3"
  },
  "language_info": {
   "codemirror_mode": {
    "name": "ipython",
    "version": 3
   },
   "file_extension": ".py",
   "mimetype": "text/x-python",
   "name": "python",
   "nbconvert_exporter": "python",
   "pygments_lexer": "ipython3",
   "version": "3.6.3"
  }
 },
 "nbformat": 4,
 "nbformat_minor": 2
}
