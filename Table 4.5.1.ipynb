{
 "cells": [
  {
   "cell_type": "markdown",
   "metadata": {},
   "source": [
    "Table 4.5.1: Disability, new presentations to treatment"
   ]
  },
  {
   "cell_type": "code",
   "execution_count": 1,
   "metadata": {
    "collapsed": true
   },
   "outputs": [],
   "source": [
    "from gssutils import *\n",
    "\n",
    "if is_interactive():\n",
    "    scraper = Scraper('https://www.gov.uk/government/collections/alcohol-and-drug-misuse-and-treatment-statistics')\n",
    "    scraper.select_dataset(title=lambda x: x.startswith('Substance misuse treatment for adults'), latest=True)\n",
    "    tabs = {tab.name: tab for tab in scraper.distribution(title=lambda x: x.startswith('Data tables')).as_databaker()}"
   ]
  },
  {
   "cell_type": "code",
   "execution_count": 2,
   "metadata": {
    "collapsed": true
   },
   "outputs": [],
   "source": [
    "tab = tabs['Table 4.5.1']"
   ]
  },
  {
   "cell_type": "markdown",
   "metadata": {},
   "source": [
    "https://assets.publishing.service.gov.uk/government/uploads/system/uploads/attachment_data/file/752515/AdultSubstanceMisuseNDTMSDataTables2017-18.xlsx"
   ]
  },
  {
   "cell_type": "code",
   "execution_count": 3,
   "metadata": {
    "collapsed": true
   },
   "outputs": [],
   "source": [
    "cell = tab.filter('Disability')\n",
    "cell.assert_one()\n",
    "observations = tab.filter('n').fill(DOWN).is_not_blank().is_not_whitespace()\n",
    "disability = cell.expand(DOWN).is_not_blank().is_not_whitespace()\n",
    "Clients = cell.expand(RIGHT).is_not_blank().is_not_whitespace()\n",
    "Dimensions = [\n",
    "            HDim(disability,'Treatment group',DIRECTLY,LEFT),\n",
    "            HDim(Clients,'Clients in treatment',CLOSEST,LEFT),\n",
    "            HDimConst('Measure Type','Count'),\n",
    "            HDimConst('Unit',' clients in new treatment'),\n",
    "            HDimConst('Period', '2018-03-31T00:00:00/P1Y'),\n",
    "            HDimConst('Basis of treatment','disability')\n",
    "            ]"
   ]
  },
  {
   "cell_type": "code",
   "execution_count": 4,
   "metadata": {},
   "outputs": [
    {
     "data": {
      "text/html": [
       "<div id=\"injblock1001\">\n",
       "<style>\n",
       "table.ex, table.exkey { border: thin black solid }\n",
       "table.ex td, table.ex tr { border: none }\n",
       "table.ex td:hover { border: thin blue solid }\n",
       "table.ex td.excOBS:hover { border: thin red solid }\n",
       "table.ex td.selected { border: thick red solid }\n",
       "</style>\n",
       "\n",
       "\n",
       "<table class=\"exkey\">\n",
       "<tr><td class=\"xc0\" style=\"background-color:Aqua\">OBS</td><td class=\"xc1\" style=\"background-color:LightGreen\">Treatment group</td><td class=\"xc2\" style=\"background-color:MistyRose\">Clients in treatment</td></tr></table>\n",
       "\n",
       "<table class=\"ex\">\n",
       "<caption style=\"text-align:center; padding:0px; caption-side:bottom\">Table 4.5.1</caption>\n",
       "<tr><td title=\"0 0\">Table 4.5.1: Disability, new presentations to treatment</td><td title=\"1 0\"></td><td title=\"2 0\"></td><td title=\"3 0\"></td><td title=\"4 0\"></td><td title=\"5 0\"></td><td title=\"6 0\"></td><td title=\"7 0\"></td><td title=\"8 0\"></td><td title=\"9 0\"></td><td title=\"10 0\"></td></tr>\n",
       "<tr><td title=\"0 1\">Link back to the index</td><td title=\"1 1\"></td><td title=\"2 1\"></td><td title=\"3 1\"></td><td title=\"4 1\"></td><td title=\"5 1\"></td><td title=\"6 1\"></td><td title=\"7 1\"></td><td title=\"8 1\"></td><td title=\"9 1\"></td><td title=\"10 1\"></td></tr>\n",
       "<tr><td style=\"background-color:MistyRose\" title=\"0 2\">Disability</td><td style=\"background-color:MistyRose\" title=\"1 2\">Opiate</td><td title=\"2 2\"></td><td style=\"background-color:MistyRose\" title=\"3 2\">Non-opiate only</td><td title=\"4 2\"></td><td style=\"background-color:MistyRose\" title=\"5 2\">Non-opiate and Alcohol</td><td title=\"6 2\"></td><td style=\"background-color:MistyRose\" title=\"7 2\">Alcohol only</td><td title=\"8 2\"></td><td style=\"background-color:MistyRose\" title=\"9 2\">Total</td><td title=\"10 2\"></td></tr>\n",
       "<tr><td title=\"0 3\"></td><td title=\"1 3\">n</td><td title=\"2 3\">%</td><td title=\"3 3\">n</td><td title=\"4 3\">%</td><td title=\"5 3\">n</td><td title=\"6 3\">%</td><td title=\"7 3\">n</td><td title=\"8 3\">%</td><td title=\"9 3\">n</td><td title=\"10 3\">%</td></tr>\n",
       "<tr><td style=\"background-color:LightGreen\" title=\"0 4\">Behaviour and emotional</td><td style=\"background-color:Aqua\" title=\"1 4\">4352.0</td><td title=\"2 4\">0.105687503035602</td><td style=\"background-color:Aqua\" title=\"3 4\">1834.0</td><td title=\"4 4\">0.109715242881072</td><td style=\"background-color:Aqua\" title=\"5 4\">2181.0</td><td title=\"6 4\">0.116276590073039</td><td style=\"background-color:Aqua\" title=\"7 4\">4725.0</td><td title=\"8 4\">0.0932762160454833</td><td style=\"background-color:Aqua\" title=\"9 4\">13092.0</td><td title=\"10 4\">0.102838021475645</td></tr>\n",
       "<tr><td style=\"background-color:LightGreen\" title=\"0 5\">Hearing</td><td style=\"background-color:Aqua\" title=\"1 5\">217.0</td><td title=\"2 5\">0.00526980426441304</td><td style=\"background-color:Aqua\" title=\"3 5\">102.0</td><td title=\"4 5\">0.00610193826274228</td><td style=\"background-color:Aqua\" title=\"5 5\">138.0</td><td title=\"6 5\">0.00735725329210428</td><td style=\"background-color:Aqua\" title=\"7 5\">466.0</td><td title=\"8 5\">0.00919930511686671</td><td style=\"background-color:Aqua\" title=\"9 5\">923.0</td><td title=\"10 5\">0.00725019048441955</td></tr>\n",
       "<tr><td style=\"background-color:LightGreen\" title=\"0 6\">Manual dexterity</td><td style=\"background-color:Aqua\" title=\"1 6\">206.0</td><td title=\"2 6\">0.00500267132935062</td><td style=\"background-color:Aqua\" title=\"3 6\">51.0</td><td title=\"4 6\">0.00305096913137114</td><td style=\"background-color:Aqua\" title=\"5 6\">68.0</td><td title=\"6 6\">0.00362531321639921</td><td style=\"background-color:Aqua\" title=\"7 6\">254.0</td><td title=\"8 6\">0.0050142135186355</td><td style=\"background-color:Aqua\" title=\"9 6\">579.0</td><td title=\"10 6\">0.00454806098643437</td></tr>\n",
       "<tr><td style=\"background-color:LightGreen\" title=\"0 7\">Learning disability</td><td style=\"background-color:Aqua\" title=\"1 7\">857.0</td><td title=\"2 7\">0.0208120841225897</td><td style=\"background-color:Aqua\" title=\"3 7\">641.0</td><td title=\"4 7\">0.0383464943766451</td><td style=\"background-color:Aqua\" title=\"5 7\">561.0</td><td title=\"6 7\">0.0299088340352935</td><td style=\"background-color:Aqua\" title=\"7 7\">970.0</td><td title=\"8 7\">0.0191487681617183</td><td style=\"background-color:Aqua\" title=\"9 7\">3029.0</td><td title=\"10 7\">0.0237928786319684</td></tr>\n",
       "<tr><td style=\"background-color:LightGreen\" title=\"0 8\">Mobility and gross motor</td><td style=\"background-color:Aqua\" title=\"1 8\">1969.0</td><td title=\"2 8\">0.0478167953761717</td><td style=\"background-color:Aqua\" title=\"3 8\">430.0</td><td title=\"4 8\">0.0257238573821488</td><td style=\"background-color:Aqua\" title=\"5 8\">596.0</td><td title=\"6 8\">0.031774804073146</td><td style=\"background-color:Aqua\" title=\"7 8\">2830.0</td><td title=\"8 8\">0.0558670246367656</td><td style=\"background-color:Aqua\" title=\"9 8\">5825.0</td><td title=\"10 8\">0.0457555358307084</td></tr>\n",
       "<tr><td style=\"background-color:LightGreen\" title=\"0 9\">Perception of physical danger</td><td style=\"background-color:Aqua\" title=\"1 9\">97.0</td><td title=\"2 9\">0.00235562679100491</td><td style=\"background-color:Aqua\" title=\"3 9\">15.0</td><td title=\"4 9\">0.000897343862167983</td><td style=\"background-color:Aqua\" title=\"5 9\">42.0</td><td title=\"6 9\">0.00223916404542304</td><td style=\"background-color:Aqua\" title=\"7 9\">88.0</td><td title=\"8 9\">0.00173720783322805</td><td style=\"background-color:Aqua\" title=\"9 9\">242.0</td><td title=\"10 9\">0.00190091668172214</td></tr>\n",
       "<tr><td style=\"background-color:LightGreen\" title=\"0 10\">Personal, self-care and continence</td><td style=\"background-color:Aqua\" title=\"1 10\">168.0</td><td title=\"2 10\">0.00407984846277138</td><td style=\"background-color:Aqua\" title=\"3 10\">36.0</td><td title=\"4 10\">0.00215362526920316</td><td style=\"background-color:Aqua\" title=\"5 10\">66.0</td><td title=\"6 10\">0.00351868635709335</td><td style=\"background-color:Aqua\" title=\"7 10\">221.0</td><td title=\"8 10\">0.00436276058117498</td><td style=\"background-color:Aqua\" title=\"9 10\">491.0</td><td title=\"10 10\">0.00385681855671723</td></tr>\n",
       "<tr><td style=\"background-color:LightGreen\" title=\"0 11\">Progressive conditions and physical health</td><td style=\"background-color:Aqua\" title=\"1 11\">1456.0</td><td title=\"2 11\">0.035358686677352</td><td style=\"background-color:Aqua\" title=\"3 11\">333.0</td><td title=\"4 11\">0.0199210337401292</td><td style=\"background-color:Aqua\" title=\"5 11\">470.0</td><td title=\"6 11\">0.0250573119368769</td><td style=\"background-color:Aqua\" title=\"7 11\">1787.0</td><td title=\"8 11\">0.0352771636133923</td><td style=\"background-color:Aqua\" title=\"9 11\">4046.0</td><td title=\"10 11\">0.0317814417117676</td></tr>\n",
       "<tr><td style=\"background-color:LightGreen\" title=\"0 12\">Sight</td><td style=\"background-color:Aqua\" title=\"1 12\">269.0</td><td title=\"2 12\">0.00653261450288989</td><td style=\"background-color:Aqua\" title=\"3 12\">77.0</td><td title=\"4 12\">0.00460636515912898</td><td style=\"background-color:Aqua\" title=\"5 12\">104.0</td><td title=\"6 12\">0.00554459668390468</td><td style=\"background-color:Aqua\" title=\"7 12\">444.0</td><td title=\"8 12\">0.0087650031585597</td><td style=\"background-color:Aqua\" title=\"9 12\">894.0</td><td title=\"10 12\">0.00702239468371731</td></tr>\n",
       "<tr><td style=\"background-color:LightGreen\" title=\"0 13\">Speech</td><td style=\"background-color:Aqua\" title=\"1 13\">41.0</td><td title=\"2 13\">0.000995677303414445</td><td style=\"background-color:Aqua\" title=\"3 13\">27.0</td><td title=\"4 13\">0.00161521895190237</td><td style=\"background-color:Aqua\" title=\"5 13\">23.0</td><td title=\"6 13\">0.00122620888201738</td><td style=\"background-color:Aqua\" title=\"7 13\">85.0</td><td title=\"8 13\">0.00167798483891346</td><td style=\"background-color:Aqua\" title=\"9 13\">176.0</td><td title=\"10 13\">0.00138248485943428</td></tr>\n",
       "<tr><td style=\"background-color:LightGreen\" title=\"0 14\">Other</td><td style=\"background-color:Aqua\" title=\"1 14\">1146.0</td><td title=\"2 14\">0.0278303948710476</td><td style=\"background-color:Aqua\" title=\"3 14\">333.0</td><td title=\"4 14\">0.0199210337401292</td><td style=\"background-color:Aqua\" title=\"5 14\">439.0</td><td title=\"6 14\">0.0234045956176361</td><td style=\"background-color:Aqua\" title=\"7 14\">1282.0</td><td title=\"8 14\">0.0253079595704359</td><td style=\"background-color:Aqua\" title=\"9 14\">3200.0</td><td title=\"10 14\">0.0251360883533506</td></tr>\n",
       "<tr><td style=\"background-color:LightGreen\" title=\"0 15\">Not stated</td><td style=\"background-color:Aqua\" title=\"1 15\">3149.0</td><td title=\"2 15\">0.076472873864685</td><td style=\"background-color:Aqua\" title=\"3 15\">1073.0</td><td title=\"4 15\">0.064189997607083</td><td style=\"background-color:Aqua\" title=\"5 15\">1214.0</td><td title=\"6 15\">0.0647225035986565</td><td style=\"background-color:Aqua\" title=\"7 15\">3494.0</td><td title=\"8 15\">0.0689750473783955</td><td style=\"background-color:Aqua\" title=\"9 15\">8930.0</td><td title=\"10 15\">0.0701453965610689</td></tr>\n",
       "<tr><td style=\"background-color:LightGreen\" title=\"0 16\">Total number of citations</td><td style=\"background-color:Aqua\" title=\"1 16\">13927.0</td><td title=\"2 16\"></td><td style=\"background-color:Aqua\" title=\"3 16\">4952.0</td><td title=\"4 16\"></td><td style=\"background-color:Aqua\" title=\"5 16\">5902.0</td><td title=\"6 16\"></td><td style=\"background-color:Aqua\" title=\"7 16\">16646.0</td><td title=\"8 16\"></td><td style=\"background-color:Aqua\" title=\"9 16\">41427.0</td><td title=\"10 16\"></td></tr>\n",
       "<tr><td style=\"background-color:LightGreen\" title=\"0 17\">No disability</td><td style=\"background-color:Aqua\" title=\"1 17\">28405.0</td><td title=\"2 17\">0.689810092767983</td><td style=\"background-color:Aqua\" title=\"3 17\">11228.0</td><td title=\"4 17\">0.671691792294807</td><td style=\"background-color:Aqua\" title=\"5 17\">12709.0</td><td title=\"6 17\">0.677560377459082</td><td style=\"background-color:Aqua\" title=\"7 17\">35070.0</td><td title=\"8 17\">0.692316803537587</td><td style=\"background-color:Aqua\" title=\"9 17\">87412.0</td><td title=\"10 17\">0.686623673482212</td></tr>\n",
       "<tr><td style=\"background-color:LightGreen\" title=\"0 18\">Any disability</td><td style=\"background-color:Aqua\" title=\"1 18\">9035.0</td><td title=\"2 18\">0.219413278935354</td><td style=\"background-color:Aqua\" title=\"3 18\">3300.0</td><td title=\"4 18\">0.197415649676956</td><td style=\"background-color:Aqua\" title=\"5 18\">3879.0</td><td title=\"6 18\">0.206802793623714</td><td style=\"background-color:Aqua\" title=\"7 18\">10827.0</td><td title=\"8 18\">0.213735786481364</td><td style=\"background-color:Aqua\" title=\"9 18\">27041.0</td><td title=\"10 18\">0.212407801613423</td></tr>\n",
       "<tr><td style=\"background-color:LightGreen\" title=\"0 19\">Not stated</td><td style=\"background-color:Aqua\" title=\"1 19\">2875.0</td><td title=\"2 19\">0.0698188353004031</td><td style=\"background-color:Aqua\" title=\"3 19\">1004.0</td><td title=\"4 19\">0.0600622158411103</td><td style=\"background-color:Aqua\" title=\"5 19\">1079.0</td><td title=\"6 19\">0.057525190595511</td><td style=\"background-color:Aqua\" title=\"7 19\">3105.0</td><td title=\"8 19\">0.0612957991156033</td><td style=\"background-color:Aqua\" title=\"9 19\">8063.0</td><td title=\"10 19\">0.063335087622833</td></tr>\n",
       "<tr><td style=\"background-color:LightGreen\" title=\"0 20\">Inconsistent/missing</td><td style=\"background-color:Aqua\" title=\"1 20\">863.0</td><td title=\"2 20\">0.0209577929962601</td><td style=\"background-color:Aqua\" title=\"3 20\">1184.0</td><td title=\"4 20\">0.0708303421871261</td><td style=\"background-color:Aqua\" title=\"5 20\">1090.0</td><td title=\"6 20\">0.0581116383216932</td><td style=\"background-color:Aqua\" title=\"7 20\">1654.0</td><td title=\"8 20\">0.0326516108654454</td><td style=\"background-color:Aqua\" title=\"9 20\">4791.0</td><td title=\"10 20\">0.037633437281532</td></tr>\n",
       "<tr><td style=\"background-color:LightGreen\" title=\"0 21\">Total</td><td style=\"background-color:Aqua\" title=\"1 21\">41178.0</td><td title=\"2 21\">1.0</td><td style=\"background-color:Aqua\" title=\"3 21\">16716.0</td><td title=\"4 21\">1.0</td><td style=\"background-color:Aqua\" title=\"5 21\">18757.0</td><td title=\"6 21\">1.0</td><td style=\"background-color:Aqua\" title=\"7 21\">50656.0</td><td title=\"8 21\">1.0</td><td style=\"background-color:Aqua\" title=\"9 21\">127307.0</td><td title=\"10 21\">1.0</td></tr>\n",
       "</table>\n",
       "\n",
       "</div>\n",
       "\n",
       "<script>\n",
       "var jslookup = {\"7 8\":[0,8,7,2],\"3 16\":[0,16,3,2],\"7 18\":[0,18,7,2],\"1 12\":[0,12,1,2],\"3 14\":[0,14,3,2],\"1 10\":[0,10,1,2],\"7 21\":[0,21,7,2],\"7 6\":[0,6,7,2],\"9 4\":[0,4,9,2],\"3 20\":[0,20,3,2],\"7 15\":[0,15,7,2],\"7 11\":[0,11,7,2],\"5 15\":[0,15,5,2],\"9 6\":[0,6,9,2],\"9 9\":[0,9,9,2],\"3 12\":[0,12,3,2],\"7 7\":[0,7,7,2],\"9 19\":[0,19,9,2],\"3 17\":[0,17,3,2],\"1 15\":[0,15,1,2],\"3 15\":[0,15,3,2],\"3 8\":[0,8,3,2],\"9 15\":[0,15,9,2],\"9 10\":[0,10,9,2],\"9 21\":[0,21,9,2],\"5 4\":[0,4,5,2],\"9 14\":[0,14,9,2],\"7 14\":[0,14,7,2],\"5 12\":[0,12,5,2],\"1 21\":[0,21,1,2],\"3 21\":[0,21,3,2],\"1 14\":[0,14,1,2],\"1 19\":[0,19,1,2],\"1 6\":[0,6,1,2],\"5 18\":[0,18,5,2],\"9 13\":[0,13,9,2],\"7 19\":[0,19,7,2],\"3 6\":[0,6,3,2],\"9 20\":[0,20,9,2],\"5 8\":[0,8,5,2],\"3 13\":[0,13,3,2],\"5 21\":[0,21,5,2],\"1 11\":[0,11,1,2],\"9 18\":[0,18,9,2],\"1 9\":[0,9,1,2],\"9 7\":[0,7,9,2],\"1 4\":[0,4,1,2],\"7 16\":[0,16,7,2],\"7 20\":[0,20,7,2],\"3 19\":[0,19,3,2],\"5 7\":[0,7,5,2],\"5 20\":[0,20,5,2],\"3 18\":[0,18,3,2],\"9 16\":[0,16,9,2],\"7 17\":[0,17,7,2],\"7 5\":[0,5,7,2],\"3 9\":[0,9,3,2],\"7 10\":[0,10,7,2],\"1 5\":[0,5,1,2],\"9 11\":[0,11,9,2],\"1 13\":[0,13,1,2],\"5 13\":[0,13,5,2],\"1 18\":[0,18,1,2],\"3 10\":[0,10,3,2],\"5 17\":[0,17,5,2],\"5 5\":[0,5,5,2],\"3 5\":[0,5,3,2],\"5 10\":[0,10,5,2],\"9 5\":[0,5,9,2],\"3 4\":[0,4,3,2],\"7 4\":[0,4,7,2],\"9 8\":[0,8,9,2],\"9 17\":[0,17,9,2],\"3 7\":[0,7,3,2],\"9 12\":[0,12,9,2],\"5 19\":[0,19,5,2],\"5 9\":[0,9,5,2],\"1 20\":[0,20,1,2],\"1 16\":[0,16,1,2],\"1 8\":[0,8,1,2],\"3 11\":[0,11,3,2],\"5 16\":[0,16,5,2],\"5 6\":[0,6,5,2],\"1 17\":[0,17,1,2],\"7 9\":[0,9,7,2],\"7 13\":[0,13,7,2],\"1 7\":[0,7,1,2],\"5 11\":[0,11,5,2],\"7 12\":[0,12,7,2],\"5 14\":[0,14,5,2]}; \n",
       "var jdividNUM = \"injblock1001\"; \n",
       "var Dclickedcell = null; \n",
       "function clickedcell() \n",
       "{ \n",
       "    Dclickedcell = this; \n",
       "    console.log(\"jjjj\", this); \n",
       "    var rgc = new RegExp('(^|\\b)' + \"selected\".split(' ').join('|') + '(\\b|$)', 'gi'); \n",
       "    Array.prototype.forEach.call(document.querySelectorAll(\"div#\"+jdividNUM+\" table.ex td.selected\"), function(el, i) { \n",
       "        if (el.classList)  el.classList.remove(\"selected\");\n",
       "        else  el.className = el.className.replace(rgc, ' ');\n",
       "    }); \n",
       "    if (this.classList)  this.classList.add(\"selected\");\n",
       "    else this.className += ' ' + \"selected\";\n",
       "\n",
       "    var dimpairs = jslookup[this.title]; \n",
       "    if (dimpairs !== undefined) {\n",
       "        for (var i = 1; i < dimpairs.length; i += 2) {\n",
       "            var row = document.querySelectorAll(\"div#\"+jdividNUM+\" table.ex tr\")[dimpairs[i]]; \n",
       "            var el = row.querySelectorAll(\"td\")[dimpairs[i-1]]; \n",
       "            if (el.classList)  el.classList.add(\"selected\");\n",
       "            else el.className += ' ' + \"selected\";\n",
       "        }\n",
       "    }\n",
       "}\n",
       "Array.prototype.forEach.call(document.querySelectorAll(\"div#\"+jdividNUM+\" table.ex td\"), function(item, i) { item.onclick=clickedcell; }); \n",
       "</script>\n"
      ],
      "text/plain": [
       "<IPython.core.display.HTML object>"
      ]
     },
     "metadata": {},
     "output_type": "display_data"
    }
   ],
   "source": [
    "c1 = ConversionSegment(observations, Dimensions, processTIMEUNIT=True)\n",
    "if is_interactive():\n",
    "    savepreviewhtml(c1)"
   ]
  },
  {
   "cell_type": "code",
   "execution_count": 5,
   "metadata": {},
   "outputs": [
    {
     "name": "stdout",
     "output_type": "stream",
     "text": [
      "\n"
     ]
    }
   ],
   "source": [
    "new_table = c1.topandas()"
   ]
  },
  {
   "cell_type": "code",
   "execution_count": 6,
   "metadata": {
    "collapsed": true
   },
   "outputs": [],
   "source": [
    "import numpy as np\n",
    "new_table['OBS'].replace('', np.nan, inplace=True)\n",
    "new_table.dropna(subset=['OBS'], inplace=True)\n",
    "new_table.rename(columns={'OBS': 'Value'}, inplace=True)\n",
    "new_table['Value'] = new_table['Value'].astype(int)\n",
    "new_table['Value'] = new_table['Value'].map(lambda x:''\n",
    "                                  if (x == '-')\n",
    "                                  else int(x))"
   ]
  },
  {
   "cell_type": "code",
   "execution_count": 7,
   "metadata": {
    "collapsed": true
   },
   "outputs": [],
   "source": [
    "new_table['Treatment group'] = new_table['Treatment group'].map(\n",
    "    lambda x: {\n",
    "        'Total' : 'All' \n",
    "        }.get(x, x))"
   ]
  },
  {
   "cell_type": "code",
   "execution_count": 8,
   "metadata": {
    "collapsed": true
   },
   "outputs": [],
   "source": [
    "new_table['Clients in treatment'] = new_table['Clients in treatment'].map(\n",
    "    lambda x: {\n",
    "        'Total' : 'all clients',\n",
    "        }.get(x, x))"
   ]
  },
  {
   "cell_type": "code",
   "execution_count": 9,
   "metadata": {
    "collapsed": true
   },
   "outputs": [],
   "source": [
    "new_table = new_table[['Period','Basis of treatment','Treatment group','Clients in treatment','Measure Type','Value','Unit']]"
   ]
  },
  {
   "cell_type": "code",
   "execution_count": 10,
   "metadata": {
    "scrolled": true
   },
   "outputs": [
    {
     "data": {
      "text/html": [
       "<div>\n",
       "<style scoped>\n",
       "    .dataframe tbody tr th:only-of-type {\n",
       "        vertical-align: middle;\n",
       "    }\n",
       "\n",
       "    .dataframe tbody tr th {\n",
       "        vertical-align: top;\n",
       "    }\n",
       "\n",
       "    .dataframe thead th {\n",
       "        text-align: right;\n",
       "    }\n",
       "</style>\n",
       "<table border=\"1\" class=\"dataframe\">\n",
       "  <thead>\n",
       "    <tr style=\"text-align: right;\">\n",
       "      <th></th>\n",
       "      <th>Period</th>\n",
       "      <th>Basis of treatment</th>\n",
       "      <th>Treatment group</th>\n",
       "      <th>Clients in treatment</th>\n",
       "      <th>Measure Type</th>\n",
       "      <th>Value</th>\n",
       "      <th>Unit</th>\n",
       "    </tr>\n",
       "  </thead>\n",
       "  <tbody>\n",
       "    <tr>\n",
       "      <th>0</th>\n",
       "      <td>2018-03-31T00:00:00/P1Y</td>\n",
       "      <td>disability</td>\n",
       "      <td>Behaviour and emotional</td>\n",
       "      <td>Opiate</td>\n",
       "      <td>Count</td>\n",
       "      <td>4352</td>\n",
       "      <td>clients in new treatment</td>\n",
       "    </tr>\n",
       "    <tr>\n",
       "      <th>1</th>\n",
       "      <td>2018-03-31T00:00:00/P1Y</td>\n",
       "      <td>disability</td>\n",
       "      <td>Behaviour and emotional</td>\n",
       "      <td>Non-opiate only</td>\n",
       "      <td>Count</td>\n",
       "      <td>1834</td>\n",
       "      <td>clients in new treatment</td>\n",
       "    </tr>\n",
       "    <tr>\n",
       "      <th>2</th>\n",
       "      <td>2018-03-31T00:00:00/P1Y</td>\n",
       "      <td>disability</td>\n",
       "      <td>Behaviour and emotional</td>\n",
       "      <td>Non-opiate and Alcohol</td>\n",
       "      <td>Count</td>\n",
       "      <td>2181</td>\n",
       "      <td>clients in new treatment</td>\n",
       "    </tr>\n",
       "    <tr>\n",
       "      <th>3</th>\n",
       "      <td>2018-03-31T00:00:00/P1Y</td>\n",
       "      <td>disability</td>\n",
       "      <td>Behaviour and emotional</td>\n",
       "      <td>Alcohol only</td>\n",
       "      <td>Count</td>\n",
       "      <td>4725</td>\n",
       "      <td>clients in new treatment</td>\n",
       "    </tr>\n",
       "    <tr>\n",
       "      <th>4</th>\n",
       "      <td>2018-03-31T00:00:00/P1Y</td>\n",
       "      <td>disability</td>\n",
       "      <td>Behaviour and emotional</td>\n",
       "      <td>all clients</td>\n",
       "      <td>Count</td>\n",
       "      <td>13092</td>\n",
       "      <td>clients in new treatment</td>\n",
       "    </tr>\n",
       "  </tbody>\n",
       "</table>\n",
       "</div>"
      ],
      "text/plain": [
       "                    Period Basis of treatment          Treatment group  \\\n",
       "0  2018-03-31T00:00:00/P1Y         disability  Behaviour and emotional   \n",
       "1  2018-03-31T00:00:00/P1Y         disability  Behaviour and emotional   \n",
       "2  2018-03-31T00:00:00/P1Y         disability  Behaviour and emotional   \n",
       "3  2018-03-31T00:00:00/P1Y         disability  Behaviour and emotional   \n",
       "4  2018-03-31T00:00:00/P1Y         disability  Behaviour and emotional   \n",
       "\n",
       "     Clients in treatment Measure Type  Value                       Unit  \n",
       "0                  Opiate        Count   4352   clients in new treatment  \n",
       "1         Non-opiate only        Count   1834   clients in new treatment  \n",
       "2  Non-opiate and Alcohol        Count   2181   clients in new treatment  \n",
       "3            Alcohol only        Count   4725   clients in new treatment  \n",
       "4             all clients        Count  13092   clients in new treatment  "
      ]
     },
     "execution_count": 10,
     "metadata": {},
     "output_type": "execute_result"
    }
   ],
   "source": [
    "new_table.head()"
   ]
  },
  {
   "cell_type": "code",
   "execution_count": null,
   "metadata": {
    "collapsed": true
   },
   "outputs": [],
   "source": []
  }
 ],
 "metadata": {
  "kernelspec": {
   "display_name": "Python 3",
   "language": "python",
   "name": "python3"
  },
  "language_info": {
   "codemirror_mode": {
    "name": "ipython",
    "version": 3
   },
   "file_extension": ".py",
   "mimetype": "text/x-python",
   "name": "python",
   "nbconvert_exporter": "python",
   "pygments_lexer": "ipython3",
   "version": "3.6.3"
  }
 },
 "nbformat": 4,
 "nbformat_minor": 2
}
