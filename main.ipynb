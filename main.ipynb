{
 "cells": [
  {
   "cell_type": "markdown",
   "metadata": {},
   "source": [
    "AdultSubstanceMisuseNDTMSDataTables2017-18"
   ]
  },
  {
   "cell_type": "markdown",
   "metadata": {},
   "source": [
    "Data from 4 series compiled here for review other series, 5,6,7,8 need to be updated based on review comments, updated in trello"
   ]
  },
  {
   "cell_type": "code",
   "execution_count": 1,
   "metadata": {},
   "outputs": [
    {
     "data": {
      "text/markdown": [
       "## Alcohol and drug misuse and treatment statistics\n",
       "\n",
       "This is a catalog of datasets; choose one from the following:\n",
       "\n",
       "* Substance misuse treatment for adults: statistics 2017 to 2018\n",
       "* Substance misuse treatment for adults: statistics 2016 to 2017\n",
       "* Substance misuse treatment for young people: statistics 2017 to 2018\n",
       "* Substance misuse treatment for young people: statistics 2016 to 2017\n",
       "* Substance misuse treatment in secure settings: 2017 to 2018\n",
       "* Substance misuse treatment in secure settings: statistics 2016 to 2017\n",
       "* Substance misuse treatment in secure settings: statistics 2015 to 2016"
      ],
      "text/plain": [
       "<gssutils.scrape.Scraper at 0x282e0645160>"
      ]
     },
     "execution_count": 1,
     "metadata": {},
     "output_type": "execute_result"
    }
   ],
   "source": [
    "from gssutils import *\n",
    "scraper = Scraper('https://www.gov.uk/government/collections/alcohol-and-drug-misuse-and-treatment-statistics')\n",
    "scraper"
   ]
  },
  {
   "cell_type": "code",
   "execution_count": 2,
   "metadata": {},
   "outputs": [
    {
     "data": {
      "text/markdown": [
       "## Substance misuse treatment for adults: statistics 2017 to 2018\n",
       "\n",
       "Statistics on alcohol and drug misuse treatment for adults from PHE’s national drug treatment monitoring system (NDTMS).\n",
       "\n",
       "### Description\n",
       "\n",
       "Healthcare professionals can use these resources to understand:\n",
       "\n",
       "  * the availability and effectiveness of alcohol and drug treatment for adults in England\n",
       "  * trends in drug and alcohol use among adults receiving treatment\n",
       "  * the profile of adult patients accessing alcohol and drug treatment services\n",
       "\n",
       "The summary, the full report and tables present statistical analysis of\n",
       "treatment data from 1 April 2017 to 31 March 2018. Treatment centres from\n",
       "across England submitted the data to Public Health England (PHE).\n",
       "\n",
       "These treatment centres include:\n",
       "\n",
       "  * community-based specialist drug and alcohol services\n",
       "  * primary care services\n",
       "  * residential rehabilitation centres\n",
       "  * inpatient units\n",
       "\n",
       "PHE collects data on patients receiving treatment, details of their treatment\n",
       "and the outcomes.\n",
       "\n",
       "For previous annual statistical reports and data visit the [UK Government Web\n",
       "Archive](http://webarchive.nationalarchives.gov.uk/20170807160711/http://www.nta.nhs.uk/statistics.aspx).\n",
       "\n",
       "\n",
       "\n",
       "### Distributions\n",
       "\n",
       "1. Alcohol and drug treatment for adults: statistics summary 2017 to 2018 ([text/html](https://www.gov.uk/government/publications/substance-misuse-treatment-for-adults-statistics-2017-to-2018/alcohol-and-drug-treatment-for-adults-statistics-summary-2017-to-2018))\n",
       "1. Full report: adult substance misuse treatment statistics 2017 to 2018 ([application/pdf](https://assets.publishing.service.gov.uk/government/uploads/system/uploads/attachment_data/file/752993/AdultSubstanceMisuseStatisticsfromNDTMS2017-18.pdf))\n",
       "1. Data tables: adult substance misuse treatment statistics 2017 to 2018 ([application/vnd.openxmlformats-officedocument.spreadsheetml.sheet](https://assets.publishing.service.gov.uk/government/uploads/system/uploads/attachment_data/file/752515/AdultSubstanceMisuseNDTMSDataTables2017-18.xlsx))\n",
       "1. Pre-release access list: adult substance misuse statistics 2017 to 2018 ([text/html](https://www.gov.uk/government/publications/substance-misuse-treatment-for-adults-statistics-2017-to-2018/pre-release-access-list-adult-substance-misuse-statistics-2017-to-2018))\n"
      ],
      "text/plain": [
       "<gssutils.scrape.Scraper at 0x282e0645160>"
      ]
     },
     "execution_count": 2,
     "metadata": {},
     "output_type": "execute_result"
    }
   ],
   "source": [
    "scraper.select_dataset(title=lambda x: x.startswith('Substance misuse treatment for adults'), latest=True)\n",
    "scraper"
   ]
  },
  {
   "cell_type": "code",
   "execution_count": 3,
   "metadata": {},
   "outputs": [
    {
     "data": {
      "text/plain": [
       "dict_keys(['Index', 'Table 4.1.1', 'Table 4.1.2', 'Table 4.2.1', 'Table 4.3.1', 'Table 4.4.1', 'Table 4.5.1', 'Table 4.6.1', 'Table 4.7.1', 'Table 4.8.1', 'Table 4.9.1', 'Table 4.9.2', 'Table 4.10.1', 'Table 4.11.1', 'Table 4.12.1', 'Table 4.12.2', 'Table 4.12.3', 'Table 4.13.1', 'Table 5.1.1', 'Table 5.2.1', 'Table 5.2.2', 'Table 5.2.3', 'Table 5.2.4', 'Table 5.3.1', 'Table 6.1.1', 'Table 6.2.1', 'Table 6.2.2', 'Table 6.2.3', 'Table 7.1.1', 'Table 7.2.1', 'Table 7.3.1', 'Table 7.3.2', 'Table 7.4.1', 'Table 7.5.1', 'Table 8.1.1', 'Appendix B', 'Trends all clients in treatment', 'Trends new presentations'])"
      ]
     },
     "execution_count": 3,
     "metadata": {},
     "output_type": "execute_result"
    }
   ],
   "source": [
    "tabs = {tab.name: tab for tab in scraper.distribution(title=lambda x: x.startswith('Data tables')).as_databaker()}\n",
    "tabs.keys()"
   ]
  },
  {
   "cell_type": "code",
   "execution_count": 4,
   "metadata": {
    "collapsed": true
   },
   "outputs": [],
   "source": [
    "%%capture\n",
    "\n",
    "def process_tab(t):\n",
    "    %run \"$t\"\n",
    "    return new_table\n",
    "\n",
    "observations = pd.concat(\n",
    "    process_tab(f'{t}.ipynb') for t in tabs.keys() if t.startswith('Table 4')\n",
    ")"
   ]
  },
  {
   "cell_type": "code",
   "execution_count": 5,
   "metadata": {},
   "outputs": [
    {
     "data": {
      "text/html": [
       "<div>\n",
       "<style scoped>\n",
       "    .dataframe tbody tr th:only-of-type {\n",
       "        vertical-align: middle;\n",
       "    }\n",
       "\n",
       "    .dataframe tbody tr th {\n",
       "        vertical-align: top;\n",
       "    }\n",
       "\n",
       "    .dataframe thead th {\n",
       "        text-align: right;\n",
       "    }\n",
       "</style>\n",
       "<table border=\"1\" class=\"dataframe\">\n",
       "  <thead>\n",
       "    <tr style=\"text-align: right;\">\n",
       "      <th></th>\n",
       "      <th>Period</th>\n",
       "      <th>Basis of treatment</th>\n",
       "      <th>Substance type</th>\n",
       "      <th>Measure Type</th>\n",
       "      <th>Value</th>\n",
       "      <th>Unit</th>\n",
       "    </tr>\n",
       "  </thead>\n",
       "  <tbody>\n",
       "    <tr>\n",
       "      <th>0</th>\n",
       "      <td>gregorian-interval/2017-04-01T00:00:00/P1Y</td>\n",
       "      <td>substance/opiate-not-crack-cocaine</td>\n",
       "      <td>opiate</td>\n",
       "      <td>Count</td>\n",
       "      <td>77248</td>\n",
       "      <td>clients-in-treatment</td>\n",
       "    </tr>\n",
       "    <tr>\n",
       "      <th>1</th>\n",
       "      <td>gregorian-interval/2017-04-01T00:00:00/P1Y</td>\n",
       "      <td>substance/opiate-not-crack-cocaine</td>\n",
       "      <td>non-opiate-only</td>\n",
       "      <td>Count</td>\n",
       "      <td>0</td>\n",
       "      <td>clients-in-treatment</td>\n",
       "    </tr>\n",
       "    <tr>\n",
       "      <th>2</th>\n",
       "      <td>gregorian-interval/2017-04-01T00:00:00/P1Y</td>\n",
       "      <td>substance/opiate-not-crack-cocaine</td>\n",
       "      <td>non-opiate-and-alcohol</td>\n",
       "      <td>Count</td>\n",
       "      <td>0</td>\n",
       "      <td>clients-in-treatment</td>\n",
       "    </tr>\n",
       "    <tr>\n",
       "      <th>3</th>\n",
       "      <td>gregorian-interval/2017-04-01T00:00:00/P1Y</td>\n",
       "      <td>substance/opiate-not-crack-cocaine</td>\n",
       "      <td>alcohol-only</td>\n",
       "      <td>Count</td>\n",
       "      <td>0</td>\n",
       "      <td>clients-in-treatment</td>\n",
       "    </tr>\n",
       "    <tr>\n",
       "      <th>4</th>\n",
       "      <td>gregorian-interval/2017-04-01T00:00:00/P1Y</td>\n",
       "      <td>substance/opiate-not-crack-cocaine</td>\n",
       "      <td>total</td>\n",
       "      <td>Count</td>\n",
       "      <td>77248</td>\n",
       "      <td>clients-in-treatment</td>\n",
       "    </tr>\n",
       "  </tbody>\n",
       "</table>\n",
       "</div>"
      ],
      "text/plain": [
       "                                       Period  \\\n",
       "0  gregorian-interval/2017-04-01T00:00:00/P1Y   \n",
       "1  gregorian-interval/2017-04-01T00:00:00/P1Y   \n",
       "2  gregorian-interval/2017-04-01T00:00:00/P1Y   \n",
       "3  gregorian-interval/2017-04-01T00:00:00/P1Y   \n",
       "4  gregorian-interval/2017-04-01T00:00:00/P1Y   \n",
       "\n",
       "                   Basis of treatment          Substance type Measure Type  \\\n",
       "0  substance/opiate-not-crack-cocaine                  opiate        Count   \n",
       "1  substance/opiate-not-crack-cocaine         non-opiate-only        Count   \n",
       "2  substance/opiate-not-crack-cocaine  non-opiate-and-alcohol        Count   \n",
       "3  substance/opiate-not-crack-cocaine            alcohol-only        Count   \n",
       "4  substance/opiate-not-crack-cocaine                   total        Count   \n",
       "\n",
       "   Value                  Unit  \n",
       "0  77248  clients-in-treatment  \n",
       "1      0  clients-in-treatment  \n",
       "2      0  clients-in-treatment  \n",
       "3      0  clients-in-treatment  \n",
       "4  77248  clients-in-treatment  "
      ]
     },
     "execution_count": 5,
     "metadata": {},
     "output_type": "execute_result"
    }
   ],
   "source": [
    "observations.head()"
   ]
  },
  {
   "cell_type": "code",
   "execution_count": 6,
   "metadata": {
    "collapsed": true
   },
   "outputs": [],
   "source": [
    "out = Path('out')\n",
    "out.mkdir(exist_ok=True, parents=True)\n",
    "observations.drop_duplicates().to_csv(out / 'observations.csv', index=False)"
   ]
  },
  {
   "cell_type": "code",
   "execution_count": 7,
   "metadata": {
    "collapsed": true
   },
   "outputs": [],
   "source": [
    "from gssutils.metadata import THEME\n",
    "scraper.dataset.family = 'health'\n",
    "scraper.dataset.theme = THEME['health-social-care']\n",
    "with open(out / 'dataset.trig', 'wb') as metadata:\n",
    "    metadata.write(scraper.generate_trig())"
   ]
  }
 ],
 "metadata": {
  "kernelspec": {
   "display_name": "Python 3",
   "language": "python",
   "name": "python3"
  },
  "language_info": {
   "codemirror_mode": {
    "name": "ipython",
    "version": 3
   },
   "file_extension": ".py",
   "mimetype": "text/x-python",
   "name": "python",
   "nbconvert_exporter": "python",
   "pygments_lexer": "ipython3",
   "version": "3.6.3"
  }
 },
 "nbformat": 4,
 "nbformat_minor": 2
}
