{
 "cells": [
  {
   "cell_type": "markdown",
   "metadata": {},
   "source": [
    "incomplete"
   ]
  },
  {
   "cell_type": "code",
   "execution_count": 1,
   "metadata": {
    "collapsed": true
   },
   "outputs": [],
   "source": [
    "from gssutils import *\n",
    "\n",
    "if is_interactive():\n",
    "    import requests\n",
    "    from cachecontrol import CacheControl\n",
    "    from cachecontrol.caches.file_cache import FileCache\n",
    "    from cachecontrol.heuristics import LastModified\n",
    "    from pathlib import Path\n",
    "\n",
    "    session = CacheControl(requests.Session(),\n",
    "                           cache=FileCache('.cache'),\n",
    "                           heuristic=LastModified())\n",
    "\n",
    "    sourceFolder = Path('in')\n",
    "    sourceFolder.mkdir(exist_ok=True)\n",
    "\n",
    "    inputURL = 'https://assets.publishing.service.gov.uk/government/uploads/system/uploads/attachment_data/file/752515/AdultSubstanceMisuseNDTMSDataTables2017-18.xlsx'\n",
    "    inputFile = sourceFolder / 'AdultSubstanceMisuseNDTMSDataTables2017-18.xlsx'\n",
    "    response = session.get(inputURL)\n",
    "    with open(inputFile, 'wb') as f:\n",
    "      f.write(response.content)    "
   ]
  },
  {
   "cell_type": "code",
   "execution_count": 2,
   "metadata": {},
   "outputs": [
    {
     "name": "stdout",
     "output_type": "stream",
     "text": [
      "Loading in\\AdultSubstanceMisuseNDTMSDataTables2017-18.xlsx which has size 272149 bytes\n",
      "Table names: ['Table 5.2.1']\n"
     ]
    }
   ],
   "source": [
    "tab = loadxlstabs(inputFile, sheetids='Table 5.2.1')[0]"
   ]
  },
  {
   "cell_type": "markdown",
   "metadata": {},
   "source": [
    "https://assets.publishing.service.gov.uk/government/uploads/system/uploads/attachment_data/file/752515/AdultSubstanceMisuseNDTMSDataTables2017-18.xlsx"
   ]
  },
  {
   "cell_type": "code",
   "execution_count": 3,
   "metadata": {},
   "outputs": [
    {
     "data": {
      "text/plain": [
       "{<C5 4.0>, <C8 7.0>, <D4 8.0>, <D6 7.0>, <F4 1991.0>, <B8 4.0>, <E6 12.0>, <F5 4716.0>, <E5 12.0>, <B5 4690.0>, <E4 19.0>, <D7 44.0>, <D5 10.0>, <D8 0.0>, <C4 2.0>, <B4 1962.0>, <C7 25.0>, <B6 460.0>, <E8 0.0>, <B7 12427.0>, <E7 58.0>, <F7 12554.0>, <F6 480.0>, <F8 11.0>, <C6 1.0>}"
      ]
     },
     "execution_count": 3,
     "metadata": {},
     "output_type": "execute_result"
    }
   ],
   "source": [
    "observations = tab.excel_ref('B4').expand(DOWN).expand(RIGHT).is_not_blank()\n",
    "observations"
   ]
  },
  {
   "cell_type": "code",
   "execution_count": 5,
   "metadata": {},
   "outputs": [
    {
     "data": {
      "text/plain": [
       "{<A10 '*Individuals may have more than one type of intervention and so may appear on more than one row'>, <A5 'Structured day programme'>, <A7 'Structured intervention'>, <A6 'Residential rehabilitation'>, <A8 'Old YP intervention'>, <A4 'Inpatient detoxification'>}"
      ]
     },
     "execution_count": 5,
     "metadata": {},
     "output_type": "execute_result"
    }
   ],
   "source": [
    "intervention = tab.excel_ref('A4').expand(DOWN).is_not_blank()\n",
    "intervention"
   ]
  },
  {
   "cell_type": "code",
   "execution_count": 6,
   "metadata": {},
   "outputs": [
    {
     "data": {
      "text/plain": [
       "{<D3 'Non-opiate and Alcohol'>, <E3 'Alcohol only'>, <B3 'Opiate'>, <F3 'Total'>, <C3 'Non-opiate only'>}"
      ]
     },
     "execution_count": 6,
     "metadata": {},
     "output_type": "execute_result"
    }
   ],
   "source": [
    "clients = tab.excel_ref('B3').expand(RIGHT).is_not_blank()\n",
    "clients"
   ]
  },
  {
   "cell_type": "code",
   "execution_count": 7,
   "metadata": {
    "collapsed": true
   },
   "outputs": [],
   "source": [
    "Dimensions = [\n",
    "            HDim(intervention,'Intervention',DIRECTLY,LEFT),\n",
    "            HDim(clients,'Clients in treatment',CLOSEST,LEFT),\n",
    "            HDimConst('Measure Type','Count'),\n",
    "            HDimConst('Unit','People')            \n",
    "            ]"
   ]
  },
  {
   "cell_type": "code",
   "execution_count": 8,
   "metadata": {
    "collapsed": true
   },
   "outputs": [],
   "source": [
    "c1 = ConversionSegment(observations, Dimensions, processTIMEUNIT=True)\n",
    "# if is_interactive():\n",
    "#     savepreviewhtml(c1)"
   ]
  },
  {
   "cell_type": "code",
   "execution_count": 9,
   "metadata": {},
   "outputs": [
    {
     "name": "stdout",
     "output_type": "stream",
     "text": [
      "\n"
     ]
    },
    {
     "data": {
      "text/html": [
       "<div>\n",
       "<style scoped>\n",
       "    .dataframe tbody tr th:only-of-type {\n",
       "        vertical-align: middle;\n",
       "    }\n",
       "\n",
       "    .dataframe tbody tr th {\n",
       "        vertical-align: top;\n",
       "    }\n",
       "\n",
       "    .dataframe thead th {\n",
       "        text-align: right;\n",
       "    }\n",
       "</style>\n",
       "<table border=\"1\" class=\"dataframe\">\n",
       "  <thead>\n",
       "    <tr style=\"text-align: right;\">\n",
       "      <th></th>\n",
       "      <th>OBS</th>\n",
       "      <th>Intervention</th>\n",
       "      <th>Clients in treatment</th>\n",
       "      <th>Measure Type</th>\n",
       "      <th>Unit</th>\n",
       "    </tr>\n",
       "  </thead>\n",
       "  <tbody>\n",
       "    <tr>\n",
       "      <th>0</th>\n",
       "      <td>1962.0</td>\n",
       "      <td>Inpatient detoxification</td>\n",
       "      <td>Opiate</td>\n",
       "      <td>Count</td>\n",
       "      <td>People</td>\n",
       "    </tr>\n",
       "    <tr>\n",
       "      <th>1</th>\n",
       "      <td>2.0</td>\n",
       "      <td>Inpatient detoxification</td>\n",
       "      <td>Non-opiate only</td>\n",
       "      <td>Count</td>\n",
       "      <td>People</td>\n",
       "    </tr>\n",
       "    <tr>\n",
       "      <th>2</th>\n",
       "      <td>8.0</td>\n",
       "      <td>Inpatient detoxification</td>\n",
       "      <td>Non-opiate and Alcohol</td>\n",
       "      <td>Count</td>\n",
       "      <td>People</td>\n",
       "    </tr>\n",
       "    <tr>\n",
       "      <th>3</th>\n",
       "      <td>19.0</td>\n",
       "      <td>Inpatient detoxification</td>\n",
       "      <td>Alcohol only</td>\n",
       "      <td>Count</td>\n",
       "      <td>People</td>\n",
       "    </tr>\n",
       "    <tr>\n",
       "      <th>4</th>\n",
       "      <td>1991.0</td>\n",
       "      <td>Inpatient detoxification</td>\n",
       "      <td>Total</td>\n",
       "      <td>Count</td>\n",
       "      <td>People</td>\n",
       "    </tr>\n",
       "    <tr>\n",
       "      <th>5</th>\n",
       "      <td>4690.0</td>\n",
       "      <td>Structured day programme</td>\n",
       "      <td>Opiate</td>\n",
       "      <td>Count</td>\n",
       "      <td>People</td>\n",
       "    </tr>\n",
       "    <tr>\n",
       "      <th>6</th>\n",
       "      <td>4.0</td>\n",
       "      <td>Structured day programme</td>\n",
       "      <td>Non-opiate only</td>\n",
       "      <td>Count</td>\n",
       "      <td>People</td>\n",
       "    </tr>\n",
       "    <tr>\n",
       "      <th>7</th>\n",
       "      <td>10.0</td>\n",
       "      <td>Structured day programme</td>\n",
       "      <td>Non-opiate and Alcohol</td>\n",
       "      <td>Count</td>\n",
       "      <td>People</td>\n",
       "    </tr>\n",
       "    <tr>\n",
       "      <th>8</th>\n",
       "      <td>12.0</td>\n",
       "      <td>Structured day programme</td>\n",
       "      <td>Alcohol only</td>\n",
       "      <td>Count</td>\n",
       "      <td>People</td>\n",
       "    </tr>\n",
       "    <tr>\n",
       "      <th>9</th>\n",
       "      <td>4716.0</td>\n",
       "      <td>Structured day programme</td>\n",
       "      <td>Total</td>\n",
       "      <td>Count</td>\n",
       "      <td>People</td>\n",
       "    </tr>\n",
       "    <tr>\n",
       "      <th>10</th>\n",
       "      <td>460.0</td>\n",
       "      <td>Residential rehabilitation</td>\n",
       "      <td>Opiate</td>\n",
       "      <td>Count</td>\n",
       "      <td>People</td>\n",
       "    </tr>\n",
       "    <tr>\n",
       "      <th>11</th>\n",
       "      <td>1.0</td>\n",
       "      <td>Residential rehabilitation</td>\n",
       "      <td>Non-opiate only</td>\n",
       "      <td>Count</td>\n",
       "      <td>People</td>\n",
       "    </tr>\n",
       "    <tr>\n",
       "      <th>12</th>\n",
       "      <td>7.0</td>\n",
       "      <td>Residential rehabilitation</td>\n",
       "      <td>Non-opiate and Alcohol</td>\n",
       "      <td>Count</td>\n",
       "      <td>People</td>\n",
       "    </tr>\n",
       "    <tr>\n",
       "      <th>13</th>\n",
       "      <td>12.0</td>\n",
       "      <td>Residential rehabilitation</td>\n",
       "      <td>Alcohol only</td>\n",
       "      <td>Count</td>\n",
       "      <td>People</td>\n",
       "    </tr>\n",
       "    <tr>\n",
       "      <th>14</th>\n",
       "      <td>480.0</td>\n",
       "      <td>Residential rehabilitation</td>\n",
       "      <td>Total</td>\n",
       "      <td>Count</td>\n",
       "      <td>People</td>\n",
       "    </tr>\n",
       "    <tr>\n",
       "      <th>15</th>\n",
       "      <td>12427.0</td>\n",
       "      <td>Structured intervention</td>\n",
       "      <td>Opiate</td>\n",
       "      <td>Count</td>\n",
       "      <td>People</td>\n",
       "    </tr>\n",
       "    <tr>\n",
       "      <th>16</th>\n",
       "      <td>25.0</td>\n",
       "      <td>Structured intervention</td>\n",
       "      <td>Non-opiate only</td>\n",
       "      <td>Count</td>\n",
       "      <td>People</td>\n",
       "    </tr>\n",
       "    <tr>\n",
       "      <th>17</th>\n",
       "      <td>44.0</td>\n",
       "      <td>Structured intervention</td>\n",
       "      <td>Non-opiate and Alcohol</td>\n",
       "      <td>Count</td>\n",
       "      <td>People</td>\n",
       "    </tr>\n",
       "    <tr>\n",
       "      <th>18</th>\n",
       "      <td>58.0</td>\n",
       "      <td>Structured intervention</td>\n",
       "      <td>Alcohol only</td>\n",
       "      <td>Count</td>\n",
       "      <td>People</td>\n",
       "    </tr>\n",
       "    <tr>\n",
       "      <th>19</th>\n",
       "      <td>12554.0</td>\n",
       "      <td>Structured intervention</td>\n",
       "      <td>Total</td>\n",
       "      <td>Count</td>\n",
       "      <td>People</td>\n",
       "    </tr>\n",
       "    <tr>\n",
       "      <th>20</th>\n",
       "      <td>4.0</td>\n",
       "      <td>Old YP intervention</td>\n",
       "      <td>Opiate</td>\n",
       "      <td>Count</td>\n",
       "      <td>People</td>\n",
       "    </tr>\n",
       "    <tr>\n",
       "      <th>21</th>\n",
       "      <td>7.0</td>\n",
       "      <td>Old YP intervention</td>\n",
       "      <td>Non-opiate only</td>\n",
       "      <td>Count</td>\n",
       "      <td>People</td>\n",
       "    </tr>\n",
       "    <tr>\n",
       "      <th>22</th>\n",
       "      <td>0.0</td>\n",
       "      <td>Old YP intervention</td>\n",
       "      <td>Non-opiate and Alcohol</td>\n",
       "      <td>Count</td>\n",
       "      <td>People</td>\n",
       "    </tr>\n",
       "    <tr>\n",
       "      <th>23</th>\n",
       "      <td>0.0</td>\n",
       "      <td>Old YP intervention</td>\n",
       "      <td>Alcohol only</td>\n",
       "      <td>Count</td>\n",
       "      <td>People</td>\n",
       "    </tr>\n",
       "    <tr>\n",
       "      <th>24</th>\n",
       "      <td>11.0</td>\n",
       "      <td>Old YP intervention</td>\n",
       "      <td>Total</td>\n",
       "      <td>Count</td>\n",
       "      <td>People</td>\n",
       "    </tr>\n",
       "  </tbody>\n",
       "</table>\n",
       "</div>"
      ],
      "text/plain": [
       "        OBS                Intervention    Clients in treatment Measure Type  \\\n",
       "0    1962.0    Inpatient detoxification                  Opiate        Count   \n",
       "1       2.0    Inpatient detoxification         Non-opiate only        Count   \n",
       "2       8.0    Inpatient detoxification  Non-opiate and Alcohol        Count   \n",
       "3      19.0    Inpatient detoxification            Alcohol only        Count   \n",
       "4    1991.0    Inpatient detoxification                   Total        Count   \n",
       "5    4690.0    Structured day programme                  Opiate        Count   \n",
       "6       4.0    Structured day programme         Non-opiate only        Count   \n",
       "7      10.0    Structured day programme  Non-opiate and Alcohol        Count   \n",
       "8      12.0    Structured day programme            Alcohol only        Count   \n",
       "9    4716.0    Structured day programme                   Total        Count   \n",
       "10    460.0  Residential rehabilitation                  Opiate        Count   \n",
       "11      1.0  Residential rehabilitation         Non-opiate only        Count   \n",
       "12      7.0  Residential rehabilitation  Non-opiate and Alcohol        Count   \n",
       "13     12.0  Residential rehabilitation            Alcohol only        Count   \n",
       "14    480.0  Residential rehabilitation                   Total        Count   \n",
       "15  12427.0     Structured intervention                  Opiate        Count   \n",
       "16     25.0     Structured intervention         Non-opiate only        Count   \n",
       "17     44.0     Structured intervention  Non-opiate and Alcohol        Count   \n",
       "18     58.0     Structured intervention            Alcohol only        Count   \n",
       "19  12554.0     Structured intervention                   Total        Count   \n",
       "20      4.0         Old YP intervention                  Opiate        Count   \n",
       "21      7.0         Old YP intervention         Non-opiate only        Count   \n",
       "22      0.0         Old YP intervention  Non-opiate and Alcohol        Count   \n",
       "23      0.0         Old YP intervention            Alcohol only        Count   \n",
       "24     11.0         Old YP intervention                   Total        Count   \n",
       "\n",
       "      Unit  \n",
       "0   People  \n",
       "1   People  \n",
       "2   People  \n",
       "3   People  \n",
       "4   People  \n",
       "5   People  \n",
       "6   People  \n",
       "7   People  \n",
       "8   People  \n",
       "9   People  \n",
       "10  People  \n",
       "11  People  \n",
       "12  People  \n",
       "13  People  \n",
       "14  People  \n",
       "15  People  \n",
       "16  People  \n",
       "17  People  \n",
       "18  People  \n",
       "19  People  \n",
       "20  People  \n",
       "21  People  \n",
       "22  People  \n",
       "23  People  \n",
       "24  People  "
      ]
     },
     "execution_count": 9,
     "metadata": {},
     "output_type": "execute_result"
    }
   ],
   "source": [
    "new_table = c1.topandas()\n",
    "new_table"
   ]
  },
  {
   "cell_type": "code",
   "execution_count": 10,
   "metadata": {
    "collapsed": true
   },
   "outputs": [],
   "source": [
    "new_table = new_table[new_table['OBS'] != 0 ]"
   ]
  },
  {
   "cell_type": "code",
   "execution_count": 11,
   "metadata": {
    "collapsed": true
   },
   "outputs": [],
   "source": [
    "new_table.columns = ['Value' if x=='OBS' else x for x in new_table.columns]"
   ]
  },
  {
   "cell_type": "code",
   "execution_count": 12,
   "metadata": {},
   "outputs": [
    {
     "data": {
      "text/html": [
       "<div>\n",
       "<style scoped>\n",
       "    .dataframe tbody tr th:only-of-type {\n",
       "        vertical-align: middle;\n",
       "    }\n",
       "\n",
       "    .dataframe tbody tr th {\n",
       "        vertical-align: top;\n",
       "    }\n",
       "\n",
       "    .dataframe thead th {\n",
       "        text-align: right;\n",
       "    }\n",
       "</style>\n",
       "<table border=\"1\" class=\"dataframe\">\n",
       "  <thead>\n",
       "    <tr style=\"text-align: right;\">\n",
       "      <th></th>\n",
       "      <th>Value</th>\n",
       "      <th>Intervention</th>\n",
       "      <th>Clients in treatment</th>\n",
       "      <th>Measure Type</th>\n",
       "      <th>Unit</th>\n",
       "    </tr>\n",
       "  </thead>\n",
       "  <tbody>\n",
       "    <tr>\n",
       "      <th>0</th>\n",
       "      <td>1962.0</td>\n",
       "      <td>Inpatient detoxification</td>\n",
       "      <td>Opiate</td>\n",
       "      <td>Count</td>\n",
       "      <td>People</td>\n",
       "    </tr>\n",
       "    <tr>\n",
       "      <th>1</th>\n",
       "      <td>2.0</td>\n",
       "      <td>Inpatient detoxification</td>\n",
       "      <td>Non-opiate only</td>\n",
       "      <td>Count</td>\n",
       "      <td>People</td>\n",
       "    </tr>\n",
       "    <tr>\n",
       "      <th>2</th>\n",
       "      <td>8.0</td>\n",
       "      <td>Inpatient detoxification</td>\n",
       "      <td>Non-opiate and Alcohol</td>\n",
       "      <td>Count</td>\n",
       "      <td>People</td>\n",
       "    </tr>\n",
       "    <tr>\n",
       "      <th>3</th>\n",
       "      <td>19.0</td>\n",
       "      <td>Inpatient detoxification</td>\n",
       "      <td>Alcohol only</td>\n",
       "      <td>Count</td>\n",
       "      <td>People</td>\n",
       "    </tr>\n",
       "    <tr>\n",
       "      <th>4</th>\n",
       "      <td>1991.0</td>\n",
       "      <td>Inpatient detoxification</td>\n",
       "      <td>Total</td>\n",
       "      <td>Count</td>\n",
       "      <td>People</td>\n",
       "    </tr>\n",
       "  </tbody>\n",
       "</table>\n",
       "</div>"
      ],
      "text/plain": [
       "    Value              Intervention    Clients in treatment Measure Type  \\\n",
       "0  1962.0  Inpatient detoxification                  Opiate        Count   \n",
       "1     2.0  Inpatient detoxification         Non-opiate only        Count   \n",
       "2     8.0  Inpatient detoxification  Non-opiate and Alcohol        Count   \n",
       "3    19.0  Inpatient detoxification            Alcohol only        Count   \n",
       "4  1991.0  Inpatient detoxification                   Total        Count   \n",
       "\n",
       "     Unit  \n",
       "0  People  \n",
       "1  People  \n",
       "2  People  \n",
       "3  People  \n",
       "4  People  "
      ]
     },
     "execution_count": 12,
     "metadata": {},
     "output_type": "execute_result"
    }
   ],
   "source": [
    "new_table.head()"
   ]
  },
  {
   "cell_type": "code",
   "execution_count": 13,
   "metadata": {},
   "outputs": [
    {
     "data": {
      "text/html": [
       "<div>\n",
       "<style scoped>\n",
       "    .dataframe tbody tr th:only-of-type {\n",
       "        vertical-align: middle;\n",
       "    }\n",
       "\n",
       "    .dataframe tbody tr th {\n",
       "        vertical-align: top;\n",
       "    }\n",
       "\n",
       "    .dataframe thead th {\n",
       "        text-align: right;\n",
       "    }\n",
       "</style>\n",
       "<table border=\"1\" class=\"dataframe\">\n",
       "  <thead>\n",
       "    <tr style=\"text-align: right;\">\n",
       "      <th></th>\n",
       "      <th>Value</th>\n",
       "      <th>Intervention</th>\n",
       "      <th>Clients in treatment</th>\n",
       "      <th>Measure Type</th>\n",
       "      <th>Unit</th>\n",
       "    </tr>\n",
       "  </thead>\n",
       "  <tbody>\n",
       "    <tr>\n",
       "      <th>18</th>\n",
       "      <td>58.0</td>\n",
       "      <td>Structured intervention</td>\n",
       "      <td>Alcohol only</td>\n",
       "      <td>Count</td>\n",
       "      <td>People</td>\n",
       "    </tr>\n",
       "    <tr>\n",
       "      <th>19</th>\n",
       "      <td>12554.0</td>\n",
       "      <td>Structured intervention</td>\n",
       "      <td>Total</td>\n",
       "      <td>Count</td>\n",
       "      <td>People</td>\n",
       "    </tr>\n",
       "    <tr>\n",
       "      <th>20</th>\n",
       "      <td>4.0</td>\n",
       "      <td>Old YP intervention</td>\n",
       "      <td>Opiate</td>\n",
       "      <td>Count</td>\n",
       "      <td>People</td>\n",
       "    </tr>\n",
       "    <tr>\n",
       "      <th>21</th>\n",
       "      <td>7.0</td>\n",
       "      <td>Old YP intervention</td>\n",
       "      <td>Non-opiate only</td>\n",
       "      <td>Count</td>\n",
       "      <td>People</td>\n",
       "    </tr>\n",
       "    <tr>\n",
       "      <th>24</th>\n",
       "      <td>11.0</td>\n",
       "      <td>Old YP intervention</td>\n",
       "      <td>Total</td>\n",
       "      <td>Count</td>\n",
       "      <td>People</td>\n",
       "    </tr>\n",
       "  </tbody>\n",
       "</table>\n",
       "</div>"
      ],
      "text/plain": [
       "      Value             Intervention Clients in treatment Measure Type    Unit\n",
       "18     58.0  Structured intervention         Alcohol only        Count  People\n",
       "19  12554.0  Structured intervention                Total        Count  People\n",
       "20      4.0      Old YP intervention               Opiate        Count  People\n",
       "21      7.0      Old YP intervention      Non-opiate only        Count  People\n",
       "24     11.0      Old YP intervention                Total        Count  People"
      ]
     },
     "execution_count": 13,
     "metadata": {},
     "output_type": "execute_result"
    }
   ],
   "source": [
    "new_table.tail()"
   ]
  },
  {
   "cell_type": "code",
   "execution_count": 14,
   "metadata": {},
   "outputs": [
    {
     "data": {
      "text/plain": [
       "Value                   float64\n",
       "Intervention             object\n",
       "Clients in treatment     object\n",
       "Measure Type             object\n",
       "Unit                     object\n",
       "dtype: object"
      ]
     },
     "execution_count": 14,
     "metadata": {},
     "output_type": "execute_result"
    }
   ],
   "source": [
    "new_table.dtypes"
   ]
  },
  {
   "cell_type": "code",
   "execution_count": 15,
   "metadata": {},
   "outputs": [
    {
     "name": "stderr",
     "output_type": "stream",
     "text": [
      "C:\\ProgramData\\Anaconda3\\lib\\site-packages\\ipykernel_launcher.py:1: SettingWithCopyWarning: \n",
      "A value is trying to be set on a copy of a slice from a DataFrame.\n",
      "Try using .loc[row_indexer,col_indexer] = value instead\n",
      "\n",
      "See the caveats in the documentation: http://pandas.pydata.org/pandas-docs/stable/indexing.html#indexing-view-versus-copy\n",
      "  \"\"\"Entry point for launching an IPython kernel.\n"
     ]
    }
   ],
   "source": [
    "new_table['Value'] = new_table['Value'].astype(str)"
   ]
  },
  {
   "cell_type": "code",
   "execution_count": 16,
   "metadata": {},
   "outputs": [
    {
     "data": {
      "text/html": [
       "<div>\n",
       "<style scoped>\n",
       "    .dataframe tbody tr th:only-of-type {\n",
       "        vertical-align: middle;\n",
       "    }\n",
       "\n",
       "    .dataframe tbody tr th {\n",
       "        vertical-align: top;\n",
       "    }\n",
       "\n",
       "    .dataframe thead th {\n",
       "        text-align: right;\n",
       "    }\n",
       "</style>\n",
       "<table border=\"1\" class=\"dataframe\">\n",
       "  <thead>\n",
       "    <tr style=\"text-align: right;\">\n",
       "      <th></th>\n",
       "      <th>Value</th>\n",
       "      <th>Intervention</th>\n",
       "      <th>Clients in treatment</th>\n",
       "      <th>Measure Type</th>\n",
       "      <th>Unit</th>\n",
       "    </tr>\n",
       "  </thead>\n",
       "  <tbody>\n",
       "    <tr>\n",
       "      <th>0</th>\n",
       "      <td>1962.0</td>\n",
       "      <td>Inpatient detoxification</td>\n",
       "      <td>Opiate</td>\n",
       "      <td>Count</td>\n",
       "      <td>People</td>\n",
       "    </tr>\n",
       "    <tr>\n",
       "      <th>1</th>\n",
       "      <td>2.0</td>\n",
       "      <td>Inpatient detoxification</td>\n",
       "      <td>Non-opiate only</td>\n",
       "      <td>Count</td>\n",
       "      <td>People</td>\n",
       "    </tr>\n",
       "    <tr>\n",
       "      <th>2</th>\n",
       "      <td>8.0</td>\n",
       "      <td>Inpatient detoxification</td>\n",
       "      <td>Non-opiate and Alcohol</td>\n",
       "      <td>Count</td>\n",
       "      <td>People</td>\n",
       "    </tr>\n",
       "  </tbody>\n",
       "</table>\n",
       "</div>"
      ],
      "text/plain": [
       "    Value              Intervention    Clients in treatment Measure Type  \\\n",
       "0  1962.0  Inpatient detoxification                  Opiate        Count   \n",
       "1     2.0  Inpatient detoxification         Non-opiate only        Count   \n",
       "2     8.0  Inpatient detoxification  Non-opiate and Alcohol        Count   \n",
       "\n",
       "     Unit  \n",
       "0  People  \n",
       "1  People  \n",
       "2  People  "
      ]
     },
     "execution_count": 16,
     "metadata": {},
     "output_type": "execute_result"
    }
   ],
   "source": [
    "new_table.head(3)"
   ]
  },
  {
   "cell_type": "code",
   "execution_count": 18,
   "metadata": {},
   "outputs": [
    {
     "name": "stderr",
     "output_type": "stream",
     "text": [
      "C:\\ProgramData\\Anaconda3\\lib\\site-packages\\ipykernel_launcher.py:2: SettingWithCopyWarning: \n",
      "A value is trying to be set on a copy of a slice from a DataFrame.\n",
      "Try using .loc[row_indexer,col_indexer] = value instead\n",
      "\n",
      "See the caveats in the documentation: http://pandas.pydata.org/pandas-docs/stable/indexing.html#indexing-view-versus-copy\n",
      "  \n"
     ]
    }
   ],
   "source": [
    "new_table['Clients in treatment'] = new_table['Clients in treatment'].map(\n",
    "    lambda x: {\n",
    "        'Total' : 'All' \n",
    "        }.get(x, x))"
   ]
  },
  {
   "cell_type": "code",
   "execution_count": 19,
   "metadata": {},
   "outputs": [
    {
     "data": {
      "text/html": [
       "<div>\n",
       "<style scoped>\n",
       "    .dataframe tbody tr th:only-of-type {\n",
       "        vertical-align: middle;\n",
       "    }\n",
       "\n",
       "    .dataframe tbody tr th {\n",
       "        vertical-align: top;\n",
       "    }\n",
       "\n",
       "    .dataframe thead th {\n",
       "        text-align: right;\n",
       "    }\n",
       "</style>\n",
       "<table border=\"1\" class=\"dataframe\">\n",
       "  <thead>\n",
       "    <tr style=\"text-align: right;\">\n",
       "      <th></th>\n",
       "      <th>Value</th>\n",
       "      <th>Intervention</th>\n",
       "      <th>Clients in treatment</th>\n",
       "      <th>Measure Type</th>\n",
       "      <th>Unit</th>\n",
       "    </tr>\n",
       "  </thead>\n",
       "  <tbody>\n",
       "    <tr>\n",
       "      <th>0</th>\n",
       "      <td>1962.0</td>\n",
       "      <td>Inpatient detoxification</td>\n",
       "      <td>Opiate</td>\n",
       "      <td>Count</td>\n",
       "      <td>People</td>\n",
       "    </tr>\n",
       "    <tr>\n",
       "      <th>1</th>\n",
       "      <td>2.0</td>\n",
       "      <td>Inpatient detoxification</td>\n",
       "      <td>Non-opiate only</td>\n",
       "      <td>Count</td>\n",
       "      <td>People</td>\n",
       "    </tr>\n",
       "    <tr>\n",
       "      <th>2</th>\n",
       "      <td>8.0</td>\n",
       "      <td>Inpatient detoxification</td>\n",
       "      <td>Non-opiate and Alcohol</td>\n",
       "      <td>Count</td>\n",
       "      <td>People</td>\n",
       "    </tr>\n",
       "  </tbody>\n",
       "</table>\n",
       "</div>"
      ],
      "text/plain": [
       "    Value              Intervention    Clients in treatment Measure Type  \\\n",
       "0  1962.0  Inpatient detoxification                  Opiate        Count   \n",
       "1     2.0  Inpatient detoxification         Non-opiate only        Count   \n",
       "2     8.0  Inpatient detoxification  Non-opiate and Alcohol        Count   \n",
       "\n",
       "     Unit  \n",
       "0  People  \n",
       "1  People  \n",
       "2  People  "
      ]
     },
     "execution_count": 19,
     "metadata": {},
     "output_type": "execute_result"
    }
   ],
   "source": [
    "new_table.head(3)"
   ]
  },
  {
   "cell_type": "code",
   "execution_count": 20,
   "metadata": {
    "collapsed": true
   },
   "outputs": [],
   "source": [
    "new_table = new_table[['Intervention','Clients in treatment','Measure Type','Value','Unit']]"
   ]
  },
  {
   "cell_type": "code",
   "execution_count": 21,
   "metadata": {
    "collapsed": true
   },
   "outputs": [],
   "source": [
    "if is_interactive():\n",
    "    SubstancetinationFolder = Path('out')\n",
    "    SubstancetinationFolder.mkdir(exist_ok=True, parents=True)\n",
    "    new_table.to_csv(SubstancetinationFolder / ('table5.2.1.csv'), index = False)"
   ]
  },
  {
   "cell_type": "code",
   "execution_count": null,
   "metadata": {
    "collapsed": true
   },
   "outputs": [],
   "source": []
  }
 ],
 "metadata": {
  "kernelspec": {
   "display_name": "Python 3",
   "language": "python",
   "name": "python3"
  },
  "language_info": {
   "codemirror_mode": {
    "name": "ipython",
    "version": 3
   },
   "file_extension": ".py",
   "mimetype": "text/x-python",
   "name": "python",
   "nbconvert_exporter": "python",
   "pygments_lexer": "ipython3",
   "version": "3.6.3"
  }
 },
 "nbformat": 4,
 "nbformat_minor": 2
}
